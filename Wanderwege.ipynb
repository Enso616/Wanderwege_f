{
 "cells": [
  {
   "cell_type": "markdown",
   "metadata": {},
   "source": [
    "Wir erstellen eine neue Conda Umgebung wanderwege"
   ]
  },
  {
   "cell_type": "code",
   "execution_count": null,
   "metadata": {},
   "outputs": [],
   "source": [
    "conda create --name wanderwege\n",
    "conda activate wanderwege"
   ]
  },
  {
   "cell_type": "markdown",
   "metadata": {},
   "source": [
    "Wir benutzen Python 3.12.2 mit folenden Paketen"
   ]
  },
  {
   "cell_type": "code",
   "execution_count": null,
   "metadata": {},
   "outputs": [],
   "source": [
    "conda install pandas\n",
    "conda install -c anaconda sqlalchemy\n",
    "conda install -c conda-forge overpy\n",
    "conda install -c anaconda mysql-connector-python\n",
    "conda install -c conda-forge pymysql\n",
    "pip install overpy"
   ]
  },
  {
   "cell_type": "markdown",
   "metadata": {},
   "source": [
    "Wir importieren die Daten von Overpass als json und überführen sie in ein Dataframe"
   ]
  },
  {
   "cell_type": "code",
   "execution_count": null,
   "metadata": {},
   "outputs": [],
   "source": [
    "import overpy\n",
    "import pandas as pd\n",
    "\n",
    "# Initialisiere die Overpass API mit einer benutzerdefinierten URL\n",
    "api = overpy.Overpass(url=\"http://overpass.osm.ch/api/interpreter\")\n",
    "\n",
    "# Overpass Query für Wanderwege innerhalb der Schweiz. Mit Center erhalten wir die Koordinaten in der Mitte eines Wnaderweges\n",
    "query = \"\"\"\n",
    "[out:json];\n",
    "relation\n",
    "[\"route\"=\"hiking\"]\n",
    "/*[\"name\"]*/\n",
    "[\"name\"!~\"fixme\", i]\n",
    "[\"network\"=\"lwn\"]\n",
    "[\"osmc:symbol\"~\"yellow::yellow_diamond|red:white:red_bar|yellow:white:yellow_diamond|blue:white:blue_bar\"]\n",
    "/*(id: 1432463)*/\n",
    "(45.8899, 6.0872, 47.8085, 10.4921);\n",
    "out center tags;\n",
    "\"\"\"\n",
    "\n",
    "# Führe die Anfrage aus\n",
    "result = api.query(query)\n",
    "\n",
    "# Liste zum Speichern der extrahierten Informationen\n",
    "list = []\n",
    "\n",
    "# Iteration über alle relations\n",
    "for relation in result.relations:\n",
    "    \n",
    "    # Extrahiere die relevanten Daten\n",
    "\n",
    "    org_name = relation.tags.get('name')\n",
    "    fix_name = \"\"\n",
    "    org_to = relation.tags.get('to')\n",
    "    org_from = relation.tags.get('from')\n",
    "    \n",
    "    # Center ist ein Tupel mit langitute und longitude, wir möchten nur einen wert\n",
    "    lat = getattr(relation, 'center_lat')\n",
    "    lon = getattr(relation, 'center_lon')\n",
    "    \n",
    "    # Wenn der orginal Name nicht vorhanden ist setze ihn aus from und to zusammen\n",
    "    if not org_name and org_from and org_to :\n",
    "        fix_name = f\"{org_from} - {org_to}\"\n",
    "    else:\n",
    "        fix_name = org_name\n",
    "\n",
    "    # Erstelle ein Dictionary um die Attribute als Tupel zu speichern\n",
    "    if fix_name and lat > 0 and lon > 0: \n",
    "        dict = {\n",
    "        'id': relation.id,\n",
    "        'name': fix_name,\n",
    "        'lat': lat,\n",
    "        'lon': lon\n",
    "        }\n",
    "\n",
    "        # Jedes Tupel wird nun in der Liste als neue Zeile gespeichert\n",
    "        list.append(dict)\n",
    "\n",
    "# Wenn alle Daten verarbeitet wurden, erstelle das DataFrame\n",
    "df = pd.DataFrame(list)\n",
    "\n",
    "# Zeige das DataFrame an\n",
    "print(df)\n"
   ]
  },
  {
   "cell_type": "markdown",
   "metadata": {},
   "source": [
    "Die Resultate sind nun in einem Dataframe und können in die mysql Datenbank gespeichert werden, \n",
    "dazu erstelle ich eine mysql Datenbank"
   ]
  },
  {
   "cell_type": "code",
   "execution_count": null,
   "metadata": {},
   "outputs": [],
   "source": [
    "import mysql.connector\n",
    "\n",
    "mydb = mysql.connector.connect(\n",
    "  host=\"127.0.0.1\",\n",
    "  user=\"root\",\n",
    "  passwd=\"\"\n",
    ")\n",
    "\n",
    "print(mydb)"
   ]
  },
  {
   "cell_type": "markdown",
   "metadata": {},
   "source": [
    "Nun lade ich die Daten in die Datenbank\n"
   ]
  },
  {
   "cell_type": "code",
   "execution_count": null,
   "metadata": {},
   "outputs": [],
   "source": [
    "import pandas as pd\n",
    "from sqlalchemy import create_engine\n",
    "\n",
    "# Verbindung zur MySQL-Datenbank herstellen (ersetze Platzhalter mit deinen Daten)\n",
    "user = 'root'        # MySQL-Benutzername\n",
    "password = ''  # MySQL-Passwort\n",
    "host = '127.0.0.1'   # Server (bei lokalen Installationen ist das oft 'localhost')\n",
    "database = 'mydatabase'  # Name der Datenbank, in die du schreiben möchtest\n",
    "\n",
    "# Erstelle die Verbindungs-Engine\n",
    "engine = create_engine(f\"mysql+pymysql://{user}:{password}@{host}/{database}\")\n",
    "\n",
    "# DataFrame in die MySQL-Datenbank-Tabelle schreiben (wenn die Tabelle nicht existiert, wird sie erstellt)\n",
    "df.to_sql(name='Wanderwege', con=engine, if_exists='replace', index=False)\n",
    "\n",
    "print(\"DataFrame erfolgreich in die MySQL-Datenbank geladen!\")"
   ]
  }
 ],
 "metadata": {
  "kernelspec": {
   "display_name": "daengenv",
   "language": "python",
   "name": "python3"
  },
  "language_info": {
   "codemirror_mode": {
    "name": "ipython",
    "version": 3
   },
   "file_extension": ".py",
   "mimetype": "text/x-python",
   "name": "python",
   "nbconvert_exporter": "python",
   "pygments_lexer": "ipython3",
   "version": "3.12.2"
  }
 },
 "nbformat": 4,
 "nbformat_minor": 2
}
