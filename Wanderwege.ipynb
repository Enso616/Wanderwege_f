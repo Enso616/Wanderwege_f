{
 "cells": [
  {
   "cell_type": "markdown",
   "metadata": {},
   "source": [
    "Erstelle eine neue Conda Umgebung wanderwege"
   ]
  },
  {
   "cell_type": "code",
   "execution_count": null,
   "metadata": {},
   "outputs": [],
   "source": [
    "conda create --name wanderwege\n",
    "conda activate wanderwege"
   ]
  },
  {
   "cell_type": "markdown",
   "metadata": {},
   "source": [
    "Wir benutzen Python 3.12.2 mit folenden Paketen"
   ]
  },
  {
   "cell_type": "code",
   "execution_count": null,
   "metadata": {},
   "outputs": [],
   "source": [
    "conda install pandas\n",
    "conda install -c anaconda sqlalchemy\n",
    "conda install -c conda-forge overpy\n",
    "conda install -c anaconda mysql-connector-python\n",
    "conda install -c conda-forge pymysql\n",
    "pip install overpy"
   ]
  },
  {
   "cell_type": "markdown",
   "metadata": {},
   "source": [
    "Wir importieren die Daten von Overpass als json und überführen sie in ein Dataframe"
   ]
  },
  {
   "cell_type": "code",
   "execution_count": 3,
   "metadata": {},
   "outputs": [
    {
     "name": "stdout",
     "output_type": "stream",
     "text": [
      "            id                                          name         lat  \\\n",
      "0        22614  Nationalpark Wanderroute 15 (Munt la Schera)  46.6501430   \n",
      "1       103607                                 Wanderwege SG  47.4309774   \n",
      "2       118485                                  Rund um Sulz  47.5352432   \n",
      "3       120120                          Les Praises-La Casba  46.8326800   \n",
      "4       120121                          La Casba-Les Avattes  46.8356755   \n",
      "...        ...                                           ...         ...   \n",
      "7697  17940255                      Urzlenboden - Stutzhütte  47.1000278   \n",
      "7698  17942284                               Val d Osola rot  46.3366257   \n",
      "7699  17948858             blaues Minus Kressbronn - Hörbolz  47.5977302   \n",
      "7700  17989991                                 Vna - Griosch  46.8617089   \n",
      "7701  17992364                                      Paneneve  46.2746355   \n",
      "\n",
      "             lon  \n",
      "0     10.2301992  \n",
      "1      9.6201700  \n",
      "2      8.0967558  \n",
      "3      6.5145084  \n",
      "4      6.5227180  \n",
      "...          ...  \n",
      "7697   8.5742114  \n",
      "7698   8.6713453  \n",
      "7699   9.6048862  \n",
      "7700  10.3477172  \n",
      "7701  10.1100020  \n",
      "\n",
      "[7702 rows x 4 columns]\n"
     ]
    }
   ],
   "source": [
    "import overpy\n",
    "import pandas as pd\n",
    "\n",
    "# Initialisiere die Overpass API mit einer benutzerdefinierten URL\n",
    "api = overpy.Overpass(url=\"http://overpass.osm.ch/api/interpreter\")\n",
    "\n",
    "# Overpass Query für Wanderwege innerhalb der Schweiz. Mit Center erhalten wir die Koordinaten in der Mitte eines Wnaderweges\n",
    "query = \"\"\"\n",
    "[out:json][timeout:25];\n",
    "relation[\"route\"=\"hiking\"]\n",
    "[\"name\"]\n",
    "[\"name\"!~\"fixme\", i]\n",
    "[\"network\"=\"lwn\"]\n",
    "[\"osmc:symbol\"~\"yellow::yellow_diamond|red:white:red_bar|yellow:white:yellow_diamond|blue:white:blue_bar\"]\n",
    "(45.8899, 6.0872, 47.8085, 10.4921);\n",
    "out center tags;\n",
    "\"\"\"\n",
    "\n",
    "# Führe die Anfrage aus\n",
    "result = api.query(query)\n",
    "\n",
    "# Liste zum Speichern der extrahierten Informationen für das DataFrame\n",
    "data = []\n",
    "\n",
    "# Iteration über alle relations\n",
    "for relation in result.relations:\n",
    "    \n",
    "    # Center ist ein Tupel mit langitute und longitude, wir möchten nur einen wert\n",
    "    lat = getattr(relation, 'center_lat')\n",
    "    lon = getattr(relation, 'center_lon')\n",
    "\n",
    "    # Füge die Relation-Daten zu einer Liste hinzu,\n",
    "    relation_data = {\n",
    "    'id': relation.id,\n",
    "    'name': relation.tags.get('name'),\n",
    "    'lat': lat,\n",
    "    'lon': lon\n",
    "    }\n",
    "\n",
    "    # Jedes Dictionary wird in die Liste 'data' eingefügt, sodass die Daten gesammelt werden\n",
    "    data.append(relation_data)\n",
    "\n",
    "# Wenn alle Relationen verarbeitet wurden, erstelle das DataFrame\n",
    "df = pd.DataFrame(data)\n",
    "\n",
    "# Zeige das DataFrame an\n",
    "print(df)\n"
   ]
  },
  {
   "cell_type": "markdown",
   "metadata": {},
   "source": [
    "Die Resultate sind nun in einem Dataframe und können in die mysql Datenbank gespeichert werden, \n",
    "dazu erstelle ich eine mysql Datenbank"
   ]
  },
  {
   "cell_type": "code",
   "execution_count": null,
   "metadata": {},
   "outputs": [],
   "source": [
    "import mysql.connector\n",
    "\n",
    "mydb = mysql.connector.connect(\n",
    "  host=\"127.0.0.1\",\n",
    "  user=\"root\",\n",
    "  passwd=\"\"\n",
    ")\n",
    "\n",
    "print(mydb)"
   ]
  },
  {
   "cell_type": "markdown",
   "metadata": {},
   "source": [
    "Nun lade ich die Daten in die Datenbank\n"
   ]
  },
  {
   "cell_type": "code",
   "execution_count": null,
   "metadata": {},
   "outputs": [],
   "source": [
    "import pandas as pd\n",
    "from sqlalchemy import create_engine\n",
    "\n",
    "# Verbindung zur MySQL-Datenbank herstellen (ersetze Platzhalter mit deinen Daten)\n",
    "user = 'root'        # MySQL-Benutzername\n",
    "password = 'mysqlfortuna'  # MySQL-Passwort\n",
    "host = '127.0.0.1'   # Server (bei lokalen Installationen ist das oft 'localhost')\n",
    "database = 'mydatabase'  # Name der Datenbank, in die du schreiben möchtest\n",
    "\n",
    "# Erstelle die Verbindungs-Engine\n",
    "engine = create_engine(f\"mysql+pymysql://{user}:{password}@{host}/{database}\")\n",
    "\n",
    "# DataFrame in die MySQL-Datenbank-Tabelle schreiben (wenn die Tabelle nicht existiert, wird sie erstellt)\n",
    "df.to_sql(name='Wanderwege', con=engine, if_exists='replace', index=False)\n",
    "\n",
    "print(\"DataFrame erfolgreich in die MySQL-Datenbank geladen!\")"
   ]
  }
 ],
 "metadata": {
  "kernelspec": {
   "display_name": "daengenv",
   "language": "python",
   "name": "python3"
  },
  "language_info": {
   "codemirror_mode": {
    "name": "ipython",
    "version": 3
   },
   "file_extension": ".py",
   "mimetype": "text/x-python",
   "name": "python",
   "nbconvert_exporter": "python",
   "pygments_lexer": "ipython3",
   "version": "3.12.2"
  }
 },
 "nbformat": 4,
 "nbformat_minor": 2
}
