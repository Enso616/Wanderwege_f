{
 "cells": [
  {
   "cell_type": "markdown",
   "metadata": {},
   "source": [
    "Erstelle eine neue Conda Umgebung wanderwege"
   ]
  },
  {
   "cell_type": "code",
   "execution_count": 7,
   "metadata": {},
   "outputs": [
    {
     "name": "stdout",
     "output_type": "stream",
     "text": [
      "Channels:\n",
      " - defaults\n",
      "Platform: osx-arm64\n",
      "Collecting package metadata (repodata.json): done\n",
      "Solving environment: failed\n",
      "\n",
      "PackagesNotFoundError: The following packages are not available from current channels:\n",
      "\n",
      "  - wanderwege\n",
      "  - activate\n",
      "\n",
      "Current channels:\n",
      "\n",
      "  - defaults\n",
      "\n",
      "To search for alternate channels that may provide the conda package you're\n",
      "looking for, navigate to\n",
      "\n",
      "    https://anaconda.org\n",
      "\n",
      "and use the search bar at the top of the page.\n",
      "\n",
      "\n",
      "\n",
      "Note: you may need to restart the kernel to use updated packages.\n"
     ]
    }
   ],
   "source": [
    "conda create --name wanderwege\n",
    "conda activate wanderwege"
   ]
  },
  {
   "cell_type": "markdown",
   "metadata": {},
   "source": [
    "Wir benutzen Python 3.12.2 mit folenden Paketen"
   ]
  },
  {
   "cell_type": "code",
   "execution_count": null,
   "metadata": {},
   "outputs": [],
   "source": [
    "conda install pandas\n",
    "conda install -c anaconda sqlalchemy\n",
    "conda install -c conda-forge overpy\n",
    "conda install -c anaconda mysql-connector-python\n",
    "conda install -c conda-forge pymysql\n",
    "pip install overpy"
   ]
  },
  {
   "cell_type": "code",
   "execution_count": 23,
   "metadata": {},
   "outputs": [
    {
     "name": "stdout",
     "output_type": "stream",
     "text": [
      "         id                             name          lat          lon\n",
      "0  17666736  Nasse Küche - Siegenbachmündung  -21.6557036  -96.1460220\n"
     ]
    }
   ],
   "source": [
    "import overpy\n",
    "import pandas as pd\n",
    "\n",
    "# Initialisiere die Overpass API mit einer benutzerdefinierten URL\n",
    "api = overpy.Overpass(url=\"http://overpass.osm.ch/api/interpreter\")\n",
    "\n",
    "# Overpass Query für Wanderwege innerhalb der Schweiz. Mit Center erhalten wir die Koordinaten in der Mitte eines Wnaderweges\n",
    "query = \"\"\"\n",
    "[out:json][timeout:25];\n",
    "relation[\"route\"=\"hiking\"][\"name\"][\"name\"!~\"fixme\", i][\"network\"=\"lwn\"](46.8167, 5.9559, 47.8085, 10.4921);\n",
    "out center tags;\n",
    "\"\"\"\n",
    "\n",
    "# Führe die Anfrage aus\n",
    "result = api.query(query)\n",
    "\n",
    "# Liste zum Speichern der extrahierten Informationen für das DataFrame\n",
    "data = []\n",
    "\n",
    "# Iteration über alle relations\n",
    "for relation in result.relations:\n",
    "    \n",
    "    # Center ist ein Tupel mit langitute und longitude, wir möchten nur einen wert\n",
    "    lat = getattr(relation, 'center_lat')\n",
    "    lon = getattr(relation, 'center_lon')\n",
    "\n",
    "    # Füge die Relation-Daten zu einer Liste hinzu,\n",
    "    relation_data = {\n",
    "    'id': relation.id,\n",
    "    'name': relation.tags.get('name'),\n",
    "    'lat': lat,\n",
    "    'lon': lon\n",
    "    }\n",
    "\n",
    "    # Jedes Dictionary wird in die Liste 'data' eingefügt, sodass die Daten gesammelt werden\n",
    "    data.append(relation_data)\n",
    "\n",
    "# Wenn alle Relationen verarbeitet wurden, erstelle das DataFrame\n",
    "df = pd.DataFrame(data)\n",
    "\n",
    "# Zeige das DataFrame an\n",
    "print(df)\n"
   ]
  },
  {
   "cell_type": "markdown",
   "metadata": {},
   "source": [
    "Die Resultate sind nun in einem Dataframe und können in die mysql Datenbank gespeichert werden, \n",
    "dazu erstelle ich die db"
   ]
  },
  {
   "cell_type": "code",
   "execution_count": 20,
   "metadata": {},
   "outputs": [
    {
     "name": "stdout",
     "output_type": "stream",
     "text": [
      "<mysql.connector.connection_cext.CMySQLConnection object at 0x309d88e00>\n"
     ]
    }
   ],
   "source": [
    "import mysql.connector\n",
    "\n",
    "mydb = mysql.connector.connect(\n",
    "  host=\"127.0.0.1\",\n",
    "  user=\"root\",\n",
    "  passwd=\"\"\n",
    ")\n",
    "\n",
    "print(mydb)"
   ]
  },
  {
   "cell_type": "markdown",
   "metadata": {},
   "source": [
    "Nun lade ich die Daten\n"
   ]
  },
  {
   "cell_type": "code",
   "execution_count": 21,
   "metadata": {},
   "outputs": [
    {
     "name": "stdout",
     "output_type": "stream",
     "text": [
      "DataFrame erfolgreich in die MySQL-Datenbank geladen!\n"
     ]
    }
   ],
   "source": [
    "import pandas as pd\n",
    "from sqlalchemy import create_engine\n",
    "\n",
    "# Verbindung zur MySQL-Datenbank herstellen (ersetze Platzhalter mit deinen Daten)\n",
    "user = 'root'        # MySQL-Benutzername\n",
    "password = 'mysqlfortuna'  # MySQL-Passwort\n",
    "host = '127.0.0.1'   # Server (bei lokalen Installationen ist das oft 'localhost')\n",
    "database = 'mydatabase'  # Name der Datenbank, in die du schreiben möchtest\n",
    "\n",
    "# Erstelle die Verbindungs-Engine\n",
    "engine = create_engine(f\"mysql+pymysql://{user}:{password}@{host}/{database}\")\n",
    "\n",
    "# DataFrame in die MySQL-Datenbank-Tabelle schreiben (wenn die Tabelle nicht existiert, wird sie erstellt)\n",
    "df.to_sql(name='Wanderwege', con=engine, if_exists='replace', index=False)\n",
    "\n",
    "print(\"DataFrame erfolgreich in die MySQL-Datenbank geladen!\")"
   ]
  }
 ],
 "metadata": {
  "kernelspec": {
   "display_name": "daengenv",
   "language": "python",
   "name": "python3"
  },
  "language_info": {
   "codemirror_mode": {
    "name": "ipython",
    "version": 3
   },
   "file_extension": ".py",
   "mimetype": "text/x-python",
   "name": "python",
   "nbconvert_exporter": "python",
   "pygments_lexer": "ipython3",
   "version": "3.12.2"
  }
 },
 "nbformat": 4,
 "nbformat_minor": 2
}
