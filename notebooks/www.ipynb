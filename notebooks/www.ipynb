{
 "cells": [
  {
   "cell_type": "code",
   "execution_count": null,
   "metadata": {},
   "outputs": [],
   "source": []
  },
  {
   "cell_type": "code",
   "execution_count": 8,
   "metadata": {},
   "outputs": [
    {
     "name": "stdout",
     "output_type": "stream",
     "text": [
      "0    45.8988159\n",
      "Name: lat, dtype: object\n"
     ]
    }
   ],
   "source": [
    "import overpy\n",
    "import pandas as pd\n",
    "\n",
    "# Initialisiere die Overpass API mit einer benutzerdefinierten URL\n",
    "api = overpy.Overpass(url=\"http://overpass.osm.ch/api/interpreter\")\n",
    "\n",
    "# Overpass Query für Wanderwege innerhalb der Schweiz. Mit Center erhalten wir die Koordinaten in der Mitte eines Wnaderweges\n",
    "query = \"\"\"\n",
    "[out:json];\n",
    "relation\n",
    "[\"route\"=\"hiking\"]\n",
    "/*[\"name\"]*/\n",
    "[\"name\"!~\"fixme\", i]\n",
    "[\"network\"=\"lwn\"]\n",
    "[\"osmc:symbol\"~\"yellow::yellow_diamond|red:white:red_bar|yellow:white:yellow_diamond|blue:white:blue_bar\"]\n",
    "(id: 2408854)\n",
    "(45.8899, 6.0872, 47.8085, 10.4921);\n",
    "out center tags;\n",
    "\"\"\"\n",
    "\n",
    "# Führe die Anfrage aus\n",
    "result = api.query(query)\n",
    "\n",
    "# Liste zum Speichern der extrahierten Informationen\n",
    "list = []\n",
    "\n",
    "# Iteration über alle relations\n",
    "for relation in result.relations:\n",
    "    \n",
    "    # Extrahiere die relevanten Daten\n",
    "\n",
    "    org_name = relation.tags.get('name')\n",
    "    fix_name = \"\"\n",
    "    org_to = relation.tags.get('to')\n",
    "    org_from = relation.tags.get('from')\n",
    "    \n",
    "    # Center ist ein Tupel mit langitute und longitude, wir möchten nur einen wert\n",
    "    lat = getattr(relation, 'center_lat')\n",
    "    lon = getattr(relation, 'center_lon')\n",
    "    \n",
    "    # Wenn der orginal Name nicht vorhanden ist setze ihn aus from und to zusammen\n",
    "    if not org_name and org_from and org_to :\n",
    "        fix_name = f\"{org_from} - {org_to}\"\n",
    "    else:\n",
    "        fix_name = org_name\n",
    "\n",
    "    # Erstelle ein Dictionary um die Attribute als Tupel zu speichern\n",
    "    if fix_name and lat > 0 and lon > 0: \n",
    "        dict = {\n",
    "        'id': relation.id,\n",
    "        'name': fix_name,\n",
    "        'lat': lat,\n",
    "        'lon': lon\n",
    "        }\n",
    "\n",
    "        # Jedes Tupel wird nun in der Liste als neue Zeile gespeichert\n",
    "        list.append(dict)\n",
    "\n",
    "# Wenn alle Daten verarbeitet wurden, erstelle das DataFrame\n",
    "df = pd.DataFrame(list)\n",
    "\n",
    "# Zeige das DataFrame an\n",
    "print(df.lat)\n"
   ]
  },
  {
   "cell_type": "code",
   "execution_count": null,
   "metadata": {},
   "outputs": [],
   "source": [
    "import pandas as pd\n",
    "from sqlalchemy import create_engine\n",
    "\n",
    "# Verbindung zur MySQL-Datenbank herstellen (ersetze Platzhalter mit deinen Daten)\n",
    "user = 'root'        # MySQL-Benutzername\n",
    "password = ''  # MySQL-Passwort\n",
    "host = '127.0.0.1'   # Server (bei lokalen Installationen ist das oft 'localhost')\n",
    "database = 'mydatabase'  # Name der Datenbank, in die du schreiben möchtest\n",
    "\n",
    "# Erstelle die Verbindungs-Engine\n",
    "engine = create_engine(f\"mysql+pymysql://{user}:{password}@{host}/{database}\")\n",
    "\n",
    "# DataFrame in die MySQL-Datenbank-Tabelle schreiben (wenn die Tabelle nicht existiert, wird sie erstellt)\n",
    "df.to_sql(name='Wanderwege', con=engine, if_exists='replace', index=False)\n",
    "\n",
    "print(\"DataFrame erfolgreich in die MySQL-Datenbank geladen!\")"
   ]
  },
  {
   "cell_type": "code",
   "execution_count": 3,
   "metadata": {},
   "outputs": [],
   "source": [
    "# Import required libraries\n",
    "import numpy as np\n",
    "import pandas as pd\n",
    "\n",
    "import openmeteo_requests\n",
    "import requests_cache\n",
    "from retry_requests import retry\n",
    "\n",
    "import matplotlib.pyplot as plt\n",
    "import seaborn as sns\n",
    "\n",
    "## Use command \"pip freeze > requirements.txt\" to save the dependencies in requirements.txt"
   ]
  },
  {
   "cell_type": "code",
   "execution_count": null,
   "metadata": {},
   "outputs": [
    {
     "name": "stdout",
     "output_type": "stream",
     "text": [
      "                                            location       lat      lon\n",
      "0  Schönengrund, Hinterland, Appenzell Ausserrhod...  47.31706  9.24482\n",
      "1              Einsiedeln, Schwyz, 8840, Switzerland  47.10710  8.81140\n",
      "2            Wolfenschiessen, Nidwalden, Switzerland  46.90620  8.42820\n",
      "3     Pontresina, Maloja, Grisons, 7504, Switzerland  46.47740  9.90420\n",
      "4  Ruvigliana, Circolo di Lugano est, Lugano, Dis...  46.00865  8.98767\n"
     ]
    }
   ],
   "source": [
    "# Create a pandas dataframe with coordinates of locations to process\n",
    "# Locations and coordinates found in openStreetMap\n",
    "locations_coords = pd.DataFrame({\n",
    "    \"location\" : [\"Schönengrund, Hinterland, Appenzell Ausserrhoden, 9105, Switzerland\", \n",
    "              \"Einsiedeln, Schwyz, 8840, Switzerland\",\n",
    "              \"Wolfenschiessen, Nidwalden, Switzerland\",\n",
    "              \"Pontresina, Maloja, Grisons, 7504, Switzerland\",\n",
    "              \"Ruvigliana, Circolo di Lugano est, Lugano, Distretto di Lugano, Ticino, 6977, Switzerland\"\n",
    "              ], \n",
    "    \"lat\" : [47.31706, 47.1071, 46.9062, 46.4774, 46.00865], \n",
    "    \"lon\" : [9.24482, 8.8114, 8.4282, 9.9042, 8.98767]})\n",
    "print(locations_coords)\n"
   ]
  },
  {
   "cell_type": "code",
   "execution_count": null,
   "metadata": {},
   "outputs": [
    {
     "name": "stdout",
     "output_type": "stream",
     "text": [
      "<class 'list'>\n",
      "['Schönengrund, Hinterland, Appenzell Ausserrhoden, 9105, Switzerland', 'Einsiedeln, Schwyz, 8840, Switzerland', 'Wolfenschiessen, Nidwalden, Switzerland', 'Pontresina, Maloja, Grisons, 7504, Switzerland', 'Ruvigliana, Circolo di Lugano est, Lugano, Distretto di Lugano, Ticino, 6977, Switzerland']\n"
     ]
    }
   ],
   "source": [
    "print(type(list(locations_coords.loc[:, \"location\"])))\n",
    "print(list(locations_coords.loc[:, \"location\"]))"
   ]
  },
  {
   "cell_type": "code",
   "execution_count": 4,
   "metadata": {},
   "outputs": [],
   "source": [
    "# Define a start and end date of data to fetch from Open-Meteo API\n",
    "start_date = \"2024-01-01\"\n",
    "end_date = \"2024-09-09\""
   ]
  },
  {
   "cell_type": "code",
   "execution_count": 5,
   "metadata": {},
   "outputs": [],
   "source": [
    "# Setup the Open-Meteo API client with cache and retry on error\n",
    "cache_session = requests_cache.CachedSession('.cache', expire_after = 3600)     # stores data for 1 hour in the cache\n",
    "retry_session = retry(cache_session, retries = 5, backoff_factor = 0.2)         # retries 5 times with increasing delay of 20%\n",
    "openmeteo = openmeteo_requests.Client(session = retry_session)                  # Using the retry_session to make a request to Open-Meteo API"
   ]
  },
  {
   "cell_type": "code",
   "execution_count": 16,
   "metadata": {},
   "outputs": [
    {
     "name": "stdout",
     "output_type": "stream",
     "text": [
      "0    45.8988159\n",
      "Name: lat, dtype: object\n"
     ]
    }
   ],
   "source": [
    "# Make sure all required weather variables are listed here\n",
    "# The order of variables in hourly or daily is important to assign them correctly below\n",
    "url = \"https://historical-forecast-api.open-meteo.com/v1/forecast\"\n",
    "params = {\n",
    "#\t\"latitude\": list(df[\"lat\"]),\n",
    "#\t\"longitude\": list(df[\"lon\"]),\n",
    "\t\"latitude\": df.lat,\n",
    "\t\"longitude\": df.lon,\n",
    "\t\"start_date\": start_date,\n",
    "\t\"end_date\": end_date,\n",
    "\t\"hourly\": [\"temperature_2m\", \"relative_humidity_2m\", \"precipitation_probability\", \"precipitation\", \"rain\", \"showers\", \"snowfall\", \"snow_depth\", \"weather_code\", \"pressure_msl\", \"surface_pressure\", \"cloud_cover\", \"cloud_cover_low\", \"cloud_cover_mid\", \"cloud_cover_high\", \"visibility\", \"wind_speed_10m\", \"wind_direction_10m\", \"wind_gusts_10m\", \"uv_index\", \"uv_index_clear_sky\", \"is_day\", \"sunshine_duration\"],\n",
    "\t\"daily\": [\"weather_code\", \"temperature_2m_max\", \"temperature_2m_min\", \"apparent_temperature_max\", \"apparent_temperature_min\", \"sunrise\", \"sunset\", \"daylight_duration\", \"sunshine_duration\", \"uv_index_max\", \"uv_index_clear_sky_max\", \"precipitation_sum\", \"rain_sum\", \"showers_sum\", \"snowfall_sum\", \"precipitation_hours\", \"precipitation_probability_max\", \"wind_speed_10m_max\", \"wind_gusts_10m_max\"],\n",
    "\t\"timezone\": \"Europe/Berlin\"\n",
    "}\n",
    "responses = openmeteo.weather_api(url, params=params)\n",
    "#\t print(f\"Number of resposes: {len(responses)}\")\n",
    "print (df.lat)\n"
   ]
  },
  {
   "cell_type": "code",
   "execution_count": 15,
   "metadata": {},
   "outputs": [
    {
     "name": "stdout",
     "output_type": "stream",
     "text": [
      "Coordinates 45.900001525878906°N 7.159999370574951°E\n",
      "Elevation 2570.0 m asl\n",
      "Timezone b'Europe/Berlin' b'CEST'\n",
      "Timezone difference to GMT+0 7200 s\n"
     ]
    }
   ],
   "source": [
    "# Process first location. Add a for-loop for multiple locations or weather models\n",
    "response = responses[0]\n",
    "print(f\"Coordinates {response.Latitude()}°N {response.Longitude()}°E\")\n",
    "print(f\"Elevation {response.Elevation()} m asl\")\n",
    "print(f\"Timezone {response.Timezone()} {response.TimezoneAbbreviation()}\")\n",
    "print(f\"Timezone difference to GMT+0 {response.UtcOffsetSeconds()} s\")"
   ]
  }
 ],
 "metadata": {
  "kernelspec": {
   "display_name": "www",
   "language": "python",
   "name": "python3"
  },
  "language_info": {
   "codemirror_mode": {
    "name": "ipython",
    "version": 3
   },
   "file_extension": ".py",
   "mimetype": "text/x-python",
   "name": "python",
   "nbconvert_exporter": "python",
   "pygments_lexer": "ipython3",
   "version": "3.12.6"
  }
 },
 "nbformat": 4,
 "nbformat_minor": 2
}
