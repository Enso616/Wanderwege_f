{
 "cells": [
  {
   "cell_type": "markdown",
   "metadata": {},
   "source": [
    "# Weather Forecast Data\n",
    "\n",
    "This notebook is used to extract the weather forecast data from the Open-Meteo API ([Link](https://open-meteo.com/en/docs)). First, we get the coordinates of the locations of which we want to have the forecasts. This is done via a SQL query to an existing database on our Azure SQL Server. Having the coordinates, we call the weather forecast API and get hourly data for the next day for each location, i.e. we receive 24 data entries per location.\n",
    "\n",
    "The weather forecast consists of several data points like temperature, precipitation probability, wind speed or cloud coverage. In total, we retrieve 19 meteorological data points per location and hour. The received data is then ingested to a separate table in our SQL database. From there, it can be joined with other data sources for further analysis and evaluation."
   ]
  },
  {
   "cell_type": "markdown",
   "metadata": {},
   "source": [
    "##  Libraries and settings"
   ]
  },
  {
   "cell_type": "code",
   "execution_count": 2,
   "metadata": {},
   "outputs": [],
   "source": [
    "# Import required libraries\n",
    "\n",
    "import json\n",
    "import os\n",
    "import pandas as pd\n",
    "import math\n",
    "import time\n",
    "\n",
    "# connect to Open-Meteo API\n",
    "import openmeteo_requests\n",
    "import requests_cache\n",
    "from retry_requests import retry\n",
    "\n",
    "# connection to SQL database\n",
    "import pymssql\n",
    "from sqlalchemy import create_engine, text"
   ]
  },
  {
   "cell_type": "code",
   "execution_count": 3,
   "metadata": {},
   "outputs": [
    {
     "name": "stdout",
     "output_type": "stream",
     "text": [
      "c:\\Users\\twips\\Documents\\GitHub\\Wanderwege\\notebooks\n"
     ]
    }
   ],
   "source": [
    "# Get current working directory\n",
    "print(os.getcwd())"
   ]
  },
  {
   "cell_type": "markdown",
   "metadata": {},
   "source": [
    "## Retrieve hiking route data from database"
   ]
  },
  {
   "cell_type": "code",
   "execution_count": 4,
   "metadata": {},
   "outputs": [],
   "source": [
    "# Load configuration from config/db_config.json\n",
    "with open('../config/db_config.json', 'r') as f:\n",
    "    db_config = json.load(f)\n",
    "\n",
    "# Get database credentials\n",
    "server = db_config['server']\n",
    "database = db_config['database']\n",
    "db_user = db_config['db_user']\n",
    "db_password = db_config['db_password']"
   ]
  },
  {
   "cell_type": "code",
   "execution_count": 6,
   "metadata": {},
   "outputs": [],
   "source": [
    "# Establish connection\n",
    "conn = pymssql.connect(server, db_user, db_password, database)\n",
    "\n",
    "# Execute SQL query\n",
    "query = \"SELECT * FROM dbo.OVRP_HikingRoutes\"\n",
    "cursor = conn.cursor()\n",
    "cursor.execute(query)\n",
    "\n",
    "# Fetch all the rows from the executed query\n",
    "rows = cursor.fetchall()\n",
    "\n",
    "# Fetch the column names from the cursor description\n",
    "columns = [col[0] for col in cursor.description]\n",
    "\n",
    "# Store the results in a Pandas DataFrame\n",
    "df = pd.DataFrame(rows, columns=columns)\n",
    "\n",
    "# Close the connection\n",
    "conn.close()"
   ]
  },
  {
   "cell_type": "markdown",
   "metadata": {},
   "source": [
    "### Data inspection (hiking routes)"
   ]
  },
  {
   "cell_type": "code",
   "execution_count": 7,
   "metadata": {},
   "outputs": [
    {
     "data": {
      "text/plain": [
       "(15309, 5)"
      ]
     },
     "execution_count": 7,
     "metadata": {},
     "output_type": "execute_result"
    }
   ],
   "source": [
    "# Print the shape of the dataframe\n",
    "df.shape"
   ]
  },
  {
   "cell_type": "code",
   "execution_count": 8,
   "metadata": {},
   "outputs": [
    {
     "data": {
      "text/html": [
       "<div>\n",
       "<style scoped>\n",
       "    .dataframe tbody tr th:only-of-type {\n",
       "        vertical-align: middle;\n",
       "    }\n",
       "\n",
       "    .dataframe tbody tr th {\n",
       "        vertical-align: top;\n",
       "    }\n",
       "\n",
       "    .dataframe thead th {\n",
       "        text-align: right;\n",
       "    }\n",
       "</style>\n",
       "<table border=\"1\" class=\"dataframe\">\n",
       "  <thead>\n",
       "    <tr style=\"text-align: right;\">\n",
       "      <th></th>\n",
       "      <th>id</th>\n",
       "      <th>name</th>\n",
       "      <th>lat</th>\n",
       "      <th>lon</th>\n",
       "      <th>timestamp_apicall</th>\n",
       "    </tr>\n",
       "  </thead>\n",
       "  <tbody>\n",
       "    <tr>\n",
       "      <th>0</th>\n",
       "      <td>22614</td>\n",
       "      <td>Nationalpark Wanderroute 15 (Munt la Schera)</td>\n",
       "      <td>46.650143</td>\n",
       "      <td>10.230199</td>\n",
       "      <td>2024-09-25 21:32:08</td>\n",
       "    </tr>\n",
       "    <tr>\n",
       "      <th>1</th>\n",
       "      <td>103607</td>\n",
       "      <td>Wanderwege SG</td>\n",
       "      <td>47.430977</td>\n",
       "      <td>9.620170</td>\n",
       "      <td>2024-09-25 21:32:08</td>\n",
       "    </tr>\n",
       "    <tr>\n",
       "      <th>2</th>\n",
       "      <td>112830</td>\n",
       "      <td>Uetliberg - Uetliberg Uto Kulm</td>\n",
       "      <td>47.351168</td>\n",
       "      <td>8.489780</td>\n",
       "      <td>2024-09-25 21:32:08</td>\n",
       "    </tr>\n",
       "    <tr>\n",
       "      <th>3</th>\n",
       "      <td>112831</td>\n",
       "      <td>Folenweid - Baldern</td>\n",
       "      <td>47.329124</td>\n",
       "      <td>8.500726</td>\n",
       "      <td>2024-09-25 21:32:08</td>\n",
       "    </tr>\n",
       "    <tr>\n",
       "      <th>4</th>\n",
       "      <td>112833</td>\n",
       "      <td>Felsenegg - Balderen</td>\n",
       "      <td>47.315244</td>\n",
       "      <td>8.505056</td>\n",
       "      <td>2024-09-25 21:32:08</td>\n",
       "    </tr>\n",
       "  </tbody>\n",
       "</table>\n",
       "</div>"
      ],
      "text/plain": [
       "       id                                          name        lat        lon  \\\n",
       "0   22614  Nationalpark Wanderroute 15 (Munt la Schera)  46.650143  10.230199   \n",
       "1  103607                                 Wanderwege SG  47.430977   9.620170   \n",
       "2  112830                Uetliberg - Uetliberg Uto Kulm  47.351168   8.489780   \n",
       "3  112831                           Folenweid - Baldern  47.329124   8.500726   \n",
       "4  112833                          Felsenegg - Balderen  47.315244   8.505056   \n",
       "\n",
       "    timestamp_apicall  \n",
       "0 2024-09-25 21:32:08  \n",
       "1 2024-09-25 21:32:08  \n",
       "2 2024-09-25 21:32:08  \n",
       "3 2024-09-25 21:32:08  \n",
       "4 2024-09-25 21:32:08  "
      ]
     },
     "execution_count": 8,
     "metadata": {},
     "output_type": "execute_result"
    }
   ],
   "source": [
    "# Print the first 5 rows of the dataframe\n",
    "df.head()"
   ]
  },
  {
   "cell_type": "code",
   "execution_count": 9,
   "metadata": {},
   "outputs": [
    {
     "data": {
      "text/plain": [
       "id                            int64\n",
       "name                         object\n",
       "lat                         float64\n",
       "lon                         float64\n",
       "timestamp_apicall    datetime64[ns]\n",
       "dtype: object"
      ]
     },
     "execution_count": 9,
     "metadata": {},
     "output_type": "execute_result"
    }
   ],
   "source": [
    "# Print the data types of the columns\n",
    "df.dtypes"
   ]
  },
  {
   "cell_type": "code",
   "execution_count": 10,
   "metadata": {},
   "outputs": [
    {
     "data": {
      "text/html": [
       "<div>\n",
       "<style scoped>\n",
       "    .dataframe tbody tr th:only-of-type {\n",
       "        vertical-align: middle;\n",
       "    }\n",
       "\n",
       "    .dataframe tbody tr th {\n",
       "        vertical-align: top;\n",
       "    }\n",
       "\n",
       "    .dataframe thead th {\n",
       "        text-align: right;\n",
       "    }\n",
       "</style>\n",
       "<table border=\"1\" class=\"dataframe\">\n",
       "  <thead>\n",
       "    <tr style=\"text-align: right;\">\n",
       "      <th></th>\n",
       "      <th>lat</th>\n",
       "      <th>lon</th>\n",
       "    </tr>\n",
       "  </thead>\n",
       "  <tbody>\n",
       "    <tr>\n",
       "      <th>count</th>\n",
       "      <td>15309.000000</td>\n",
       "      <td>15309.000000</td>\n",
       "    </tr>\n",
       "    <tr>\n",
       "      <th>mean</th>\n",
       "      <td>47.038307</td>\n",
       "      <td>8.272102</td>\n",
       "    </tr>\n",
       "    <tr>\n",
       "      <th>std</th>\n",
       "      <td>0.368350</td>\n",
       "      <td>0.748453</td>\n",
       "    </tr>\n",
       "    <tr>\n",
       "      <th>min</th>\n",
       "      <td>45.880236</td>\n",
       "      <td>6.094391</td>\n",
       "    </tr>\n",
       "    <tr>\n",
       "      <th>25%</th>\n",
       "      <td>46.861716</td>\n",
       "      <td>7.687536</td>\n",
       "    </tr>\n",
       "    <tr>\n",
       "      <th>50%</th>\n",
       "      <td>47.081667</td>\n",
       "      <td>8.328663</td>\n",
       "    </tr>\n",
       "    <tr>\n",
       "      <th>75%</th>\n",
       "      <td>47.297337</td>\n",
       "      <td>8.825240</td>\n",
       "    </tr>\n",
       "    <tr>\n",
       "      <th>max</th>\n",
       "      <td>47.807957</td>\n",
       "      <td>10.455874</td>\n",
       "    </tr>\n",
       "  </tbody>\n",
       "</table>\n",
       "</div>"
      ],
      "text/plain": [
       "                lat           lon\n",
       "count  15309.000000  15309.000000\n",
       "mean      47.038307      8.272102\n",
       "std        0.368350      0.748453\n",
       "min       45.880236      6.094391\n",
       "25%       46.861716      7.687536\n",
       "50%       47.081667      8.328663\n",
       "75%       47.297337      8.825240\n",
       "max       47.807957     10.455874"
      ]
     },
     "execution_count": 10,
     "metadata": {},
     "output_type": "execute_result"
    }
   ],
   "source": [
    "# Describe the dataframe (columns \"lat\" and \"lon\")\n",
    "df[[\"lat\", \"lon\"]].describe()"
   ]
  },
  {
   "cell_type": "markdown",
   "metadata": {},
   "source": [
    "## Retrieve weather forecast data from Open-Meteo API"
   ]
  },
  {
   "cell_type": "markdown",
   "metadata": {},
   "source": [
    "### Data preparation"
   ]
  },
  {
   "cell_type": "markdown",
   "metadata": {},
   "source": [
    "The free version of the Open-Meteo API has a limit to the number of API calls per time period (less than 10'000 API calls per day, 5'000 per hour and 600 per minute). Since we request almost 20 data points per location and hourly forecast, one call of a location amounts for roughly 2 calls. Therefore, we limit our dataset to 300 locations in order not to violate these restrictions."
   ]
  },
  {
   "cell_type": "code",
   "execution_count": 11,
   "metadata": {},
   "outputs": [],
   "source": [
    "# Create a subset of the dataframe with the first 300 rows\n",
    "df_subset = df[:300]"
   ]
  },
  {
   "cell_type": "code",
   "execution_count": 12,
   "metadata": {},
   "outputs": [],
   "source": [
    "# Only keep id, lat ond lon of the subset\n",
    "df_subset = df_subset[[\"id\", \"lat\", \"lon\"]]"
   ]
  },
  {
   "cell_type": "code",
   "execution_count": 13,
   "metadata": {},
   "outputs": [
    {
     "data": {
      "text/plain": [
       "(300, 3)"
      ]
     },
     "execution_count": 13,
     "metadata": {},
     "output_type": "execute_result"
    }
   ],
   "source": [
    "# Print the shape of the subset\n",
    "df_subset.shape"
   ]
  },
  {
   "cell_type": "markdown",
   "metadata": {},
   "source": [
    "### API call and transformation"
   ]
  },
  {
   "cell_type": "code",
   "execution_count": 14,
   "metadata": {},
   "outputs": [],
   "source": [
    "# Setup the Open-Meteo API client with cache and retry on error\n",
    "cache_session = requests_cache.CachedSession('.cache', expire_after=3600)\n",
    "retry_session = retry(cache_session, retries=5, backoff_factor=0.2)\n",
    "openmeteo = openmeteo_requests.Client(session=retry_session)"
   ]
  },
  {
   "cell_type": "markdown",
   "metadata": {},
   "source": [
    "We noticed failed API calls when trying to get data for too many locations in one call. Thus, we split the dataset into batches of 100 locations and make one API call for each batch."
   ]
  },
  {
   "cell_type": "code",
   "execution_count": 15,
   "metadata": {},
   "outputs": [
    {
     "name": "stdout",
     "output_type": "stream",
     "text": [
      "-------------------------\n",
      "Batch: 1\n",
      "Items: 0-99\n",
      "Number of items: 100\n",
      "Number of fetched items: 100\n",
      "-------------------------\n",
      "Batch: 2\n",
      "Items: 100-199\n",
      "Number of items: 100\n",
      "Number of fetched items: 100\n",
      "-------------------------\n",
      "Batch: 3\n",
      "Items: 200-299\n",
      "Number of items: 100\n",
      "Number of fetched items: 100\n"
     ]
    }
   ],
   "source": [
    "# URL for the Open-Meteo API\n",
    "url = \"https://api.open-meteo.com/v1/forecast\"\n",
    "\n",
    "# Initialize a list to store data for all locations\n",
    "all_hourly_data = []\n",
    "\n",
    "# Define a the size of each batch\n",
    "batch_size = 100\n",
    "\n",
    "# Add time and datestamp of API call to dataframe\n",
    "timestamp_apicall = pd.Timestamp.now().strftime(\"%Y-%m-%d %H:%M:%S\")\n",
    "\n",
    "# Loop through all batches and make a request for each batch\n",
    "for i in range(0, len(df_subset), batch_size):\n",
    "    latitude = list(df_subset[i:i+batch_size][\"lat\"])\n",
    "    longitude = list(df_subset[i:i+batch_size][\"lon\"])\n",
    "\n",
    "    item_start = i\n",
    "    item_end = i + len(latitude) - 1\n",
    "    batch = int((i + batch_size) / batch_size)\n",
    "\n",
    "    print(\"-------------------------\")\n",
    "    print(f\"Batch: {batch}\")\n",
    "    print(f\"Items: {item_start}-{item_end}\")\n",
    "    print(f\"Number of items: {len(latitude)}\")\n",
    "\n",
    "    params = {\n",
    "        \"latitude\": latitude,\n",
    "        \"longitude\": longitude,\n",
    "        \"hourly\": [\n",
    "            \"temperature_2m\", \"relative_humidity_2m\", \"dew_point_2m\",\n",
    "            \"apparent_temperature\", \"precipitation\", \"rain\", \"snowfall\",\n",
    "            \"snow_depth\", \"weather_code\", \"pressure_msl\", \"surface_pressure\",\n",
    "            \"cloud_cover\", \"cloud_cover_low\", \"cloud_cover_mid\", \"cloud_cover_high\",\n",
    "            \"wind_speed_10m\", \"wind_gusts_10m\", \"is_day\", \"sunshine_duration\"\n",
    "        ],\n",
    "        \"forecast_days\": 1,\n",
    "    }\n",
    "    \n",
    "    responses = openmeteo.weather_api(url, params=params)\n",
    "\n",
    "    print(f\"Number of fetched items: {len(responses)}\")\n",
    "\n",
    "    # Loop through all responses and extract data for each location and hourly forecast\n",
    "    for i, response in enumerate(responses):\n",
    "        # Process location metadata\n",
    "        # print(f\"Coordinates {response.Latitude()}°N {response.Longitude()}°E\")\n",
    "        # print(f\"Elevation {response.Elevation()} m asl\")\n",
    "        # print(f\"Timezone {response.Timezone()} {response.TimezoneAbbreviation()}\")\n",
    "        # print(f\"Timezone difference to GMT+0 {response.UtcOffsetSeconds()} s\")\n",
    "\n",
    "        # Define index to be looked up in df_subset\n",
    "        i_loc = item_start + i\n",
    "\n",
    "        # Process hourly data for this location\n",
    "        hourly = response.Hourly()\n",
    "\n",
    "        # Extract variables (note: needs to be the same order as in request)\n",
    "        hourly_data = {\n",
    "            \"id\": df_subset[\"id\"].iloc[i_loc],\n",
    "            \"date\": pd.date_range(\n",
    "                start=pd.to_datetime(hourly.Time(), unit=\"s\", utc=True),\n",
    "                end=pd.to_datetime(hourly.TimeEnd(), unit=\"s\", utc=True),\n",
    "                freq=pd.Timedelta(seconds=hourly.Interval()),\n",
    "                inclusive=\"left\"\n",
    "            ),\n",
    "            \"lat\": df_subset[\"lat\"].iloc[i_loc],\n",
    "            \"lon\": df_subset[\"lon\"].iloc[i_loc],\n",
    "            \"temperature_2m\": hourly.Variables(0).ValuesAsNumpy(),\n",
    "            \"relative_humidity_2m\": hourly.Variables(1).ValuesAsNumpy(),\n",
    "            \"dew_point_2m\": hourly.Variables(2).ValuesAsNumpy(),\n",
    "            \"apparent_temperature\": hourly.Variables(3).ValuesAsNumpy(),\n",
    "            \"precipitation\": hourly.Variables(4).ValuesAsNumpy(),\n",
    "            \"rain\": hourly.Variables(5).ValuesAsNumpy(),\n",
    "            \"snowfall\": hourly.Variables(6).ValuesAsNumpy(),\n",
    "            \"snow_depth\": hourly.Variables(7).ValuesAsNumpy(),\n",
    "            \"weather_code\": hourly.Variables(8).ValuesAsNumpy(),\n",
    "            \"pressure_msl\": hourly.Variables(9).ValuesAsNumpy(),\n",
    "            \"surface_pressure\": hourly.Variables(10).ValuesAsNumpy(),\n",
    "            \"cloud_cover\": hourly.Variables(11).ValuesAsNumpy(),\n",
    "            \"cloud_cover_low\": hourly.Variables(12).ValuesAsNumpy(),\n",
    "            \"cloud_cover_mid\": hourly.Variables(13).ValuesAsNumpy(),\n",
    "            \"cloud_cover_high\": hourly.Variables(14).ValuesAsNumpy(),\n",
    "            \"wind_speed_10m\": hourly.Variables(15).ValuesAsNumpy(),\n",
    "            \"wind_gusts_10m\": hourly.Variables(16).ValuesAsNumpy(),\n",
    "            \"is_day\": hourly.Variables(17).ValuesAsNumpy(),\n",
    "            \"sunshine_duration\": hourly.Variables(18).ValuesAsNumpy(),\n",
    "            \"timestamp_apicall\": timestamp_apicall,\n",
    "        }\n",
    "\n",
    "        # Convert to DataFrame and append to list\n",
    "        all_hourly_data.append(pd.DataFrame(hourly_data))\n",
    "        \n",
    "    time.sleep(2)\n"
   ]
  },
  {
   "cell_type": "markdown",
   "metadata": {},
   "source": [
    "### Data inspection (weather forecast)"
   ]
  },
  {
   "cell_type": "code",
   "execution_count": 16,
   "metadata": {},
   "outputs": [
    {
     "name": "stdout",
     "output_type": "stream",
     "text": [
      "300\n"
     ]
    }
   ],
   "source": [
    "# Print the length of the resulting list\n",
    "print(len(all_hourly_data))"
   ]
  },
  {
   "cell_type": "code",
   "execution_count": 17,
   "metadata": {},
   "outputs": [
    {
     "name": "stdout",
     "output_type": "stream",
     "text": [
      "(7200, 24)\n"
     ]
    }
   ],
   "source": [
    "# Concatenate all location data into a single DataFrame\n",
    "all_hourly_data = pd.concat(all_hourly_data)\n",
    "print(all_hourly_data.shape)"
   ]
  },
  {
   "cell_type": "code",
   "execution_count": 18,
   "metadata": {},
   "outputs": [
    {
     "data": {
      "text/html": [
       "<div>\n",
       "<style scoped>\n",
       "    .dataframe tbody tr th:only-of-type {\n",
       "        vertical-align: middle;\n",
       "    }\n",
       "\n",
       "    .dataframe tbody tr th {\n",
       "        vertical-align: top;\n",
       "    }\n",
       "\n",
       "    .dataframe thead th {\n",
       "        text-align: right;\n",
       "    }\n",
       "</style>\n",
       "<table border=\"1\" class=\"dataframe\">\n",
       "  <thead>\n",
       "    <tr style=\"text-align: right;\">\n",
       "      <th></th>\n",
       "      <th>id</th>\n",
       "      <th>lat</th>\n",
       "      <th>lon</th>\n",
       "      <th>temperature_2m</th>\n",
       "      <th>relative_humidity_2m</th>\n",
       "      <th>dew_point_2m</th>\n",
       "      <th>apparent_temperature</th>\n",
       "      <th>precipitation</th>\n",
       "      <th>rain</th>\n",
       "      <th>snowfall</th>\n",
       "      <th>snow_depth</th>\n",
       "    </tr>\n",
       "  </thead>\n",
       "  <tbody>\n",
       "    <tr>\n",
       "      <th>count</th>\n",
       "      <td>7200.000000</td>\n",
       "      <td>7200.000000</td>\n",
       "      <td>7200.000000</td>\n",
       "      <td>7200.000000</td>\n",
       "      <td>7200.000000</td>\n",
       "      <td>7200.000000</td>\n",
       "      <td>7200.000000</td>\n",
       "      <td>7200.000000</td>\n",
       "      <td>7200.000000</td>\n",
       "      <td>7200.000000</td>\n",
       "      <td>7200.000000</td>\n",
       "    </tr>\n",
       "    <tr>\n",
       "      <th>mean</th>\n",
       "      <td>166879.013333</td>\n",
       "      <td>47.118394</td>\n",
       "      <td>8.564355</td>\n",
       "      <td>9.963611</td>\n",
       "      <td>83.141113</td>\n",
       "      <td>7.163215</td>\n",
       "      <td>7.649970</td>\n",
       "      <td>0.280083</td>\n",
       "      <td>0.225972</td>\n",
       "      <td>0.000262</td>\n",
       "      <td>0.004565</td>\n",
       "    </tr>\n",
       "    <tr>\n",
       "      <th>std</th>\n",
       "      <td>28470.452458</td>\n",
       "      <td>0.299599</td>\n",
       "      <td>0.757814</td>\n",
       "      <td>3.352885</td>\n",
       "      <td>8.077754</td>\n",
       "      <td>3.310009</td>\n",
       "      <td>4.408439</td>\n",
       "      <td>1.019353</td>\n",
       "      <td>0.900437</td>\n",
       "      <td>0.012482</td>\n",
       "      <td>0.011918</td>\n",
       "    </tr>\n",
       "    <tr>\n",
       "      <th>min</th>\n",
       "      <td>22614.000000</td>\n",
       "      <td>46.326090</td>\n",
       "      <td>6.413507</td>\n",
       "      <td>-0.947000</td>\n",
       "      <td>56.000000</td>\n",
       "      <td>-3.152621</td>\n",
       "      <td>-9.467993</td>\n",
       "      <td>0.000000</td>\n",
       "      <td>0.000000</td>\n",
       "      <td>0.000000</td>\n",
       "      <td>0.000000</td>\n",
       "    </tr>\n",
       "    <tr>\n",
       "      <th>25%</th>\n",
       "      <td>145859.750000</td>\n",
       "      <td>46.862828</td>\n",
       "      <td>8.194187</td>\n",
       "      <td>7.839625</td>\n",
       "      <td>78.000000</td>\n",
       "      <td>4.856024</td>\n",
       "      <td>4.529517</td>\n",
       "      <td>0.000000</td>\n",
       "      <td>0.000000</td>\n",
       "      <td>0.000000</td>\n",
       "      <td>0.000000</td>\n",
       "    </tr>\n",
       "    <tr>\n",
       "      <th>50%</th>\n",
       "      <td>167929.000000</td>\n",
       "      <td>47.233362</td>\n",
       "      <td>8.698550</td>\n",
       "      <td>10.228500</td>\n",
       "      <td>84.000000</td>\n",
       "      <td>7.252944</td>\n",
       "      <td>7.955251</td>\n",
       "      <td>0.000000</td>\n",
       "      <td>0.000000</td>\n",
       "      <td>0.000000</td>\n",
       "      <td>0.000000</td>\n",
       "    </tr>\n",
       "    <tr>\n",
       "      <th>75%</th>\n",
       "      <td>188402.250000</td>\n",
       "      <td>47.303267</td>\n",
       "      <td>8.999902</td>\n",
       "      <td>12.482500</td>\n",
       "      <td>89.000000</td>\n",
       "      <td>9.824560</td>\n",
       "      <td>11.098064</td>\n",
       "      <td>0.100000</td>\n",
       "      <td>0.000000</td>\n",
       "      <td>0.000000</td>\n",
       "      <td>0.000000</td>\n",
       "    </tr>\n",
       "    <tr>\n",
       "      <th>max</th>\n",
       "      <td>223797.000000</td>\n",
       "      <td>47.602057</td>\n",
       "      <td>10.230199</td>\n",
       "      <td>20.336000</td>\n",
       "      <td>100.000000</td>\n",
       "      <td>15.388756</td>\n",
       "      <td>20.888086</td>\n",
       "      <td>14.900000</td>\n",
       "      <td>14.800001</td>\n",
       "      <td>0.980000</td>\n",
       "      <td>0.070000</td>\n",
       "    </tr>\n",
       "  </tbody>\n",
       "</table>\n",
       "</div>"
      ],
      "text/plain": [
       "                  id          lat          lon  temperature_2m  \\\n",
       "count    7200.000000  7200.000000  7200.000000     7200.000000   \n",
       "mean   166879.013333    47.118394     8.564355        9.963611   \n",
       "std     28470.452458     0.299599     0.757814        3.352885   \n",
       "min     22614.000000    46.326090     6.413507       -0.947000   \n",
       "25%    145859.750000    46.862828     8.194187        7.839625   \n",
       "50%    167929.000000    47.233362     8.698550       10.228500   \n",
       "75%    188402.250000    47.303267     8.999902       12.482500   \n",
       "max    223797.000000    47.602057    10.230199       20.336000   \n",
       "\n",
       "       relative_humidity_2m  dew_point_2m  apparent_temperature  \\\n",
       "count           7200.000000   7200.000000           7200.000000   \n",
       "mean              83.141113      7.163215              7.649970   \n",
       "std                8.077754      3.310009              4.408439   \n",
       "min               56.000000     -3.152621             -9.467993   \n",
       "25%               78.000000      4.856024              4.529517   \n",
       "50%               84.000000      7.252944              7.955251   \n",
       "75%               89.000000      9.824560             11.098064   \n",
       "max              100.000000     15.388756             20.888086   \n",
       "\n",
       "       precipitation         rain     snowfall   snow_depth  \n",
       "count    7200.000000  7200.000000  7200.000000  7200.000000  \n",
       "mean        0.280083     0.225972     0.000262     0.004565  \n",
       "std         1.019353     0.900437     0.012482     0.011918  \n",
       "min         0.000000     0.000000     0.000000     0.000000  \n",
       "25%         0.000000     0.000000     0.000000     0.000000  \n",
       "50%         0.000000     0.000000     0.000000     0.000000  \n",
       "75%         0.100000     0.000000     0.000000     0.000000  \n",
       "max        14.900000    14.800001     0.980000     0.070000  "
      ]
     },
     "execution_count": 18,
     "metadata": {},
     "output_type": "execute_result"
    }
   ],
   "source": [
    "# Describe first half of the columns in the dataframe to decide what data types to use\n",
    "all_hourly_data.iloc[:, :all_hourly_data.shape[1]//2].describe()"
   ]
  },
  {
   "cell_type": "code",
   "execution_count": 19,
   "metadata": {},
   "outputs": [
    {
     "data": {
      "text/html": [
       "<div>\n",
       "<style scoped>\n",
       "    .dataframe tbody tr th:only-of-type {\n",
       "        vertical-align: middle;\n",
       "    }\n",
       "\n",
       "    .dataframe tbody tr th {\n",
       "        vertical-align: top;\n",
       "    }\n",
       "\n",
       "    .dataframe thead th {\n",
       "        text-align: right;\n",
       "    }\n",
       "</style>\n",
       "<table border=\"1\" class=\"dataframe\">\n",
       "  <thead>\n",
       "    <tr style=\"text-align: right;\">\n",
       "      <th></th>\n",
       "      <th>weather_code</th>\n",
       "      <th>pressure_msl</th>\n",
       "      <th>surface_pressure</th>\n",
       "      <th>cloud_cover</th>\n",
       "      <th>cloud_cover_low</th>\n",
       "      <th>cloud_cover_mid</th>\n",
       "      <th>cloud_cover_high</th>\n",
       "      <th>wind_speed_10m</th>\n",
       "      <th>wind_gusts_10m</th>\n",
       "      <th>is_day</th>\n",
       "      <th>sunshine_duration</th>\n",
       "    </tr>\n",
       "  </thead>\n",
       "  <tbody>\n",
       "    <tr>\n",
       "      <th>count</th>\n",
       "      <td>7200.000000</td>\n",
       "      <td>7200.000000</td>\n",
       "      <td>7200.000000</td>\n",
       "      <td>7200.000000</td>\n",
       "      <td>7200.000000</td>\n",
       "      <td>7200.00000</td>\n",
       "      <td>7200.000000</td>\n",
       "      <td>7200.000000</td>\n",
       "      <td>7200.000000</td>\n",
       "      <td>7200.000000</td>\n",
       "      <td>7200.000000</td>\n",
       "    </tr>\n",
       "    <tr>\n",
       "      <th>mean</th>\n",
       "      <td>24.272499</td>\n",
       "      <td>1008.218445</td>\n",
       "      <td>893.844543</td>\n",
       "      <td>69.916389</td>\n",
       "      <td>38.981667</td>\n",
       "      <td>57.36264</td>\n",
       "      <td>4.720417</td>\n",
       "      <td>11.419364</td>\n",
       "      <td>34.034050</td>\n",
       "      <td>0.500000</td>\n",
       "      <td>646.923889</td>\n",
       "    </tr>\n",
       "    <tr>\n",
       "      <th>std</th>\n",
       "      <td>33.393726</td>\n",
       "      <td>2.575723</td>\n",
       "      <td>58.622932</td>\n",
       "      <td>33.373337</td>\n",
       "      <td>34.652050</td>\n",
       "      <td>38.72393</td>\n",
       "      <td>20.020611</td>\n",
       "      <td>7.580978</td>\n",
       "      <td>21.215044</td>\n",
       "      <td>0.500035</td>\n",
       "      <td>1299.763062</td>\n",
       "    </tr>\n",
       "    <tr>\n",
       "      <th>min</th>\n",
       "      <td>0.000000</td>\n",
       "      <td>1003.299988</td>\n",
       "      <td>761.400452</td>\n",
       "      <td>0.000000</td>\n",
       "      <td>0.000000</td>\n",
       "      <td>0.00000</td>\n",
       "      <td>0.000000</td>\n",
       "      <td>0.360000</td>\n",
       "      <td>2.160000</td>\n",
       "      <td>0.000000</td>\n",
       "      <td>0.000000</td>\n",
       "    </tr>\n",
       "    <tr>\n",
       "      <th>25%</th>\n",
       "      <td>2.000000</td>\n",
       "      <td>1006.200012</td>\n",
       "      <td>852.704758</td>\n",
       "      <td>48.000000</td>\n",
       "      <td>0.000000</td>\n",
       "      <td>14.75000</td>\n",
       "      <td>0.000000</td>\n",
       "      <td>5.315336</td>\n",
       "      <td>16.919998</td>\n",
       "      <td>0.000000</td>\n",
       "      <td>0.000000</td>\n",
       "    </tr>\n",
       "    <tr>\n",
       "      <th>50%</th>\n",
       "      <td>3.000000</td>\n",
       "      <td>1007.099976</td>\n",
       "      <td>910.774597</td>\n",
       "      <td>83.000000</td>\n",
       "      <td>39.000000</td>\n",
       "      <td>66.00000</td>\n",
       "      <td>0.000000</td>\n",
       "      <td>9.504272</td>\n",
       "      <td>30.239998</td>\n",
       "      <td>0.500000</td>\n",
       "      <td>0.000000</td>\n",
       "    </tr>\n",
       "    <tr>\n",
       "      <th>75%</th>\n",
       "      <td>61.000000</td>\n",
       "      <td>1010.400024</td>\n",
       "      <td>945.563507</td>\n",
       "      <td>100.000000</td>\n",
       "      <td>69.000000</td>\n",
       "      <td>99.00000</td>\n",
       "      <td>0.000000</td>\n",
       "      <td>16.167967</td>\n",
       "      <td>47.160000</td>\n",
       "      <td>1.000000</td>\n",
       "      <td>0.000000</td>\n",
       "    </tr>\n",
       "    <tr>\n",
       "      <th>max</th>\n",
       "      <td>99.000000</td>\n",
       "      <td>1015.099976</td>\n",
       "      <td>975.819885</td>\n",
       "      <td>100.000000</td>\n",
       "      <td>100.000000</td>\n",
       "      <td>100.00000</td>\n",
       "      <td>100.000000</td>\n",
       "      <td>43.295891</td>\n",
       "      <td>129.240005</td>\n",
       "      <td>1.000000</td>\n",
       "      <td>3600.000000</td>\n",
       "    </tr>\n",
       "  </tbody>\n",
       "</table>\n",
       "</div>"
      ],
      "text/plain": [
       "       weather_code  pressure_msl  surface_pressure  cloud_cover  \\\n",
       "count   7200.000000   7200.000000       7200.000000  7200.000000   \n",
       "mean      24.272499   1008.218445        893.844543    69.916389   \n",
       "std       33.393726      2.575723         58.622932    33.373337   \n",
       "min        0.000000   1003.299988        761.400452     0.000000   \n",
       "25%        2.000000   1006.200012        852.704758    48.000000   \n",
       "50%        3.000000   1007.099976        910.774597    83.000000   \n",
       "75%       61.000000   1010.400024        945.563507   100.000000   \n",
       "max       99.000000   1015.099976        975.819885   100.000000   \n",
       "\n",
       "       cloud_cover_low  cloud_cover_mid  cloud_cover_high  wind_speed_10m  \\\n",
       "count      7200.000000       7200.00000       7200.000000     7200.000000   \n",
       "mean         38.981667         57.36264          4.720417       11.419364   \n",
       "std          34.652050         38.72393         20.020611        7.580978   \n",
       "min           0.000000          0.00000          0.000000        0.360000   \n",
       "25%           0.000000         14.75000          0.000000        5.315336   \n",
       "50%          39.000000         66.00000          0.000000        9.504272   \n",
       "75%          69.000000         99.00000          0.000000       16.167967   \n",
       "max         100.000000        100.00000        100.000000       43.295891   \n",
       "\n",
       "       wind_gusts_10m       is_day  sunshine_duration  \n",
       "count     7200.000000  7200.000000        7200.000000  \n",
       "mean        34.034050     0.500000         646.923889  \n",
       "std         21.215044     0.500035        1299.763062  \n",
       "min          2.160000     0.000000           0.000000  \n",
       "25%         16.919998     0.000000           0.000000  \n",
       "50%         30.239998     0.500000           0.000000  \n",
       "75%         47.160000     1.000000           0.000000  \n",
       "max        129.240005     1.000000        3600.000000  "
      ]
     },
     "execution_count": 19,
     "metadata": {},
     "output_type": "execute_result"
    }
   ],
   "source": [
    "# Describe second half of the columns in the dataframe to decide what data types to use\n",
    "all_hourly_data.iloc[:, all_hourly_data.shape[1]//2:].describe()"
   ]
  },
  {
   "cell_type": "markdown",
   "metadata": {},
   "source": [
    "## Ingestion"
   ]
  },
  {
   "cell_type": "markdown",
   "metadata": {},
   "source": [
    "### Write to CSV file"
   ]
  },
  {
   "cell_type": "code",
   "execution_count": 20,
   "metadata": {},
   "outputs": [],
   "source": [
    "# Store data in csv\n",
    "all_hourly_data.to_csv(\"../data/processed/weather_forecast_1d_h.csv\")"
   ]
  },
  {
   "cell_type": "markdown",
   "metadata": {},
   "source": [
    "### Create empty SQL table"
   ]
  },
  {
   "cell_type": "code",
   "execution_count": 23,
   "metadata": {},
   "outputs": [],
   "source": [
    "# Create table if it doesn't exist\n",
    "table_name = \"OPNM_WeatherForecast_1d_H\"\n",
    "query = f\"\"\"\n",
    "    IF OBJECT_ID(N'dbo.{table_name}', N'U') IS NULL\n",
    "    BEGIN\n",
    "        CREATE TABLE {table_name} (\n",
    "            id                      INT         NOT NULL,\n",
    "            date                    DATETIME    NOT NULL,\n",
    "            lat                     FLOAT       NOT NULL,\n",
    "            lon                     FLOAT       NOT NULL,\n",
    "            temperature_2m          FLOAT       NULL,\n",
    "            relative_humidity_2m    FLOAT       NULL,\n",
    "            dew_point_2m            FLOAT       NULL,\n",
    "            apparent_temperature    FLOAT       NULL,\n",
    "            precipitation           FLOAT       NULL,\n",
    "            rain                    FLOAT       NULL,\n",
    "            snowfall                FLOAT       NULL,\n",
    "            snow_depth              FLOAT       NULL,\n",
    "            weather_code            FLOAT       NULL,\n",
    "            pressure_msl            FLOAT       NULL,\n",
    "            surface_pressure        FLOAT       NULL,\n",
    "            cloud_cover             FLOAT       NULL,\n",
    "            cloud_cover_low         FLOAT       NULL,\n",
    "            cloud_cover_mid         FLOAT       NULL,\n",
    "            cloud_cover_high        FLOAT       NULL,\n",
    "            wind_speed_10m          FLOAT       NULL,\n",
    "            wind_gusts_10m          FLOAT       NULL,\n",
    "            is_day                  FLOAT       NULL,\n",
    "            sunshine_duration       FLOAT       NULL,\n",
    "            timestamp_apicall       DATETIME    NULL,\n",
    "\n",
    "            PRIMARY KEY (id, date)\n",
    "        );\n",
    "    END\n",
    "    \"\"\"\n",
    "\n",
    "conn = pymssql.connect(server, db_user, db_password, database)\n",
    "cursor = conn.cursor()\n",
    "cursor.execute(query)\n",
    "\n",
    "conn.commit()\n",
    "conn.close()"
   ]
  },
  {
   "cell_type": "markdown",
   "metadata": {},
   "source": [
    "### Write to SQL database"
   ]
  },
  {
   "cell_type": "code",
   "execution_count": 24,
   "metadata": {},
   "outputs": [],
   "source": [
    "# Create connection string for SQLAlchemy\n",
    "connection_string = f\"mssql+pymssql://{db_user}:{db_password}@{server}/{database}\"\n",
    "engine = create_engine(connection_string)"
   ]
  },
  {
   "cell_type": "code",
   "execution_count": 25,
   "metadata": {},
   "outputs": [
    {
     "data": {
      "text/plain": [
       "66"
      ]
     },
     "execution_count": 25,
     "metadata": {},
     "output_type": "execute_result"
    }
   ],
   "source": [
    "# Ingest data to tabledatabase table\n",
    "all_hourly_data.to_sql(table_name, con=engine, if_exists='append', index=False)"
   ]
  }
 ],
 "metadata": {
  "kernelspec": {
   "display_name": "www",
   "language": "python",
   "name": "python3"
  },
  "language_info": {
   "codemirror_mode": {
    "name": "ipython",
    "version": 3
   },
   "file_extension": ".py",
   "mimetype": "text/x-python",
   "name": "python",
   "nbconvert_exporter": "python",
   "pygments_lexer": "ipython3",
   "version": "3.12.6"
  }
 },
 "nbformat": 4,
 "nbformat_minor": 2
}
