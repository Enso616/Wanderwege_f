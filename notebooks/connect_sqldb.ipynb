{
 "cells": [
  {
   "cell_type": "code",
   "execution_count": 50,
   "metadata": {},
   "outputs": [],
   "source": [
    "# Import required libraries\n",
    "import pyodbc\n",
    "import json\n",
    "import os\n",
    "import pandas as pd"
   ]
  },
  {
   "cell_type": "code",
   "execution_count": 14,
   "metadata": {},
   "outputs": [
    {
     "name": "stdout",
     "output_type": "stream",
     "text": [
      "c:\\Users\\etien\\OneDrive\\02_Progression\\CAS_DataEngineering_ZHAW\\03_Leistungsnachweis\\Wanderwege\\notebooks\n"
     ]
    }
   ],
   "source": [
    "# Get current working directory\n",
    "current_dir = os.getcwd()\n",
    "print(current_dir)\n",
    "\n",
    "# c:\\Users\\etien\\OneDrive\\02_Progression\\CAS_DataEngineering_ZHAW\\03_Leistungsnachweis\\Wanderwege\\notebooks"
   ]
  },
  {
   "cell_type": "code",
   "execution_count": 16,
   "metadata": {},
   "outputs": [],
   "source": [
    "# Load configuration from config/db_config.json\n",
    "with open('../config/db_config.json', 'r') as f:\n",
    "    db_config = json.load(f)\n",
    "\n",
    "# Access db credentials\n",
    "server = db_config['server']\n",
    "database = db_config['database']\n",
    "db_user = db_config['db_user']\n",
    "db_password = db_config['db_password']"
   ]
  },
  {
   "cell_type": "code",
   "execution_count": 45,
   "metadata": {},
   "outputs": [],
   "source": [
    "# Define the connection string\n",
    "connection_string = f'DRIVER={{ODBC Driver 17 for SQL Server}};SERVER={server};DATABASE={database};UID={db_user};PWD={db_password}'\n",
    "\n",
    "# Establish the connection\n",
    "conn = pyodbc.connect(connection_string)"
   ]
  },
  {
   "cell_type": "code",
   "execution_count": 46,
   "metadata": {},
   "outputs": [],
   "source": [
    "# Create a cursor object\n",
    "cursor = conn.cursor()"
   ]
  },
  {
   "cell_type": "code",
   "execution_count": 47,
   "metadata": {},
   "outputs": [
    {
     "name": "stdout",
     "output_type": "stream",
     "text": [
      "[('Microsoft SQL Azure (RTM) - 12.0.2000.8 \\n\\tSep  3 2024 11:34:29 \\n\\tCopyright (C) 2022 Microsoft Corporation\\n',)]\n"
     ]
    }
   ],
   "source": [
    "# Execute test query to check version\n",
    "cursor.execute(\"SELECT @@version;\")\n",
    "# Fetch the results\n",
    "row = cursor.fetchall()\n",
    "print(row)"
   ]
  },
  {
   "cell_type": "code",
   "execution_count": 48,
   "metadata": {},
   "outputs": [
    {
     "name": "stdout",
     "output_type": "stream",
     "text": [
      "Database Name: www_db\n",
      "Server Name: www-server\n"
     ]
    }
   ],
   "source": [
    "# Query to get server and database name\n",
    "cursor.execute(\"\"\"\n",
    "               SELECT DB_NAME() AS DataBaseName, \n",
    "               @@SERVERNAME AS ServerName;\n",
    "               \"\"\")\n",
    "result = cursor.fetchone()\n",
    "print(f\"Database Name: {result.DataBaseName}\")\n",
    "print(f\"Server Name: {result.ServerName}\")"
   ]
  },
  {
   "cell_type": "code",
   "execution_count": 66,
   "metadata": {},
   "outputs": [
    {
     "name": "stdout",
     "output_type": "stream",
     "text": [
      "['col1', 'col2']\n",
      "(1, 'sdfg')\n",
      "(345, '5gh')\n",
      "(3, 'abc')\n",
      "(9, 'Hello')\n",
      "-------------\n",
      "   col1   col2\n",
      "0     1   sdfg\n",
      "1   345    5gh\n",
      "2     3    abc\n",
      "3     9  Hello\n"
     ]
    }
   ],
   "source": [
    "# Sql query to get data from testtbl\n",
    "cursor.execute(\"\"\"\n",
    "               SELECT *\n",
    "               FROM \n",
    "               [dbo].[testtbl]\n",
    "               \"\"\")\n",
    "\n",
    "# Fetch column headers\n",
    "columns = [desc[0] for desc in cursor.description]\n",
    "print(columns) \n",
    "\n",
    "# Fetch rows\n",
    "rows = cursor.fetchall()\n",
    "for row in rows:\n",
    "    print(row)\n",
    "\n",
    "print(\"-------------\") \n",
    "df = pd.DataFrame.from_records(data=rows, columns=columns)\n",
    "print(df)\n"
   ]
  },
  {
   "cell_type": "code",
   "execution_count": 58,
   "metadata": {},
   "outputs": [
    {
     "data": {
      "text/plain": [
       "['col1', 'col2']"
      ]
     },
     "execution_count": 58,
     "metadata": {},
     "output_type": "execute_result"
    }
   ],
   "source": []
  },
  {
   "cell_type": "code",
   "execution_count": null,
   "metadata": {},
   "outputs": [],
   "source": [
    "conn.close()    # Close connection"
   ]
  }
 ],
 "metadata": {
  "kernelspec": {
   "display_name": "www",
   "language": "python",
   "name": "python3"
  },
  "language_info": {
   "codemirror_mode": {
    "name": "ipython",
    "version": 3
   },
   "file_extension": ".py",
   "mimetype": "text/x-python",
   "name": "python",
   "nbconvert_exporter": "python",
   "pygments_lexer": "ipython3",
   "version": "3.12.5"
  }
 },
 "nbformat": 4,
 "nbformat_minor": 2
}
