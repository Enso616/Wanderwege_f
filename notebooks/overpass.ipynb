{
 "cells": [
  {
   "cell_type": "markdown",
   "metadata": {},
   "source": [
    "# Open Street Map Data\n",
    "\n",
    "This notebook is used to extract hiking route data from the Overpass API ([Link](https://overpass-turbo.eu/)).\n",
    "\n",
    "First, we request hiking routes from the API using Overpass QL (short for \"Overpass Query Language\").\n",
    "In OpenStreetMap, hiking routes are defined as relations. We search for relations with specific signage and the tags \"hiking routes,\" \"local walking network\",\n",
    "within an area slightly larger than Switzerland. Using \"Center\" as Output, OpenStreetMap calculates the central location of each route.\n",
    "Since the \"name\" tag is often missing, we interpolate the name by concatenating the start and end points of each hiking route.\n",
    "Finally, we retrieve the ID, name, latitude, and longitude as data points. \n",
    "\n",
    "The data is then converted into a DataFrame object, and a table is created in an SQL database (hosted on Microsoft Azure)."
   ]
  },
  {
   "cell_type": "code",
   "execution_count": 50,
   "metadata": {},
   "outputs": [],
   "source": [
    "# Import required libraries\n",
    "import os\n",
    "import json\n",
    "import overpy\n",
    "import pyodbc\n",
    "import urllib\n",
    "import pymssql\n",
    "import pandas as pd \n",
    "from sqlalchemy import Integer, String, Float, DATETIME, create_engine"
   ]
  },
  {
   "cell_type": "markdown",
   "metadata": {},
   "source": [
    "### Connect to API"
   ]
  },
  {
   "cell_type": "code",
   "execution_count": 51,
   "metadata": {},
   "outputs": [],
   "source": [
    "# Initialize the Overpass API with a custom URL\n",
    "api = overpy.Overpass(url=\"http://overpass.osm.ch/api/interpreter\")\n",
    "\n",
    "# Overpass query for hiking trails within Switzerland. Using 'center', we obtain the coordinates in the middle of a hiking trail\n",
    "query = \"\"\"\n",
    "[out:json];\n",
    "relation\n",
    "[\"route\"=\"hiking\"]\n",
    "//[\"name\"!~\"fixme\", i]\n",
    "[\"network\"=\"lwn\"]\n",
    "[\"osmc:symbol\"~\"yellow::yellow_diamond|red:white:red_bar|yellow:white:yellow_diamond|blue:white:blue_bar\"]\n",
    "(45.8899, 6.0872, 47.8085, 10.4921);\n",
    "out center tags;\n",
    "\"\"\"\n",
    "\n",
    "# Execute the request\n",
    "result = api.query(query)"
   ]
  },
  {
   "cell_type": "markdown",
   "metadata": {},
   "source": [
    "### Save Data to DataFrame"
   ]
  },
  {
   "cell_type": "code",
   "execution_count": 53,
   "metadata": {},
   "outputs": [
    {
     "name": "stdout",
     "output_type": "stream",
     "text": [
      "       id                                          name        von  \\\n",
      "0   22614  Nationalpark Wanderroute 15 (Munt la Schera)       None   \n",
      "1  103607                                 Wanderwege SG       None   \n",
      "2  112830                                          None  Uetliberg   \n",
      "3  112831                                          None  Folenweid   \n",
      "4  112833                                          None  Felsenegg   \n",
      "\n",
      "                  bis         lat         lon                  symbol  \\\n",
      "0                None  46.6501430  10.2301984       red:white:red_bar   \n",
      "1                None  47.4309774   9.6201700  yellow::yellow_diamond   \n",
      "2  Uetliberg Uto Kulm  47.3511680   8.4897796  yellow::yellow_diamond   \n",
      "3             Baldern  47.3291235   8.5007261  yellow::yellow_diamond   \n",
      "4            Balderen  47.3152439   8.5050559  yellow::yellow_diamond   \n",
      "\n",
      "     timestamp_apicall  \n",
      "0  2024-11-17 15:11:16  \n",
      "1  2024-11-17 15:11:16  \n",
      "2  2024-11-17 15:11:16  \n",
      "3  2024-11-17 15:11:16  \n",
      "4  2024-11-17 15:11:16  \n"
     ]
    }
   ],
   "source": [
    "# Add time and datestamp of API call to dataframe\n",
    "timestamp_apicall = pd.Timestamp.now().strftime(\"%Y-%m-%d %H:%M:%S\")\n",
    "\n",
    "# List to store the extracted information\n",
    "list = []\n",
    "\n",
    "# Iterate over all relations\n",
    "for relation in result.relations:\n",
    "\n",
    "    # Extract relevant data\n",
    "    org_name = relation.tags.get('name')\n",
    "    org_to = relation.tags.get('to')\n",
    "    org_from = relation.tags.get('from')\n",
    "    org_symbol = relation.tags.get('osmc:symbol')\n",
    "    \n",
    "    # Center is a tuple with latitude and longitude, we want only a single value\n",
    "    lat = getattr(relation, 'center_lat')\n",
    "    lon = getattr(relation, 'center_lon')\n",
    "    \n",
    "    # If the original name is not available, construct it from 'from' and 'to'\n",
    "\n",
    "    dict = {    \n",
    "    'id': relation.id,\n",
    "    'name': org_name,\n",
    "    'von': org_from,\n",
    "    'bis': org_to,\n",
    "    'lat': lat,\n",
    "    'lon': lon,\n",
    "    'symbol': org_symbol,\n",
    "    # 'distance': distance,\n",
    "    # 'ascent': ascent,\n",
    "    'timestamp_apicall': timestamp_apicall}\n",
    "\n",
    "        # Each tuple is now saved in the list as a new row\n",
    "    list.append(dict)\n",
    "\n",
    "# Once all data is processed, create the DataFrame\n",
    "df_wanderwege = pd.DataFrame(list)\n",
    "\n",
    "# Print the DataFrame\n",
    "print(df_wanderwege.head())"
   ]
  },
  {
   "cell_type": "code",
   "execution_count": 5,
   "metadata": {},
   "outputs": [],
   "source": [
    "# optional: Store data in csv\n",
    "df_wanderwege.to_csv(\"../data/processed/overpass.csv\")"
   ]
  },
  {
   "cell_type": "code",
   "execution_count": 54,
   "metadata": {},
   "outputs": [],
   "source": [
    "# Convert lat and lon to numeric, timestamp to datetime\n",
    "df_wanderwege['lat'] = pd.to_numeric(df_wanderwege['lat'], errors='coerce')\n",
    "df_wanderwege['lon'] = pd.to_numeric(df_wanderwege['lon'], errors='coerce')\n",
    "df_wanderwege['timestamp_apicall'] = pd.to_datetime(df_wanderwege['timestamp_apicall'], errors='coerce')"
   ]
  },
  {
   "cell_type": "markdown",
   "metadata": {},
   "source": [
    "### Connect to SQL Server"
   ]
  },
  {
   "cell_type": "code",
   "execution_count": 55,
   "metadata": {},
   "outputs": [],
   "source": [
    "# Load configuration from config/db_config.json\n",
    "with open('../config/db_config.json', 'r') as f:\n",
    "    db_config = json.load(f)\n",
    "\n",
    "# Get database credentials\n",
    "server = db_config['server']\n",
    "database = db_config['database']\n",
    "db_user = db_config['db_user']\n",
    "db_password = db_config['db_password']"
   ]
  },
  {
   "cell_type": "markdown",
   "metadata": {},
   "source": [
    "### Create empty SQL table"
   ]
  },
  {
   "cell_type": "code",
   "execution_count": 56,
   "metadata": {},
   "outputs": [],
   "source": [
    "# Create table if it doesn't exist\n",
    "table_name = \"OVRP_HikingRoutes\"\n",
    "query = f\"\"\"\n",
    "    IF OBJECT_ID(N'dbo.{table_name}', N'U') IS NULL\n",
    "    BEGIN\n",
    "        CREATE TABLE {table_name} (\n",
    "            id                      INT         NOT NULL,\n",
    "            name                    VARCHAR(255) NULL,\n",
    "            von                     VARCHAR(255) NULL,\n",
    "            bis                     VARCHAR(255) NULL,\n",
    "            lat                     FLOAT       NOT NULL,\n",
    "            lon                     FLOAT       NOT NULL,\n",
    "            symbol                  VARCHAR(255) NULL,\n",
    "            timestamp_apicall       DATETIME    NULL,\n",
    "            PRIMARY KEY (id)\n",
    "        );\n",
    "    END\n",
    "    \"\"\"\n",
    "\n",
    "conn = pymssql.connect(server, db_user, db_password, database)\n",
    "cursor = conn.cursor()\n",
    "cursor.execute(query)\n",
    "\n",
    "conn.commit()\n",
    "conn.close()"
   ]
  },
  {
   "cell_type": "code",
   "execution_count": 57,
   "metadata": {},
   "outputs": [],
   "source": [
    "# Create connection string for SQLAlchemy\n",
    "connection_string = f\"mssql+pymssql://{db_user}:{db_password}@{server}/{database}\"\n",
    "engine = create_engine(connection_string)"
   ]
  },
  {
   "cell_type": "code",
   "execution_count": 58,
   "metadata": {},
   "outputs": [
    {
     "name": "stdout",
     "output_type": "stream",
     "text": [
      "DataFrame erfolgreich in die MSSQL-Datenbank geladen!\n"
     ]
    }
   ],
   "source": [
    "# Ingest data to tabledatabase table\n",
    "df_wanderwege.to_sql(table_name, con=engine, if_exists='replace', index=False)\n",
    "print(\"DataFrame erfolgreich in die MSSQL-Datenbank geladen!\")"
   ]
  }
 ],
 "metadata": {
  "kernelspec": {
   "display_name": "www",
   "language": "python",
   "name": "python3"
  },
  "language_info": {
   "codemirror_mode": {
    "name": "ipython",
    "version": 3
   },
   "file_extension": ".py",
   "mimetype": "text/x-python",
   "name": "python",
   "nbconvert_exporter": "python",
   "pygments_lexer": "ipython3",
   "version": "3.12.6"
  }
 },
 "nbformat": 4,
 "nbformat_minor": 2
}
