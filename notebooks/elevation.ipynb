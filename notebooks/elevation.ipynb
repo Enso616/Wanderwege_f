{
 "cells": [
  {
   "cell_type": "code",
   "execution_count": 14,
   "metadata": {},
   "outputs": [],
   "source": [
    "import requests\n",
    "import json\n",
    "import pandas as pd"
   ]
  },
  {
   "cell_type": "code",
   "execution_count": 37,
   "metadata": {},
   "outputs": [],
   "source": [
    "with open(\"../config/api_config.json\", 'r') as f:\n",
    "    api_config = json.load(f)\n",
    "\n",
    "api_key = api_config[\"api_key_google_maps\"]\n",
    "#print(api_config)\n"
   ]
  },
  {
   "cell_type": "code",
   "execution_count": 39,
   "metadata": {},
   "outputs": [
    {
     "name": "stdout",
     "output_type": "stream",
     "text": [
      "Antwort für ID 1.0: {'results': [{'elevation': 1283.692626953125, 'location': {'lat': 46.8609414, 'lng': 6.6144089}, 'resolution': 19.08790397644043}], 'status': 'OK'}\n",
      "Antwort für ID 2.0: {'results': [{'elevation': 545.0407104492188, 'location': {'lat': 46.9481, 'lng': 7.4474}, 'resolution': 19.08790397644043}], 'status': 'OK'}\n",
      "Antwort für ID 3.0: {'results': [{'elevation': 372.2217712402344, 'location': {'lat': 46.2044, 'lng': 6.1432}, 'resolution': 19.08790397644043}], 'status': 'OK'}\n",
      "    id   latitude  longitude    elevation\n",
      "0  1.0  46.860941   6.614409  1283.692627\n",
      "1  2.0  46.948100   7.447400   545.040710\n",
      "2  3.0  46.204400   6.143200   372.221771\n"
     ]
    }
   ],
   "source": [
    "# Beispiel-DataFrame mit IDs, Latitude und Longitude\n",
    "waypoints = pd.DataFrame({\n",
    "    \"id\": [1, 2, 3],\n",
    "    \"latitude\": [46.8609414, 46.9481, 46.2044],\n",
    "    \"longitude\": [6.6144089, 7.4474, 6.1432]\n",
    "})\n",
    "\n",
    "# Leere Liste für die Ergebnisse\n",
    "results = []\n",
    "\n",
    "# Iteration über die Zeilen im DataFrame\n",
    "for index, row in waypoints.iterrows():\n",
    "    latitude = row[\"latitude\"]\n",
    "    longitude = row[\"longitude\"]\n",
    "    waypoint_id = row[\"id\"]\n",
    "\n",
    "    # API-Request vorbereiten\n",
    "    url = f\"https://maps.googleapis.com/maps/api/elevation/json\"\n",
    "    params = {\n",
    "        \"locations\": f\"{latitude},{longitude}\",\n",
    "        \"key\": api_key\n",
    "    }\n",
    "\n",
    "    try:\n",
    "        # API-Request senden\n",
    "        response = requests.get(url, params=params)\n",
    "        response.raise_for_status()\n",
    "        data = response.json()\n",
    "\n",
    "        # Debugging: API-Antwort prüfen\n",
    "        print(f\"Antwort für ID {waypoint_id}: {data}\")\n",
    "\n",
    "        # Höhe aus der API-Antwort extrahieren\n",
    "\n",
    "        elevation = data[\"results\"][0][\"elevation\"]\n",
    "\n",
    "\n",
    "        # Ergebnisse speichern\n",
    "        results.append({\n",
    "            \"id\": waypoint_id,\n",
    "            \"latitude\": latitude,\n",
    "            \"longitude\": longitude,\n",
    "            \"elevation\": elevation\n",
    "        })\n",
    "\n",
    "    except (requests.exceptions.RequestException, KeyError, IndexError) as e:\n",
    "        print(f\"Fehler für ID {waypoint_id}: {e}\")\n",
    "        results.append({\n",
    "            \"id\": waypoint_id,\n",
    "            \"latitude\": latitude,\n",
    "            \"longitude\": longitude,\n",
    "            \"elevation\": None\n",
    "        })\n",
    "\n",
    "# Ergebnisse in einen DataFrame umwandeln\n",
    "result_df = pd.DataFrame(results)\n",
    "\n",
    "# Ausgabe des Ergebnisses\n",
    "print(result_df)\n"
   ]
  },
  {
   "cell_type": "code",
   "execution_count": 20,
   "metadata": {},
   "outputs": [
    {
     "name": "stdout",
     "output_type": "stream",
     "text": [
      "1283.692626953125\n"
     ]
    }
   ],
   "source": [
    "\n",
    "\n",
    "def get_elevation(api_key, latitude, longitude):\n",
    "\n",
    "    url = f\"https://maps.googleapis.com/maps/api/elevation/json\"\n",
    "    params = {\n",
    "        \"locations\": f\"{latitude},{longitude}\",\n",
    "        \"key\": api_key\n",
    "    }\n",
    "    response = requests.get(url, params=params)\n",
    "    data = response.json()\n",
    "\n",
    "    elevation = data[\"results\"][0][\"elevation\"]\n",
    "    return elevation\n",
    "\n",
    "result = get_elevation(api_key, latitude, longitude)\n",
    "print(result)\n"
   ]
  }
 ],
 "metadata": {
  "kernelspec": {
   "display_name": "www",
   "language": "python",
   "name": "python3"
  },
  "language_info": {
   "codemirror_mode": {
    "name": "ipython",
    "version": 3
   },
   "file_extension": ".py",
   "mimetype": "text/x-python",
   "name": "python",
   "nbconvert_exporter": "python",
   "pygments_lexer": "ipython3",
   "version": "3.12.6"
  }
 },
 "nbformat": 4,
 "nbformat_minor": 2
}
