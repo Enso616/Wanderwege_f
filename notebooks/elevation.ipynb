{
 "cells": [
  {
   "cell_type": "code",
   "execution_count": 1,
   "metadata": {},
   "outputs": [],
   "source": [
    "import requests\n",
    "import json"
   ]
  },
  {
   "cell_type": "code",
   "execution_count": 2,
   "metadata": {},
   "outputs": [],
   "source": [
    "with open(\"../config/api_config.json\", 'r') as f:\n",
    "    api_config = json.load(f)\n",
    "\n",
    "api_key = api_config[\"api_key_google_maps\"]\n",
    "#print(api_config)\n"
   ]
  },
  {
   "cell_type": "code",
   "execution_count": null,
   "metadata": {},
   "outputs": [
    {
     "name": "stdout",
     "output_type": "stream",
     "text": [
      "Höhe: 1283.692626953125 Meter\n"
     ]
    }
   ],
   "source": [
    "import requests\n",
    "\n",
    "def get_elevation(api_key, latitude, longitude):\n",
    "    \"\"\"\n",
    "    Ruft die Höhe eines Punktes basierend auf Breiten- und Längengrad ab.\n",
    "\n",
    "    :param api_key: Dein Google Maps API-Schlüssel.\n",
    "    :param latitude: Breitengrad des Punktes.\n",
    "    :param longitude: Längengrad des Punktes.\n",
    "    :return: Höhe in Metern oder eine Fehlermeldung.\n",
    "    \"\"\"\n",
    "    url = f\"https://maps.googleapis.com/maps/api/elevation/json\"\n",
    "    params = {\n",
    "        \"locations\": f\"{latitude},{longitude}\",\n",
    "        \"key\": api_key\n",
    "    }\n",
    "    \n",
    "    try:\n",
    "        response = requests.get(url, params=params)\n",
    "        response.raise_for_status()\n",
    "        data = response.json()\n",
    "\n",
    "        if \"results\" in data and data[\"results\"]:\n",
    "            elevation = data[\"results\"][0][\"elevation\"]\n",
    "            return f\"Höhe: {elevation} Meter\"\n",
    "        else:\n",
    "            return \"Keine Höheninformationen verfügbar.\"\n",
    "    except requests.exceptions.RequestException as e:\n",
    "        return f\"Fehler bei der API-Anfrage: {e}\"\n",
    "\n",
    "# Beispielnutzung\n",
    "if __name__ == \"__main__\":\n",
    "    latitude = 46.8609414  # Beispiel: Koordinaten von Bern, Schweiz\n",
    "    longitude = 6.6144089\n",
    "\n",
    "\n",
    "\n",
    "    result = get_elevation(api_key, latitude, longitude)\n",
    "    print(result)\n"
   ]
  }
 ],
 "metadata": {
  "kernelspec": {
   "display_name": "www",
   "language": "python",
   "name": "python3"
  },
  "language_info": {
   "codemirror_mode": {
    "name": "ipython",
    "version": 3
   },
   "file_extension": ".py",
   "mimetype": "text/x-python",
   "name": "python",
   "nbconvert_exporter": "python",
   "pygments_lexer": "ipython3",
   "version": "3.12.6"
  }
 },
 "nbformat": 4,
 "nbformat_minor": 2
}
