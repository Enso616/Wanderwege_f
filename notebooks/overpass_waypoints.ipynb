{
 "cells": [
  {
   "cell_type": "code",
   "execution_count": null,
   "metadata": {},
   "outputs": [],
   "source": [
    "import overpy\n",
    "import pandas as pd \n",
    "import requests\n",
    "import json\n",
    "import pymssql\n",
    "from sqlalchemy import Integer, String, Float, DATETIME, create_engine"
   ]
  },
  {
   "cell_type": "code",
   "execution_count": null,
   "metadata": {},
   "outputs": [],
   "source": [
    "# Load configuration from config/db_config.json\n",
    "with open('../config/db_config.json', 'r') as f:\n",
    "    db_config = json.load(f)\n",
    "\n",
    "# Get database credentials\n",
    "server = db_config['server']\n",
    "database = db_config['database']\n",
    "db_user = db_config['db_user']\n",
    "db_password = db_config['db_password']"
   ]
  },
  {
   "cell_type": "code",
   "execution_count": null,
   "metadata": {},
   "outputs": [],
   "source": [
    "# Connect to SQL Database\n",
    "conn = pymssql.connect(server, db_user, db_password, database)\n",
    "\n",
    "# Create connection string for SQLAlchemy\n",
    "connection_string = f\"mssql+pymssql://{db_user}:{db_password}@{server}/{database}\"\n",
    "engine = create_engine(connection_string)"
   ]
  },
  {
   "cell_type": "code",
   "execution_count": 76,
   "metadata": {},
   "outputs": [
    {
     "name": "stdout",
     "output_type": "stream",
     "text": [
      "            id\n",
      "0        22614\n",
      "1       120125\n",
      "2       121950\n",
      "3       121951\n",
      "4       121952\n",
      "...        ...\n",
      "2819  18242844\n",
      "2820  18242846\n",
      "2821  18242856\n",
      "2822  18260265\n",
      "2823  18260266\n",
      "\n",
      "[2824 rows x 1 columns]\n"
     ]
    }
   ],
   "source": [
    "# SQL-Abfrage für die gewünschten Spalten\n",
    "query = \"SELECT DISTINCT id FROM OVRP_HikingRoutes\"\n",
    "\n",
    "# Daten aus der Azure SQL-Datenbank laden\n",
    "relation_ids = pd.read_sql_query(query, con=engine)\n",
    "\n",
    "# Ergebnis anzeigen\n",
    "print(relation_ids)\n"
   ]
  },
  {
   "cell_type": "code",
   "execution_count": 78,
   "metadata": {},
   "outputs": [
    {
     "name": "stdout",
     "output_type": "stream",
     "text": [
      "Ungültige IDs gefunden: ['id']\n"
     ]
    }
   ],
   "source": [
    "# Funktion zur Überprüfung der Gültigkeit\n",
    "def check_valid_ids(ids):\n",
    "    invalid_ids = []\n",
    "    for rid in ids:\n",
    "        if not isinstance(rid, int) or rid <= 0:  # Prüfen, ob die ID eine positive Ganzzahl ist\n",
    "            invalid_ids.append(rid)\n",
    "    return invalid_ids\n",
    "\n",
    "# Ungültige IDs finden\n",
    "invalid_ids = check_valid_ids(relation_ids)\n",
    "\n",
    "# Ergebnis anzeigen\n",
    "if invalid_ids:\n",
    "    print(\"Ungültige IDs gefunden:\", invalid_ids)\n",
    "else:\n",
    "    print(\"Alle IDs sind gültig.\")"
   ]
  },
  {
   "cell_type": "code",
   "execution_count": 79,
   "metadata": {},
   "outputs": [],
   "source": [
    "relation_ids = relation_ids['id'].tolist()"
   ]
  },
  {
   "cell_type": "code",
   "execution_count": null,
   "metadata": {},
   "outputs": [],
   "source": [
    "relation_ids = [12624412, 15527560, 15527560]  # Beispiel-IDs"
   ]
  },
  {
   "cell_type": "code",
   "execution_count": 80,
   "metadata": {},
   "outputs": [
    {
     "name": "stdout",
     "output_type": "stream",
     "text": [
      "       relation_id      way_id        lat        lon  highway  surface  \\\n",
      "0            22614    25795627  46.647699  10.266808     path     None   \n",
      "1            22614    25795655  46.638655  10.211410     path     None   \n",
      "2            22614    25795657  46.640812  10.203378     path     None   \n",
      "3            22614    36913824  46.639047  10.242167     path     None   \n",
      "4            22614    59062846  46.664058  10.210320  primary  asphalt   \n",
      "...            ...         ...        ...        ...      ...      ...   \n",
      "30472     18260265   497875016  47.700263   8.858103    track  asphalt   \n",
      "30473     18260265   497875017  47.701347   8.859138    track   gravel   \n",
      "30474     18260265  1331682671  47.698765   8.857494    track     None   \n",
      "30475     18260266   226764756  47.701344   8.874168    track   gravel   \n",
      "30476     18260266   497874970  47.703585   8.873041    track     None   \n",
      "\n",
      "        timestamp_apicall  \n",
      "0     2024-11-20 17:13:12  \n",
      "1     2024-11-20 17:13:12  \n",
      "2     2024-11-20 17:13:12  \n",
      "3     2024-11-20 17:13:12  \n",
      "4     2024-11-20 17:13:12  \n",
      "...                   ...  \n",
      "30472 2024-11-20 17:13:12  \n",
      "30473 2024-11-20 17:13:12  \n",
      "30474 2024-11-20 17:13:12  \n",
      "30475 2024-11-20 17:13:12  \n",
      "30476 2024-11-20 17:13:12  \n",
      "\n",
      "[30477 rows x 7 columns]\n"
     ]
    }
   ],
   "source": [
    "api = overpy.Overpass(url=\"http://overpass.osm.ch/api/interpreter\")\n",
    "\n",
    "timestamp_apicall = pd.Timestamp.now().strftime(\"%Y-%m-%d %H:%M:%S\")\n",
    "\n",
    "\n",
    "# Leere Liste für die Ergebnisse\n",
    "results = []\n",
    "\n",
    "# Overpass-Abfragen iterativ durchführen\n",
    "for relation_id in relation_ids:\n",
    "    # Overpass-Abfrage\n",
    "    \n",
    "    query = f\"\"\"\n",
    "    [out:json];\n",
    "    relation[\"route\"=\"hiking\"](id:{relation_id});\n",
    "    out ids;  // Gibt die Relation-ID aus\n",
    "    way(r);\n",
    "    out ids center tags;  // Gibt die Way-IDs und ihre Mittelpunkte aus\n",
    "    \"\"\"\n",
    "    result = api.query(query)\n",
    "    # Anfrage an die Overpass-API senden\n",
    "   \n",
    "    for way in result.ways:\n",
    "            if way.center_lat and way.center_lon:\n",
    "                # Daten als Dictionary speichern\n",
    "                results.append({\n",
    "                    \"relation_id\": relation_id,\n",
    "                    \"way_id\": way.id,\n",
    "                    \"lat\": way.center_lat,\n",
    "                    \"lon\": way.center_lon,\n",
    "                    \"highway\": way.tags.get(\"highway\", None),\n",
    "                    \"surface\": way.tags.get(\"surface\", None),\n",
    "                    \"timestamp_apicall\": timestamp_apicall\n",
    "                })\n",
    "\n",
    "# Convert lat and lon to numeric, timestamp to datetime\n",
    "\n",
    "\n",
    "\n",
    "# Ergebnisse in einen DataFrame konvertieren\n",
    "df_wege = pd.DataFrame(results)\n",
    "df_wege['lat'] = pd.to_numeric(df_wege['lat'], errors='coerce')\n",
    "df_wege['lon'] = pd.to_numeric(df_wege['lon'], errors='coerce')\n",
    "df_wege['timestamp_apicall'] = pd.to_datetime(df_wege['timestamp_apicall'], errors='coerce')\n",
    "\n",
    "# Ergebnis anzeigen\n",
    "print(df_wege)\n",
    "\n",
    "\n"
   ]
  },
  {
   "cell_type": "code",
   "execution_count": 82,
   "metadata": {},
   "outputs": [
    {
     "name": "stdout",
     "output_type": "stream",
     "text": [
      "Anzahl der Zeilen im DataFrame: 30477\n"
     ]
    }
   ],
   "source": [
    "print(f\"Anzahl der Zeilen im DataFrame: {df_wege.shape[0]}\")"
   ]
  },
  {
   "cell_type": "code",
   "execution_count": null,
   "metadata": {},
   "outputs": [],
   "source": [
    "# Create table if it doesn't exist\n",
    "table_name = \"OVRP_ways\"\n",
    "query = f\"\"\"\n",
    "        CREATE TABLE OVRP_ways_test (\n",
    "            id                      INT         NOT NULL PRIMARY KEY,\n",
    "            id_relation             INT         NOT NULL,\n",
    "            lat                     FLOAT       NOT NULL,\n",
    "            lon                     FLOAT       NOT NULL,\n",
    "            highway                 VARCHAR(255) NULL,\n",
    "            surface                 VARCHAR(255) NULL,\n",
    "            timestamp_apicall       DATETIME    NULL,\n",
    "            FOREIGN KEY (id_relation) REFERENCES OVRP_HikingRoutes (id)\n",
    "        );\n",
    "    \"\"\"\n",
    "\n",
    "conn = pymssql.connect(server, db_user, db_password, database)\n",
    "cursor = conn.cursor()\n",
    "cursor.execute(query)\n",
    "\n",
    "conn.commit()\n",
    "conn.close()"
   ]
  },
  {
   "cell_type": "code",
   "execution_count": 87,
   "metadata": {},
   "outputs": [
    {
     "name": "stdout",
     "output_type": "stream",
     "text": [
      "DataFrame erfolgreich in die MSSQL-Datenbank geladen!\n"
     ]
    }
   ],
   "source": [
    "# Create connection string for SQLAlchemy\n",
    "connection_string = f\"mssql+pymssql://{db_user}:{db_password}@{server}/{database}\"\n",
    "engine = create_engine(connection_string)\n",
    "\n",
    "# Ingest data to tabledatabase table\n",
    "df_wege.to_sql(table_name, con=engine, if_exists='replace', index=False)\n",
    "print(\"DataFrame erfolgreich in die MSSQL-Datenbank geladen!\")"
   ]
  }
 ],
 "metadata": {
  "kernelspec": {
   "display_name": "www",
   "language": "python",
   "name": "python3"
  },
  "language_info": {
   "codemirror_mode": {
    "name": "ipython",
    "version": 3
   },
   "file_extension": ".py",
   "mimetype": "text/x-python",
   "name": "python",
   "nbconvert_exporter": "python",
   "pygments_lexer": "ipython3",
   "version": "3.12.6"
  }
 },
 "nbformat": 4,
 "nbformat_minor": 2
}
