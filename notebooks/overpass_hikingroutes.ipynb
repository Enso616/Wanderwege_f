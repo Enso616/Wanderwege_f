{
 "cells": [
  {
   "cell_type": "markdown",
   "metadata": {},
   "source": [
    "# Open Street Map Data\n",
    "\n",
    "This notebook is used to extract hiking route data from the Overpass API ([Link](https://overpass-turbo.eu/)).\n",
    "\n",
    "First, we request hiking routes from the API using Overpass QL (short for \"Overpass Query Language\").\n",
    "In OpenStreetMap, hiking routes are defined as relations. We search for relations with specific signage and the tags \"hiking routes,\" \"local walking network\",\n",
    "within an area slightly larger than Switzerland. Using \"Center\" as Output, OpenStreetMap calculates the central location of each route.\n",
    "Since the \"name\" tag is often missing, we interpolate the name by concatenating the start and end points of each hiking route.\n",
    "Finally, we retrieve the ID, name, latitude, and longitude as data points. \n",
    "\n",
    "The data is then converted into a DataFrame object, and a table is created in an SQL database (hosted on Microsoft Azure)."
   ]
  },
  {
   "cell_type": "code",
   "execution_count": 97,
   "metadata": {},
   "outputs": [],
   "source": [
    "# Import required libraries\n",
    "import os\n",
    "import json\n",
    "import overpy\n",
    "import pyodbc\n",
    "import urllib\n",
    "import pymssql\n",
    "import pandas as pd \n",
    "import seaborn as sns\n",
    "import matplotlib.pyplot as plt\n",
    "from sqlalchemy import Integer, String, Float, DATETIME, create_engine"
   ]
  },
  {
   "cell_type": "markdown",
   "metadata": {},
   "source": [
    "### Connect to API"
   ]
  },
  {
   "cell_type": "code",
   "execution_count": 117,
   "metadata": {},
   "outputs": [],
   "source": [
    "# Initialize the Overpass API with a custom URL\n",
    "api = overpy.Overpass(url=\"http://overpass.osm.ch/api/interpreter\")\n",
    "\n",
    "# Overpass query for hiking trails within Switzerland. Using 'center', we obtain the coordinates in the middle of a hiking trail\n",
    "query = \"\"\"\n",
    "[out:json];\n",
    "relation\n",
    "[\"route\"=\"hiking\"]\n",
    "//[\"name\"!~\"fixme\", i]\n",
    "[\"network\"=\"lwn\"]\n",
    "[\"osmc:symbol\"~\"yellow::yellow_diamond|red:white:red_bar|yellow:white:yellow_diamond|blue:white:blue_bar\"]\n",
    "(45.8899, 6.0872, 47.8085, 10.4921);\n",
    "out center tags;\n",
    "\"\"\"\n",
    "\n",
    "# Execute the request\n",
    "result = api.query(query)"
   ]
  },
  {
   "cell_type": "markdown",
   "metadata": {},
   "source": [
    "### Save Data to DataFrame"
   ]
  },
  {
   "cell_type": "code",
   "execution_count": 118,
   "metadata": {},
   "outputs": [
    {
     "name": "stdout",
     "output_type": "stream",
     "text": [
      "       id                                          name  \\\n",
      "0   22614  Nationalpark Wanderroute 15 (Munt la Schera)   \n",
      "1  103607                                 Wanderwege SG   \n",
      "2  112830                                          None   \n",
      "3  112831                                          None   \n",
      "4  112833                                          None   \n",
      "\n",
      "                   symbol        von                 bis        lat  \\\n",
      "0       red:white:red_bar       None                None  46.650143   \n",
      "1  yellow::yellow_diamond       None                None  47.430977   \n",
      "2  yellow::yellow_diamond  Uetliberg  Uetliberg Uto Kulm  47.351168   \n",
      "3  yellow::yellow_diamond  Folenweid             Baldern  47.329124   \n",
      "4  yellow::yellow_diamond  Felsenegg            Balderen  47.315244   \n",
      "\n",
      "         lon   timestamp_apicall  \n",
      "0  10.230198 2024-11-20 14:53:12  \n",
      "1   9.620170 2024-11-20 14:53:12  \n",
      "2   8.489780 2024-11-20 14:53:12  \n",
      "3   8.500726 2024-11-20 14:53:12  \n",
      "4   8.505056 2024-11-20 14:53:12  \n"
     ]
    }
   ],
   "source": [
    "# Add time and datestamp of API call to dataframe\n",
    "timestamp_apicall = pd.Timestamp.now().strftime(\"%Y-%m-%d %H:%M:%S\")\n",
    "\n",
    "# List to store the extracted information\n",
    "list = []\n",
    "\n",
    "# Iterate over all relations\n",
    "for relation in result.relations:\n",
    "\n",
    "    # Extract relevant data\n",
    "    name = relation.tags.get('name')\n",
    "    von = relation.tags.get('from')\n",
    "    bis = relation.tags.get('to')\n",
    "    symbol = relation.tags.get('osmc:symbol')\n",
    "    lat = getattr(relation, 'center_lat')\n",
    "    lon = getattr(relation, 'center_lon')\n",
    "    \n",
    "    dict = {    \n",
    "    'id': relation.id,\n",
    "    'name': name,\n",
    "    'symbol': symbol,\n",
    "    'von': von,\n",
    "    'bis': bis,\n",
    "    'lat': lat,\n",
    "    'lon': lon,\n",
    "    'timestamp_apicall': timestamp_apicall}\n",
    "\n",
    "    # Each tuple is now saved in the list as a new row\n",
    "    list.append(dict)\n",
    "\n",
    "# Once all data is processed, create the DataFrame\n",
    "df_wanderwege = pd.DataFrame(list)\n",
    "\n",
    "# Convert lat and lon to numeric, timestamp to datetime\n",
    "df_wanderwege['lat'] = pd.to_numeric(df_wanderwege['lat'], errors='coerce')\n",
    "df_wanderwege['lon'] = pd.to_numeric(df_wanderwege['lon'], errors='coerce')\n",
    "df_wanderwege['timestamp_apicall'] = pd.to_datetime(df_wanderwege['timestamp_apicall'], errors='coerce')\n",
    "\n",
    "# Print the DataFrame\n",
    "print(df_wanderwege.head())\n",
    "\n"
   ]
  },
  {
   "cell_type": "markdown",
   "metadata": {},
   "source": [
    "### Identifying missing data"
   ]
  },
  {
   "cell_type": "code",
   "execution_count": null,
   "metadata": {},
   "outputs": [],
   "source": [
    "print(\"\\nMissing Data:\")\n",
    "print(df_wanderwege.isnull())"
   ]
  },
  {
   "cell_type": "markdown",
   "metadata": {},
   "source": [
    "### Remove rows with any missing data\n"
   ]
  },
  {
   "cell_type": "code",
   "execution_count": 119,
   "metadata": {},
   "outputs": [],
   "source": [
    "df_wanderwege = df_wanderwege.dropna(subset=[\"name\"])"
   ]
  },
  {
   "cell_type": "markdown",
   "metadata": {},
   "source": [
    "### Input Missing Data"
   ]
  },
  {
   "cell_type": "code",
   "execution_count": null,
   "metadata": {},
   "outputs": [],
   "source": [
    "for index, row in df_wanderwege.iterrows():\n",
    "    if pd.isnull(row[\"name\"]) and not pd.isnull(row[\"von\"]) and not pd.isnull(row[\"bis\"]):\n",
    "        df_wanderwege.at[index, \"name\"] = f\"{row['von']} - {row['bis']}\"\n",
    "\n",
    "# Resultierender DataFrame anzeigen\n",
    "print(df_wanderwege)\n"
   ]
  },
  {
   "cell_type": "markdown",
   "metadata": {},
   "source": [
    "### Identifying duplicate rows\n"
   ]
  },
  {
   "cell_type": "code",
   "execution_count": null,
   "metadata": {},
   "outputs": [],
   "source": [
    "print(\"\\nDuplicate rows:\")\n",
    "print(df_wanderwege.duplicated())"
   ]
  },
  {
   "cell_type": "markdown",
   "metadata": {},
   "source": [
    "### Identifying similar rows"
   ]
  },
  {
   "cell_type": "code",
   "execution_count": 111,
   "metadata": {},
   "outputs": [
    {
     "name": "stdout",
     "output_type": "stream",
     "text": [
      "Ähnliche Namen:\n"
     ]
    }
   ],
   "source": [
    "from rapidfuzz import fuzz, process\n",
    "import pandas as pd\n",
    "\n",
    "# Namen auf Ähnlichkeit prüfen\n",
    "threshold = 80  # Ähnlichkeitsschwelle (z. B. 80%)\n",
    "similar_names = []\n",
    "\n",
    "# Iteriere über alle Namen\n",
    "for index, name in enumerate(df_wanderwege[\"name\"]):\n",
    "    for other_index, other_name in enumerate(df_wanderwege[\"name\"]):\n",
    "        if index != other_index:  # Nicht mit sich selbst vergleichen\n",
    "            score = fuzz.ratio(name, other_name)\n",
    "            if score >= threshold:  # Wenn Ähnlichkeit über Schwelle liegt\n",
    "                similar_names.append((name, other_name, score))\n",
    "\n",
    "# Ähnliche Namen anzeigen\n",
    "print(\"Ähnliche Namen:\")\n",
    "for name1, name2, score in similar_names:\n",
    "    print(f\"'{name1}' und '{name2}' haben eine Ähnlichkeit von {score}%.\")\n"
   ]
  },
  {
   "cell_type": "code",
   "execution_count": 124,
   "metadata": {},
   "outputs": [
    {
     "name": "stdout",
     "output_type": "stream",
     "text": [
      "Anzahl der Zeilen im DataFrame: 2824\n"
     ]
    }
   ],
   "source": [
    "print(f\"Anzahl der Zeilen im DataFrame: {df_wanderwege.shape[0]}\")\n"
   ]
  },
  {
   "cell_type": "markdown",
   "metadata": {},
   "source": [
    "### Remove similar Names"
   ]
  },
  {
   "cell_type": "code",
   "execution_count": 123,
   "metadata": {},
   "outputs": [],
   "source": [
    "threshold = 80\n",
    "\n",
    "# List of indices to drop\n",
    "indices_to_drop = set()\n",
    "\n",
    "# Iterate over all names\n",
    "for index, name in enumerate(df_wanderwege[\"name\"]):\n",
    "    if index not in indices_to_drop: \n",
    "        matches = process.extract(\n",
    "            name, df_wanderwege[\"name\"], scorer=fuzz.ratio, limit=len(df_wanderwege)\n",
    "        )\n",
    "        # Iterate over all matches\n",
    "        for match_name, score, match_index in matches:\n",
    "            if score >= threshold and index != match_index:\n",
    "                indices_to_drop.add(match_index)\n",
    "\n",
    "# Drop the indices\n",
    "df_wanderwege = df_wanderwege.drop(indices_to_drop)"
   ]
  },
  {
   "cell_type": "code",
   "execution_count": 121,
   "metadata": {},
   "outputs": [],
   "source": [
    "df_wanderwege = df_wanderwege[~df_wanderwege[\"name\"].str.contains(\"fixme\", case=False, na=False)]"
   ]
  },
  {
   "cell_type": "markdown",
   "metadata": {},
   "source": [
    "### Analyze latitude and loninude"
   ]
  },
  {
   "cell_type": "code",
   "execution_count": null,
   "metadata": {},
   "outputs": [],
   "source": [
    "# DataFrame für die relevanten Spalten vorbereiten\n",
    "df_melted = df_wanderwege[[\"lat\", \"lon\"]].melt(var_name=\"Variable\", value_name=\"Wert\")\n",
    "\n",
    "# Boxplot zeichnen\n",
    "plt.figure(figsize=(8, 6))\n",
    "sns.boxplot(x=\"Variable\", y=\"Wert\", data=df_melted)\n",
    "plt.title(\"Boxplot der Verteilung von Latitude und Longitude\")\n",
    "plt.ylabel(\"Wert\")\n",
    "plt.xlabel(\"Variable\")\n",
    "plt.show()\n"
   ]
  },
  {
   "cell_type": "markdown",
   "metadata": {},
   "source": [
    "### Remove invalid latitude and longitude"
   ]
  },
  {
   "cell_type": "code",
   "execution_count": 112,
   "metadata": {},
   "outputs": [
    {
     "name": "stdout",
     "output_type": "stream",
     "text": [
      "             id                                        name  \\\n",
      "1529    1230658           Carouge place Sigismond - Pinchat   \n",
      "1663    1423938                           Kempten - Rosinli   \n",
      "1716    1482730                            Carrera-Valendas   \n",
      "1868    1622282                       Nante-Alpe di Pesciüm   \n",
      "2734    2411408               Santeberg Nord - Dagmersellen   \n",
      "2834    2516538                        Mühlebach-Niederwald   \n",
      "2888    2594902                    Chli Hüenliwald-Murmösli   \n",
      "3649    3047880                             Äbnet - Schlatt   \n",
      "5692    5365971                      Sämtisersee - Staubern   \n",
      "6712    7617970                        Schachen - Rotenflue   \n",
      "6728    7651838                         Laubenalp - Oberalp   \n",
      "6740    7665160                            Tenero - Gordemo   \n",
      "6931    8049607                    Oberurdorf - Reppischhof   \n",
      "7604    8491639                 Hohliebi - Wallbachschlucht   \n",
      "7685    8531293                       Zweisimmen - Oberried   \n",
      "8312    9290819                            Untere Alpli - ?   \n",
      "8423    9480111                             Dietikon - Basi   \n",
      "11679  12428123                      Weid - Belpberg/Weidli   \n",
      "12058  12624412                   Teufiwald Süd - Ob Tännli   \n",
      "12340  12817537                  Marthalen Dorf - Marthalen   \n",
      "14650  13903500        Am Stammbach - Abzweig Wickartsmühle   \n",
      "14683  13919854  Nordschwaben Adler - Nordschwaben Oberdorf   \n",
      "16252  15523480                    Haute-Nendaz - La Pèroua   \n",
      "16264  15527560                        Fey - Les Condémines   \n",
      "17875  17311505               Pont de Collonges - Collonges   \n",
      "18490  17680356                         Eichen Hof - Zweier   \n",
      "18799  17766055                        Vechingen - Egghalde   \n",
      "18852  17769764                                Sunnbüel Ost   \n",
      "19532  18244640       Mägdeberger Hof - Parkplatz Mägdeberg   \n",
      "\n",
      "                            symbol                 von                    bis  \\\n",
      "1529        yellow::yellow_diamond                None                   None   \n",
      "1663        yellow::yellow_diamond             Kempten                Rosinli   \n",
      "1716             red:white:red_bar                None                   None   \n",
      "1868             red:white:red_bar                None                   None   \n",
      "2734        yellow::yellow_diamond                None                   None   \n",
      "2834        yellow::yellow_diamond                None                   None   \n",
      "2888        yellow::yellow_diamond                None                   None   \n",
      "3649        yellow::yellow_diamond                None                   None   \n",
      "5692             red:white:red_bar                None                   None   \n",
      "6712        yellow::yellow_diamond                None                   None   \n",
      "6728             red:white:red_bar                None                   None   \n",
      "6740        yellow::yellow_diamond                None                   None   \n",
      "6931        yellow::yellow_diamond          Oberurdorf            Reppischhof   \n",
      "7604             red:white:red_bar                None                   None   \n",
      "7685        yellow::yellow_diamond                None                   None   \n",
      "8312        yellow::yellow_diamond                None                   None   \n",
      "8423        yellow::yellow_diamond            Dietikon                   Basi   \n",
      "11679       yellow::yellow_diamond                None                   None   \n",
      "12058       yellow::yellow_diamond                None                   None   \n",
      "12340       yellow::yellow_diamond      Marthalen Dorf         Marthalen Bhf.   \n",
      "14650  yellow:white:yellow_diamond                None                   None   \n",
      "14683  yellow:white:yellow_diamond  Nordschwaben Adler  Nordschwaben Oberdorf   \n",
      "16252       yellow::yellow_diamond        Haute-Nendaz              La Pèroua   \n",
      "16264       yellow::yellow_diamond                 Fey         Les Condémines   \n",
      "17875       yellow::yellow_diamond   Pont de Collonges              Collonges   \n",
      "18490  yellow:white:yellow_diamond                None                   None   \n",
      "18799       yellow::yellow_diamond           Vechingen               Egghalde   \n",
      "18852            red:white:red_bar                None                   None   \n",
      "19532  yellow:white:yellow_diamond                None                   None   \n",
      "\n",
      "             lat       lon   timestamp_apicall  \n",
      "1529   46.178441  6.149600 2024-11-20 14:39:03  \n",
      "1663   47.339193  8.819296 2024-11-20 14:39:03  \n",
      "1716   46.789950  9.288813 2024-11-20 14:39:03  \n",
      "1868   46.516320  8.610913 2024-11-20 14:39:03  \n",
      "2734   47.205119  7.986740 2024-11-20 14:39:03  \n",
      "2834   46.420183  8.173497 2024-11-20 14:39:03  \n",
      "2888   46.922212  7.541510 2024-11-20 14:39:03  \n",
      "3649   47.252877  8.008511 2024-11-20 14:39:03  \n",
      "5692   47.265067  9.455491 2024-11-20 14:39:03  \n",
      "6712   47.035241  8.135674 2024-11-20 14:39:03  \n",
      "6728   46.702571  9.784077 2024-11-20 14:39:03  \n",
      "6740   46.184130  8.851528 2024-11-20 14:39:03  \n",
      "6931   47.382534  8.409866 2024-11-20 14:39:03  \n",
      "7604   46.457566  7.430930 2024-11-20 14:39:03  \n",
      "7685   46.555242  7.380997 2024-11-20 14:39:03  \n",
      "8312   47.317396  9.037451 2024-11-20 14:39:03  \n",
      "8423   47.401142  8.399612 2024-11-20 14:39:03  \n",
      "11679  46.868330  7.517820 2024-11-20 14:39:03  \n",
      "12058  47.116874  8.655901 2024-11-20 14:39:03  \n",
      "12340  47.627179  8.653320 2024-11-20 14:39:03  \n",
      "14650  47.605316  7.981965 2024-11-20 14:39:03  \n",
      "14683  47.619972  7.819182 2024-11-20 14:39:03  \n",
      "16252  46.179364  7.283527 2024-11-20 14:39:03  \n",
      "16264  46.181314  7.261088 2024-11-20 14:39:03  \n",
      "17875  46.169966  7.032280 2024-11-20 14:39:03  \n",
      "18490  47.645692  7.839438 2024-11-20 14:39:03  \n",
      "18799  46.939436  7.562904 2024-11-20 14:39:03  \n",
      "18852  46.458795  7.656526 2024-11-20 14:39:03  \n",
      "19532  47.804522  8.803059 2024-11-20 14:39:03  \n"
     ]
    }
   ],
   "source": [
    "# Prüfen und Entfernen von Zeilen mit negativen Werten in 'lan' und 'lot'\n",
    "df_wanderwege = df_wanderwege[(df_wanderwege[\"lat\"] > 0) & (df_wanderwege[\"lon\"] > 0)]\n",
    "\n",
    "# Ergebnis anzeigen\n",
    "print(df_wanderwege)\n"
   ]
  },
  {
   "cell_type": "markdown",
   "metadata": {},
   "source": [
    "### optional: Store data in csv\n"
   ]
  },
  {
   "cell_type": "code",
   "execution_count": 113,
   "metadata": {},
   "outputs": [],
   "source": [
    "df_wanderwege.to_csv(\"../data/processed/overpass.csv\")"
   ]
  },
  {
   "cell_type": "markdown",
   "metadata": {},
   "source": [
    "### Connect to SQL Server"
   ]
  },
  {
   "cell_type": "code",
   "execution_count": 114,
   "metadata": {},
   "outputs": [],
   "source": [
    "# Load configuration from config/db_config.json\n",
    "with open('../config/db_config.json', 'r') as f:\n",
    "    db_config = json.load(f)\n",
    "\n",
    "# Get database credentials\n",
    "server = db_config['server']\n",
    "database = db_config['database']\n",
    "db_user = db_config['db_user']\n",
    "db_password = db_config['db_password']"
   ]
  },
  {
   "cell_type": "markdown",
   "metadata": {},
   "source": [
    "### Create empty SQL table"
   ]
  },
  {
   "cell_type": "code",
   "execution_count": 115,
   "metadata": {},
   "outputs": [],
   "source": [
    "# Create table if it doesn't exist\n",
    "table_name = \"OVRP_HikingRoutes\"\n",
    "query = f\"\"\"\n",
    "    IF OBJECT_ID(N'dbo.{table_name}', N'U') IS NULL\n",
    "    BEGIN\n",
    "        CREATE TABLE {table_name} (\n",
    "            id                      INT         NOT NULL,\n",
    "            name                    VARCHAR(255) NULL,\n",
    "            von                     VARCHAR(255) NULL,\n",
    "            bis                     VARCHAR(255) NULL,\n",
    "            lat                     FLOAT       NOT NULL,\n",
    "            lon                     FLOAT       NOT NULL,\n",
    "            symbol                  VARCHAR(255) NULL,\n",
    "            timestamp_apicall       DATETIME    NULL,\n",
    "            PRIMARY KEY (id)\n",
    "        );\n",
    "    END\n",
    "    \"\"\"\n",
    "\n",
    "conn = pymssql.connect(server, db_user, db_password, database)\n",
    "cursor = conn.cursor()\n",
    "cursor.execute(query)\n",
    "\n",
    "conn.commit()\n",
    "conn.close()"
   ]
  },
  {
   "cell_type": "markdown",
   "metadata": {},
   "source": [
    "### Upload to SQL Server"
   ]
  },
  {
   "cell_type": "code",
   "execution_count": 125,
   "metadata": {},
   "outputs": [
    {
     "name": "stdout",
     "output_type": "stream",
     "text": [
      "DataFrame erfolgreich in die MSSQL-Datenbank geladen!\n"
     ]
    }
   ],
   "source": [
    "# Create connection string for SQLAlchemy\n",
    "connection_string = f\"mssql+pymssql://{db_user}:{db_password}@{server}/{database}\"\n",
    "engine = create_engine(connection_string)\n",
    "\n",
    "# Ingest data to tabledatabase table\n",
    "df_wanderwege.to_sql(table_name, con=engine, if_exists='replace', index=False)\n",
    "print(\"DataFrame erfolgreich in die MSSQL-Datenbank geladen!\")"
   ]
  }
 ],
 "metadata": {
  "kernelspec": {
   "display_name": "www",
   "language": "python",
   "name": "python3"
  },
  "language_info": {
   "codemirror_mode": {
    "name": "ipython",
    "version": 3
   },
   "file_extension": ".py",
   "mimetype": "text/x-python",
   "name": "python",
   "nbconvert_exporter": "python",
   "pygments_lexer": "ipython3",
   "version": "3.12.6"
  }
 },
 "nbformat": 4,
 "nbformat_minor": 2
}
