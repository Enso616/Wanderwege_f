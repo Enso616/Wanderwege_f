{
 "cells": [
  {
   "cell_type": "code",
   "execution_count": null,
   "metadata": {},
   "outputs": [],
   "source": [
    "import overpy\n",
    "import pandas as pd \n",
    "import requests\n",
    "import json\n",
    "import pymssql\n",
    "from sqlalchemy import Integer, String, Float, DATETIME, create_engine"
   ]
  },
  {
   "cell_type": "code",
   "execution_count": null,
   "metadata": {},
   "outputs": [],
   "source": [
    "# Load configuration from config/db_config.json\n",
    "with open('../config/db_config.json', 'r') as f:\n",
    "    db_config = json.load(f)\n",
    "\n",
    "# Get database credentials\n",
    "server = db_config['server']\n",
    "database = db_config['database']\n",
    "db_user = db_config['db_user']\n",
    "db_password = db_config['db_password']"
   ]
  },
  {
   "cell_type": "code",
   "execution_count": null,
   "metadata": {},
   "outputs": [],
   "source": [
    "# Connect to SQL Database\n",
    "conn = pymssql.connect(server, db_user, db_password, database)\n",
    "\n",
    "# Create connection string for SQLAlchemy\n",
    "connection_string = f\"mssql+pymssql://{db_user}:{db_password}@{server}/{database}\"\n",
    "engine = create_engine(connection_string)"
   ]
  },
  {
   "cell_type": "code",
   "execution_count": null,
   "metadata": {},
   "outputs": [],
   "source": [
    "# SQL-Abfrage für die gewünschten Spalten\n",
    "query = \"SELECT DISTINCT id FROM OVRP_HikingRoutes\"\n",
    "\n",
    "# Daten aus der Azure SQL-Datenbank laden\n",
    "relation_ids = pd.read_sql_query(query, con=engine)\n",
    "\n",
    "# Ergebnis anzeigen\n",
    "print(relation_ids)\n"
   ]
  },
  {
   "cell_type": "code",
   "execution_count": null,
   "metadata": {},
   "outputs": [],
   "source": [
    "relation_ids = [12624412, 15527560, 15527560]  # Beispiel-IDs"
   ]
  },
  {
   "cell_type": "code",
   "execution_count": null,
   "metadata": {},
   "outputs": [],
   "source": [
    "api = overpy.Overpass(url=\"http://overpass.osm.ch/api/interpreter\")\n",
    "\n",
    "timestamp_apicall = pd.Timestamp.now().strftime(\"%Y-%m-%d %H:%M:%S\")\n",
    "\n",
    "\n",
    "# Leere Liste für die Ergebnisse\n",
    "results = []\n",
    "\n",
    "# Overpass-Abfragen iterativ durchführen\n",
    "for relation_id in relation_ids:\n",
    "    # Overpass-Abfrage\n",
    "    \n",
    "    query = f\"\"\"\n",
    "    [out:json];\n",
    "    relation[\"route\"=\"hiking\"](id:{relation_id});\n",
    "    out ids;  // Gibt die Relation-ID aus\n",
    "    way(r);\n",
    "    out ids center tags;  // Gibt die Way-IDs und ihre Mittelpunkte aus\n",
    "    \"\"\"\n",
    "    result = api.query(query)\n",
    "    # Anfrage an die Overpass-API senden\n",
    "   \n",
    "    for way in result.ways:\n",
    "            if way.center_lat and way.center_lon:\n",
    "                # Daten als Dictionary speichern\n",
    "                results.append({\n",
    "                    \"relation_id\": relation_id,\n",
    "                    \"way_id\": way.id,\n",
    "                    \"lat\": way.center_lat,\n",
    "                    \"lon\": way.center_lon,\n",
    "                    \"highway\": way.tags.get(\"highway\", None),\n",
    "                    \"surface\": way.tags.get(\"surface\", None),\n",
    "                    \"timestamp_apicall\": timestamp_apicall\n",
    "                })\n",
    "\n",
    "# Convert lat and lon to numeric, timestamp to datetime\n",
    "\n",
    "\n",
    "\n",
    "# Ergebnisse in einen DataFrame konvertieren\n",
    "df_wege = pd.DataFrame(results)\n",
    "df_wege['lat'] = pd.to_numeric(df_wege['lat'], errors='coerce')\n",
    "df_wege['lon'] = pd.to_numeric(df_wege['lon'], errors='coerce')\n",
    "df_wege['timestamp_apicall'] = pd.to_datetime(df_wege['timestamp_apicall'], errors='coerce')\n",
    "\n",
    "# Ergebnis anzeigen\n",
    "print(df_wege)\n",
    "\n",
    "\n"
   ]
  },
  {
   "cell_type": "code",
   "execution_count": null,
   "metadata": {},
   "outputs": [],
   "source": [
    "# Create table if it doesn't exist\n",
    "table_name = \"OVRP_ways\"\n",
    "query = f\"\"\"\n",
    "    IF OBJECT_ID(N'dbo.{table_name}', N'U') IS NULL\n",
    "    BEGIN\n",
    "        CREATE TABLE {table_name} (\n",
    "            id                      INT         NOT NULL,\n",
    "            id_relation             INT         NOT NULL,\n",
    "            lat                     FLOAT       NOT NULL,\n",
    "            lon                     FLOAT       NOT NULL,\n",
    "            highway                 VARCHAR(255) NULL,\n",
    "            surface                 VARCHAR(255) NULL,\n",
    "            timestamp_apicall       DATETIME    NULL,\n",
    "            PRIMARY KEY (id)\n",
    "            \n",
    "        );\n",
    "    END\n",
    "    \"\"\"\n",
    "\n",
    "conn = pymssql.connect(server, db_user, db_password, database)\n",
    "cursor = conn.cursor()\n",
    "cursor.execute(query)\n",
    "\n",
    "conn.commit()\n",
    "conn.close()"
   ]
  },
  {
   "cell_type": "code",
   "execution_count": null,
   "metadata": {},
   "outputs": [],
   "source": [
    "# Create connection string for SQLAlchemy\n",
    "connection_string = f\"mssql+pymssql://{db_user}:{db_password}@{server}/{database}\"\n",
    "engine = create_engine(connection_string)\n",
    "\n",
    "# Ingest data to tabledatabase table\n",
    "df_wege.to_sql(table_name, con=engine, if_exists='replace', index=False)\n",
    "print(\"DataFrame erfolgreich in die MSSQL-Datenbank geladen!\")"
   ]
  }
 ],
 "metadata": {
  "kernelspec": {
   "display_name": "www",
   "language": "python",
   "name": "python3"
  },
  "language_info": {
   "codemirror_mode": {
    "name": "ipython",
    "version": 3
   },
   "file_extension": ".py",
   "mimetype": "text/x-python",
   "name": "python",
   "nbconvert_exporter": "python",
   "pygments_lexer": "ipython3",
   "version": "3.12.6"
  }
 },
 "nbformat": 4,
 "nbformat_minor": 2
}
