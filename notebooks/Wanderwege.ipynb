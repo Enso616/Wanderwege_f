{
 "cells": [
  {
   "cell_type": "markdown",
   "metadata": {},
   "source": [
    "overpy ist eine Python-Bibliothek, die es ermöglicht, Daten von der Overpass API (eine Schnittstelle für OpenStreetMap-Daten) abzufragen und zu verarbeiten. Die Overpass API ermöglicht es, Wanderwege aus dem OpenStreetMap-Projekt (OSM) abzurufen.\n",
    "\n",
    "Die Abrage sucht nach Wanderrouten in einem Giebiet welche mit spezifischen Signalisationen ausgeschildert sind. \n",
    "\n",
    "Falls das der Name nicht vorhanden ist, aber die Bezeichnungen von und bis existieren, wird der Name zusammengesetzt.\n",
    "\n"
   ]
  },
  {
   "cell_type": "code",
   "execution_count": 1,
   "metadata": {},
   "outputs": [
    {
     "name": "stdout",
     "output_type": "stream",
     "text": [
      "             id                                          name         lat  \\\n",
      "0         22614  Nationalpark Wanderroute 15 (Munt la Schera)  46.6501430   \n",
      "1        103607                                 Wanderwege SG  47.4309774   \n",
      "2        112830                Uetliberg - Uetliberg Uto Kulm  47.3511680   \n",
      "3        112831                           Folenweid - Baldern  47.3291235   \n",
      "4        112833                          Felsenegg - Balderen  47.3152439   \n",
      "...         ...                                           ...         ...   \n",
      "15158  18020304                    Pfannenstiel - Sämtisersee  47.2782063   \n",
      "15159  18020305                  Rotsteinpass - Altmannsattel  47.2416589   \n",
      "15160  18020648                       Klausenpass - Unterbalm  46.8710169   \n",
      "15161  18020650                                Urmis - Flülen  46.9075143   \n",
      "15162  18021275                   Rotondohütte - Oberchäseren  46.5552014   \n",
      "\n",
      "              lon  \n",
      "0      10.2301992  \n",
      "1       9.6201700  \n",
      "2       8.4897796  \n",
      "3       8.5007261  \n",
      "4       8.5050559  \n",
      "...           ...  \n",
      "15158   9.4584794  \n",
      "15159   9.3659492  \n",
      "15160   8.8411712  \n",
      "15161   8.6304853  \n",
      "15162   8.4834839  \n",
      "\n",
      "[15163 rows x 4 columns]\n"
     ]
    }
   ],
   "source": [
    "import overpy\n",
    "import pandas as pd\n",
    "\n",
    "# Initialisiere die Overpass API mit einer benutzerdefinierten URL\n",
    "api = overpy.Overpass(url=\"http://overpass.osm.ch/api/interpreter\")\n",
    "\n",
    "# Overpass Query für Wanderwege innerhalb der Schweiz. Mit Center erhalten wir die Koordinaten in der Mitte eines Wnaderweges\n",
    "query = \"\"\"\n",
    "[out:json];\n",
    "relation\n",
    "[\"route\"=\"hiking\"]\n",
    "/*[\"name\"]*/\n",
    "[\"name\"!~\"fixme\", i]\n",
    "[\"network\"=\"lwn\"]\n",
    "[\"osmc:symbol\"~\"yellow::yellow_diamond|red:white:red_bar|yellow:white:yellow_diamond|blue:white:blue_bar\"]\n",
    "/*(id: 1432463)*/\n",
    "(45.8899, 6.0872, 47.8085, 10.4921);\n",
    "out center tags;\n",
    "\"\"\"\n",
    "\n",
    "# Führe die Anfrage aus\n",
    "result = api.query(query)\n",
    "\n",
    "# Liste zum Speichern der extrahierten Informationen\n",
    "list = []\n",
    "\n",
    "# Iteration über alle relations\n",
    "for relation in result.relations:\n",
    "    \n",
    "    # Extrahiere die relevanten Daten\n",
    "\n",
    "    org_name = relation.tags.get('name')\n",
    "    fix_name = \"\"\n",
    "    org_to = relation.tags.get('to')\n",
    "    org_from = relation.tags.get('from')\n",
    "    \n",
    "    # Center ist ein Tupel mit langitute und longitude, wir möchten nur einen wert\n",
    "    lat = getattr(relation, 'center_lat')\n",
    "    lon = getattr(relation, 'center_lon')\n",
    "    \n",
    "    # Wenn der orginal Name nicht vorhanden ist setze ihn aus from und to zusammen\n",
    "    if not org_name and org_from and org_to :\n",
    "        fix_name = f\"{org_from} - {org_to}\"\n",
    "    else:\n",
    "        fix_name = org_name\n",
    "\n",
    "    # Erstelle ein Dictionary um die Attribute als Tupel zu speichern\n",
    "    if fix_name and lat > 0 and lon > 0: \n",
    "        dict = {\n",
    "        'id': relation.id,\n",
    "        'name': fix_name,\n",
    "        'lat': lat,\n",
    "        'lon': lon\n",
    "        }\n",
    "\n",
    "        # Jedes Tupel wird nun in der Liste als neue Zeile gespeichert\n",
    "        list.append(dict)\n",
    "\n",
    "# Wenn alle Daten verarbeitet wurden, erstelle das DataFrame\n",
    "df = pd.DataFrame(list)\n",
    "\n",
    "# Zeige das DataFrame an\n",
    "print(df)\n"
   ]
  },
  {
   "cell_type": "markdown",
   "metadata": {},
   "source": [
    "sqlalchemy dient dazu, SQL-Datenbanken mit Python-Code zu verbinden und erleichtert das Arbeiten mit relationalen Datenbanken. sqlalchemy bietet einen direkten Zugriff auf SQL-Datenbanken, was Flexibilität ermöglicht."
   ]
  },
  {
   "cell_type": "code",
   "execution_count": null,
   "metadata": {},
   "outputs": [],
   "source": [
    "import pandas as pd\n",
    "from sqlalchemy import create_engine\n",
    "\n",
    "# Verbindung zur MySQL-Datenbank herstellen (ersetze Platzhalter mit deinen Daten)\n",
    "user = 'root'        # MySQL-Benutzername\n",
    "password = ''  # MySQL-Passwort\n",
    "host = '127.0.0.1'   # Server (bei lokalen Installationen ist das oft 'localhost')\n",
    "database = 'mydatabase'  # Name der Datenbank, in die du schreiben möchtest\n",
    "\n",
    "# Erstelle die Verbindungs-Engine\n",
    "engine = create_engine(f\"mysql+pymysql://{user}:{password}@{host}/{database}\")\n",
    "\n",
    "# DataFrame in die MySQL-Datenbank-Tabelle schreiben (wenn die Tabelle nicht existiert, wird sie erstellt)\n",
    "df.to_sql(name='Wanderwege', con=engine, if_exists='replace', index=False)\n",
    "\n",
    "print(\"DataFrame erfolgreich in die MySQL-Datenbank geladen!\")"
   ]
  }
 ],
 "metadata": {
  "kernelspec": {
   "display_name": "daengenv",
   "language": "python",
   "name": "python3"
  },
  "language_info": {
   "codemirror_mode": {
    "name": "ipython",
    "version": 3
   },
   "file_extension": ".py",
   "mimetype": "text/x-python",
   "name": "python",
   "nbconvert_exporter": "python",
   "pygments_lexer": "ipython3",
   "version": "3.12.5"
  }
 },
 "nbformat": 4,
 "nbformat_minor": 2
}
