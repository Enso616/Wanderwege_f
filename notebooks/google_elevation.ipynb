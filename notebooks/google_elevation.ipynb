{
 "cells": [
  {
   "cell_type": "code",
   "execution_count": 1,
   "metadata": {},
   "outputs": [],
   "source": [
    "import requests\n",
    "import json\n",
    "import pandas as pd"
   ]
  },
  {
   "cell_type": "code",
   "execution_count": 2,
   "metadata": {},
   "outputs": [],
   "source": [
    "with open(\"../config/api_config.json\", 'r') as f:\n",
    "    api_config = json.load(f)\n",
    "\n",
    "api_key = api_config[\"api_key_google_maps\"]\n",
    "#print(api_config)\n"
   ]
  },
  {
   "cell_type": "code",
   "execution_count": 3,
   "metadata": {},
   "outputs": [],
   "source": [
    "# Beispiel-DataFrame mit IDs, Latitude und Longitude\n",
    "waypoints = pd.DataFrame({\n",
    "    \"id\": [1, 2, 3],\n",
    "    \"latitude\": [46.8609414, 46.9481, 46.2044],\n",
    "    \"longitude\": [6.6144089, 7.4474, 6.1432]\n",
    "})\n"
   ]
  },
  {
   "cell_type": "code",
   "execution_count": 4,
   "metadata": {},
   "outputs": [
    {
     "name": "stdout",
     "output_type": "stream",
     "text": [
      "    id   latitude  longitude    elevation\n",
      "0  1.0  46.860941   6.614409  1283.692627\n",
      "1  2.0  46.948100   7.447400   545.040710\n",
      "2  3.0  46.204400   6.143200   372.221771\n"
     ]
    }
   ],
   "source": [
    "\n",
    "# Leere Liste für die Ergebnisse\n",
    "results = []\n",
    "\n",
    "# Iteration über die Zeilen im DataFrame\n",
    "for index, row in waypoints.iterrows():\n",
    "    latitude = row[\"latitude\"]\n",
    "    longitude = row[\"longitude\"]\n",
    "    waypoint_id = row[\"id\"]\n",
    "\n",
    "    # API-Request vorbereiten\n",
    "    url = f\"https://maps.googleapis.com/maps/api/elevation/json\"\n",
    "    params = {\n",
    "        \"locations\": f\"{latitude},{longitude}\",\n",
    "        \"key\": api_key\n",
    "    }\n",
    "\n",
    "    try:\n",
    "        # API-Request senden\n",
    "        response = requests.get(url, params=params)\n",
    "        response.raise_for_status()\n",
    "        data = response.json()\n",
    "\n",
    "        # Höhe aus der API-Antwort extrahieren\n",
    "\n",
    "        elevation = data[\"results\"][0][\"elevation\"]\n",
    "\n",
    "\n",
    "        # Ergebnisse speichern\n",
    "        results.append({\n",
    "            \"id\": waypoint_id,\n",
    "            \"latitude\": latitude,\n",
    "            \"longitude\": longitude,\n",
    "            \"elevation\": elevation\n",
    "        })\n",
    "\n",
    "    except (requests.exceptions.RequestException, KeyError, IndexError) as e:\n",
    "        print(f\"Fehler für ID {waypoint_id}: {e}\")\n",
    "        results.append({\n",
    "            \"id\": waypoint_id,\n",
    "            \"latitude\": latitude,\n",
    "            \"longitude\": longitude,\n",
    "            \"elevation\": None\n",
    "        })\n",
    "\n",
    "# Ergebnisse in einen DataFrame umwandeln\n",
    "result_df = pd.DataFrame(results)\n",
    "\n",
    "# Ausgabe des Ergebnisses\n",
    "print(result_df)\n"
   ]
  }
 ],
 "metadata": {
  "kernelspec": {
   "display_name": "www",
   "language": "python",
   "name": "python3"
  },
  "language_info": {
   "codemirror_mode": {
    "name": "ipython",
    "version": 3
   },
   "file_extension": ".py",
   "mimetype": "text/x-python",
   "name": "python",
   "nbconvert_exporter": "python",
   "pygments_lexer": "ipython3",
   "version": "3.12.6"
  }
 },
 "nbformat": 4,
 "nbformat_minor": 2
}
