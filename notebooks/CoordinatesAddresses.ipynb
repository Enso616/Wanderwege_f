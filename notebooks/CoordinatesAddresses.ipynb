{
 "cells": [
  {
   "cell_type": "code",
   "execution_count": 42,
   "metadata": {},
   "outputs": [],
   "source": [
    "# Import required libraries\n",
    "import pandas as pd \n",
    "import overpy\n",
    "import json\n",
    "import os\n",
    "from sqlalchemy import create_engine\n",
    "import pymssql\n",
    "import requests\n",
    "import time\n",
    "\n",
    "from opencage.geocoder import OpenCageGeocode\n",
    "from pprint import pprint"
   ]
  },
  {
   "cell_type": "code",
   "execution_count": 43,
   "metadata": {},
   "outputs": [],
   "source": [
    "# Load database access configuration from config/db_config.json\n",
    "with open('../config/db_config.json', 'r') as f:\n",
    "    db_config = json.load(f)\n",
    "\n",
    "# Access db credentials\n",
    "server = db_config['server']\n",
    "database = db_config['database']\n",
    "db_user = db_config['db_user']\n",
    "db_password = db_config['db_password']"
   ]
  },
  {
   "cell_type": "code",
   "execution_count": 44,
   "metadata": {},
   "outputs": [],
   "source": [
    "# Connect to SQL Database\n",
    "conn = pymssql.connect(server, db_user, db_password, database)\n",
    "\n",
    "# Create connection string for SQLAlchemy\n",
    "connection_string = f\"mssql+pymssql://{db_user}:{db_password}@{server}/{database}\"\n",
    "engine = create_engine(connection_string)"
   ]
  },
  {
   "cell_type": "code",
   "execution_count": 45,
   "metadata": {},
   "outputs": [
    {
     "name": "stdout",
     "output_type": "stream",
     "text": [
      "         timestamp_apicall        id  \\\n",
      "0      2024-09-20 10:42:31     22614   \n",
      "1      2024-09-20 10:42:31    103607   \n",
      "2      2024-09-20 10:42:31    112830   \n",
      "3      2024-09-20 10:42:31    112831   \n",
      "4      2024-09-20 10:42:31    112833   \n",
      "...                    ...       ...   \n",
      "15191  2024-09-20 10:42:31  18057730   \n",
      "15192  2024-09-20 10:42:31  18057731   \n",
      "15193  2024-09-20 10:42:31  18057943   \n",
      "15194  2024-09-20 10:42:31  18058034   \n",
      "15195  2024-09-20 10:42:31  18058036   \n",
      "\n",
      "                                               name         lat         lon  \n",
      "0      Nationalpark Wanderroute 15 (Munt la Schera)  46.6501430  10.2301992  \n",
      "1                                     Wanderwege SG  47.4309774   9.6201700  \n",
      "2                    Uetliberg - Uetliberg Uto Kulm  47.3511680   8.4897796  \n",
      "3                               Folenweid - Baldern  47.3291235   8.5007261  \n",
      "4                              Felsenegg - Balderen  47.3152439   8.5050559  \n",
      "...                                             ...         ...         ...  \n",
      "15191                                Sobrio - Bodio  46.3914751   8.9049831  \n",
      "15192                         Bodio - Bodio Bahnhof  46.3811565   8.9070277  \n",
      "15193                       Anzonico - Monte Angone  46.4380334   8.8618023  \n",
      "15194                        Monte Angone - Cassine  46.4234746   8.8892182  \n",
      "15195                            Cavagnago - Sobrio  46.4064486   8.8920520  \n",
      "\n",
      "[15196 rows x 5 columns]\n"
     ]
    }
   ],
   "source": [
    "df_coords = pd.read_sql_table(table_name='wanderwege', con=engine)\n",
    "print(df_coords)"
   ]
  },
  {
   "cell_type": "code",
   "execution_count": 47,
   "metadata": {},
   "outputs": [],
   "source": [
    "# TO DO: Move API key to config file\n",
    "key = '1d19cf6031504c6081684a1be836f95a'\n",
    "\n",
    "# Initializing geocoder\n",
    "geocoder = OpenCageGeocode(key)\n",
    "\n",
    "results = geocoder.reverse_geocode(46.6501430, 10.2301992)\n",
    "\n",
    "\n"
   ]
  },
  {
   "cell_type": "code",
   "execution_count": 48,
   "metadata": {},
   "outputs": [
    {
     "name": "stdout",
     "output_type": "stream",
     "text": [
      "[{'annotations': {'DMS': {'lat': \"46° 39' 46.96092'' N\",\n",
      "                          'lng': \"10° 14' 28.85964'' E\"},\n",
      "                  'MGRS': '32TNS9496568468',\n",
      "                  'Maidenhead': 'JN56cp89xd',\n",
      "                  'Mercator': {'x': 1140061.856, 'y': 5856154.734},\n",
      "                  'NUTS': {'NUTS0': {'code': 'CH'},\n",
      "                           'NUTS1': {'code': 'CH0'},\n",
      "                           'NUTS2': {'code': 'CH05'},\n",
      "                           'NUTS3': {'code': 'CH056'}},\n",
      "                  'OSM': {'edit_url': 'https://www.openstreetmap.org/edit?node=336132069#map=17/46.66304/10.24135',\n",
      "                          'note_url': 'https://www.openstreetmap.org/note/new#map=17/46.66304/10.24135&layers=N',\n",
      "                          'url': 'https://www.openstreetmap.org/?mlat=46.66304&mlon=10.24135#map=17/46.66304/10.24135'},\n",
      "                  'UN_M49': {'regions': {'CH': '756',\n",
      "                                         'EUROPE': '150',\n",
      "                                         'WESTERN_EUROPE': '155',\n",
      "                                         'WORLD': '001'},\n",
      "                             'statistical_groupings': ['MEDC']},\n",
      "                  'callingcode': 41,\n",
      "                  'currency': {'alternate_symbols': ['SFr', 'Fr'],\n",
      "                               'decimal_mark': '.',\n",
      "                               'format': '%u %n',\n",
      "                               'html_entity': '',\n",
      "                               'iso_code': 'CHF',\n",
      "                               'iso_numeric': '756',\n",
      "                               'name': 'Swiss Franc',\n",
      "                               'smallest_denomination': 5,\n",
      "                               'subunit': 'Rappen',\n",
      "                               'subunit_to_unit': 100,\n",
      "                               'symbol': 'CHF',\n",
      "                               'symbol_first': 1,\n",
      "                               'thousands_separator': ','},\n",
      "                  'flag': '🇨🇭',\n",
      "                  'geohash': 'u0r33n9xbwpbp1sy7y6w',\n",
      "                  'qibla': 126.34,\n",
      "                  'roadinfo': {'drive_on': 'right', 'speed_in': 'km/h'},\n",
      "                  'sun': {'rise': {'apparent': 1726808700,\n",
      "                                   'astronomical': 1726802520,\n",
      "                                   'civil': 1726806900,\n",
      "                                   'nautical': 1726804740},\n",
      "                          'set': {'apparent': 1726852740,\n",
      "                                  'astronomical': 1726858860,\n",
      "                                  'civil': 1726854540,\n",
      "                                  'nautical': 1726856700}},\n",
      "                  'timezone': {'name': 'Europe/Zurich',\n",
      "                               'now_in_dst': 1,\n",
      "                               'offset_sec': 7200,\n",
      "                               'offset_string': '+0200',\n",
      "                               'short_name': 'CEST'},\n",
      "                  'what3words': {'words': 'shudders.overcomes.markets'}},\n",
      "  'bounds': {'northeast': {'lat': 46.6730447, 'lng': 10.2513499},\n",
      "             'southwest': {'lat': 46.6530447, 'lng': 10.2313499}},\n",
      "  'components': {'ISO_3166-1_alpha-2': 'CH',\n",
      "                 'ISO_3166-1_alpha-3': 'CHE',\n",
      "                 'ISO_3166-2': ['CH-GR'],\n",
      "                 '_category': 'place',\n",
      "                 '_normalized_city': 'Zernez',\n",
      "                 '_type': 'hamlet',\n",
      "                 'continent': 'Europe',\n",
      "                 'country': 'Switzerland',\n",
      "                 'country_code': 'ch',\n",
      "                 'county': 'Region Engiadina Bassa/Val Müstair',\n",
      "                 'local_administrative_area': 'Zernez',\n",
      "                 'locality': 'Stabelchod',\n",
      "                 'postcode': '7530',\n",
      "                 'state': 'Grisons',\n",
      "                 'state_code': 'GR',\n",
      "                 'village': 'Zernez'},\n",
      "  'confidence': 8,\n",
      "  'distance_from_q': {'meters': 1668},\n",
      "  'formatted': '7530 Zernez, Switzerland',\n",
      "  'geometry': {'lat': 46.6630447, 'lng': 10.2413499}}]\n"
     ]
    }
   ],
   "source": [
    "pprint(results)"
   ]
  },
  {
   "cell_type": "code",
   "execution_count": 49,
   "metadata": {},
   "outputs": [
    {
     "name": "stdout",
     "output_type": "stream",
     "text": [
      "         lat       lon      country                              county  \\\n",
      "0  46.663045  10.24135  Switzerland  Region Engiadina Bassa/Val Müstair   \n",
      "\n",
      "  local_administrative_area    locality postcode    state state_code village  \n",
      "0                    Zernez  Stabelchod     7530  Grisons         GR  Zernez  \n"
     ]
    }
   ],
   "source": [
    "# Extracting relevant attributes\n",
    "extracted_data = []\n",
    "for entry in results:\n",
    "    components = entry['components']\n",
    "    lat = entry['geometry']['lat']\n",
    "    lon = entry['geometry']['lng']\n",
    "    extracted_data.append({\n",
    "        'lat': lat,\n",
    "        'lon': lon,\n",
    "        'country': components['country'],\n",
    "        'county': components['county'],\n",
    "        'local_administrative_area': components['local_administrative_area'],\n",
    "        'locality': components['locality'],\n",
    "        'postcode': components['postcode'],\n",
    "        'state': components['state'],\n",
    "        'state_code': components['state_code'],\n",
    "        'village': components['village']\n",
    "    })\n",
    "\n",
    "# Creating a DataFrame\n",
    "df = pd.DataFrame(extracted_data)\n",
    "\n",
    "# Display the DataFrame\n",
    "print(df)"
   ]
  },
  {
   "cell_type": "code",
   "execution_count": 56,
   "metadata": {},
   "outputs": [],
   "source": [
    "###############\n",
    "# Function to get detailed address information from latitude and longitude\n",
    "def get_address_from_coordinates(lat, lon):\n",
    "    url = f'https://api.opencagedata.com/geocode/v1/json?q={lat}+{lon}&key={key}'\n",
    "    response = requests.get(url)\n",
    "    if response.status_code == 200:\n",
    "        data = response.json()\n",
    "        if data['results']:\n",
    "            return data['results'][0]  # Return the first result entry\n",
    "        else:\n",
    "            return None  # No results found\n",
    "    else:\n",
    "        return None  # Error in request"
   ]
  },
  {
   "cell_type": "code",
   "execution_count": 57,
   "metadata": {},
   "outputs": [
    {
     "name": "stdout",
     "output_type": "stream",
     "text": [
      "[('46.6501430', '10.2301992'), ('47.4309774', '9.6201700'), ('47.3511680', '8.4897796'), ('47.3291235', '8.5007261'), ('47.3152439', '8.5050559'), ('47.3164826', '8.5186003'), ('46.6864945', '8.5941959'), ('46.7582930', '8.6574212'), ('47.5352432', '8.0967558'), ('46.8255681', '6.5042809')]\n"
     ]
    }
   ],
   "source": [
    "###############\n",
    "# List of coordinates\n",
    "#coordinates = [(46.663045, 10.24135), (47.4309774, 9.6201700), (47.3511680, 8.4897796)]\n",
    "nrows = 10\n",
    "coordinates = list(zip(df_coords['lat'][:nrows], df_coords['lon'][:nrows]))\n",
    "print(coordinates)"
   ]
  },
  {
   "cell_type": "code",
   "execution_count": 58,
   "metadata": {},
   "outputs": [
    {
     "name": "stdout",
     "output_type": "stream",
     "text": [
      "          lat         lon      country                              county  \\\n",
      "0  46.6501430  10.2301992  Switzerland  Region Engiadina Bassa/Val Müstair   \n",
      "1  47.4309774   9.6201700  Switzerland                  Wahlkreis Rheintal   \n",
      "2  47.3511680   8.4897796  Switzerland                     District Zurich   \n",
      "3  47.3291235   8.5007261  Switzerland                    Bezirk Affoltern   \n",
      "4  47.3152439   8.5050559  Switzerland                    Bezirk Affoltern   \n",
      "5  47.3164826   8.5186003  Switzerland                       Bezirk Horgen   \n",
      "6  46.6864945   8.5941959  Switzerland                                 N/A   \n",
      "7  46.7582930   8.6574212  Switzerland                                 N/A   \n",
      "8  47.5352432   8.0967558  Switzerland                   Bezirk Laufenburg   \n",
      "9  46.8255681   6.5042809  Switzerland       District du Jura-Nord vaudois   \n",
      "\n",
      "  local_administrative_area    locality postcode       state state_code  \\\n",
      "0                    Zernez  Stabelchod     7530     Grisons         GR   \n",
      "1                   Berneck    Eichholz     9442  St. Gallen        N/A   \n",
      "2                    Zurich         N/A     8063      Zurich         ZH   \n",
      "3                 Stallikon         N/A     8143      Zurich         ZH   \n",
      "4                 Stallikon         N/A     8143      Zurich         ZH   \n",
      "5                  Adliswil         N/A     8134      Zurich         ZH   \n",
      "6                    Wassen         N/A     6484         Uri         UR   \n",
      "7                   Silenen         N/A     6476         Uri         UR   \n",
      "8                Laufenburg         N/A     5085      Aargau         AG   \n",
      "9              Sainte-Croix         N/A     1450        Vaud         VD   \n",
      "\n",
      "        village  \n",
      "0        Zernez  \n",
      "1       Berneck  \n",
      "2           N/A  \n",
      "3     Stallikon  \n",
      "4     Stallikon  \n",
      "5           N/A  \n",
      "6        Wassen  \n",
      "7        Amsteg  \n",
      "8          Sulz  \n",
      "9  Sainte-Croix  \n"
     ]
    }
   ],
   "source": [
    "###############\n",
    "# Extracting addresses and relevant attributes\n",
    "extracted_data = []\n",
    "for lat, lon in coordinates:\n",
    "    result = get_address_from_coordinates(lat, lon)\n",
    "    if result:\n",
    "        components = result['components']\n",
    "        extracted_data.append({\n",
    "            'lat': lat,\n",
    "            'lon': lon,\n",
    "            'country': components.get('country', 'N/A'),\n",
    "            'county': components.get('county', 'N/A'),\n",
    "            'local_administrative_area': components.get('local_administrative_area', 'N/A'),\n",
    "            'locality': components.get('locality', 'N/A'),\n",
    "            'postcode': components.get('postcode', 'N/A'),\n",
    "            'state': components.get('state', 'N/A'),\n",
    "            'state_code': components.get('state_code', 'N/A'),\n",
    "            'village': components.get('village', 'N/A')\n",
    "        })\n",
    "\n",
    "# Creating a DataFrame from the extracted data\n",
    "df_addresses = pd.DataFrame(extracted_data)\n",
    "\n",
    "# Display the DataFrame\n",
    "print(df_addresses)"
   ]
  },
  {
   "cell_type": "markdown",
   "metadata": {},
   "source": [
    "# OLD STUFF"
   ]
  },
  {
   "cell_type": "code",
   "execution_count": 21,
   "metadata": {},
   "outputs": [],
   "source": [
    "\n",
    "\n",
    "# Function to get address from a single latitude and longitude with retry logic\n",
    "def get_address_from_coordinates(lat, lon, retries=3):\n",
    "    url = f\"https://nominatim.openstreetmap.org/reverse?format=jsonv2&lat={lat}&lon={lon}\"\n",
    "    \n",
    "    for attempt in range(retries):\n",
    "        try:\n",
    "            response = requests.get(url, timeout=5)\n",
    "            if response.status_code == 200:\n",
    "                data = response.json()\n",
    "                return data.get('display_name', \"Address not found\")\n",
    "            else:\n",
    "                return \"Error in request\"\n",
    "        except requests.exceptions.RequestException as e:\n",
    "            if attempt < retries - 1:\n",
    "                print(f\"Error: {e}. Retrying ({attempt + 1}/{retries})...\")\n",
    "                time.sleep(3)  # Short wait before retrying\n",
    "            else:\n",
    "                return \"Error in request after retries\"\n",
    "\n",
    "# Load your DataFrame with coordinates\n",
    "# df_coords should have columns \"lat\" and \"lon\"\n",
    "# Example of DataFrame loading\n",
    "# df_coords = pd.read_csv('coordinates.csv')  # Load from file if needed\n",
    "\n",
    "# Assuming df_coords has 'lat' and 'lon' columns\n",
    "coordinates = df_coords[['lat', 'lon']].values.tolist()\n",
    "\n",
    "# Batch size to control API requests\n",
    "batch_size = 100  # Process 100 coordinates per batch\n",
    "delay_between_batches = 10  # Delay in seconds between batches to avoid rate limits\n",
    "\n",
    "addresses = []"
   ]
  },
  {
   "cell_type": "code",
   "execution_count": 22,
   "metadata": {},
   "outputs": [
    {
     "name": "stdout",
     "output_type": "stream",
     "text": [
      "Processing batch 1: Coordinates 1 to 100\n",
      "Fetching address for Latitude: 46.6501430, Longitude: 10.2301992...\n",
      "Address for (46.6501430, 10.2301992): Error in request\n"
     ]
    },
    {
     "ename": "KeyboardInterrupt",
     "evalue": "",
     "output_type": "error",
     "traceback": [
      "\u001b[1;31m---------------------------------------------------------------------------\u001b[0m",
      "\u001b[1;31mKeyboardInterrupt\u001b[0m                         Traceback (most recent call last)",
      "Cell \u001b[1;32mIn[22], line 12\u001b[0m\n\u001b[0;32m     10\u001b[0m     addresses\u001b[38;5;241m.\u001b[39mappend((lat, lon, address))\n\u001b[0;32m     11\u001b[0m     \u001b[38;5;28mprint\u001b[39m(\u001b[38;5;124mf\u001b[39m\u001b[38;5;124m\"\u001b[39m\u001b[38;5;124mAddress for (\u001b[39m\u001b[38;5;132;01m{\u001b[39;00mlat\u001b[38;5;132;01m}\u001b[39;00m\u001b[38;5;124m, \u001b[39m\u001b[38;5;132;01m{\u001b[39;00mlon\u001b[38;5;132;01m}\u001b[39;00m\u001b[38;5;124m): \u001b[39m\u001b[38;5;132;01m{\u001b[39;00maddress\u001b[38;5;132;01m}\u001b[39;00m\u001b[38;5;124m\"\u001b[39m)\n\u001b[1;32m---> 12\u001b[0m     \u001b[43mtime\u001b[49m\u001b[38;5;241;43m.\u001b[39;49m\u001b[43msleep\u001b[49m\u001b[43m(\u001b[49m\u001b[38;5;241;43m2\u001b[39;49m\u001b[43m)\u001b[49m  \u001b[38;5;66;03m# Small delay between requests within the batch to avoid overwhelming the server\u001b[39;00m\n\u001b[0;32m     14\u001b[0m \u001b[38;5;66;03m# Introduce delay between batches\u001b[39;00m\n\u001b[0;32m     15\u001b[0m \u001b[38;5;28mprint\u001b[39m(\u001b[38;5;124mf\u001b[39m\u001b[38;5;124m\"\u001b[39m\u001b[38;5;124mCompleted batch \u001b[39m\u001b[38;5;132;01m{\u001b[39;00mi\u001b[38;5;250m \u001b[39m\u001b[38;5;241m/\u001b[39m\u001b[38;5;241m/\u001b[39m\u001b[38;5;250m \u001b[39mbatch_size\u001b[38;5;250m \u001b[39m\u001b[38;5;241m+\u001b[39m\u001b[38;5;250m \u001b[39m\u001b[38;5;241m1\u001b[39m\u001b[38;5;132;01m}\u001b[39;00m\u001b[38;5;124m. Waiting for \u001b[39m\u001b[38;5;132;01m{\u001b[39;00mdelay_between_batches\u001b[38;5;132;01m}\u001b[39;00m\u001b[38;5;124m seconds before the next batch...\u001b[39m\u001b[38;5;124m\"\u001b[39m)\n",
      "\u001b[1;31mKeyboardInterrupt\u001b[0m: "
     ]
    }
   ],
   "source": [
    "# Process coordinates in batches\n",
    "for i in range(0, len(coordinates), batch_size):\n",
    "    batch = coordinates[i:i + batch_size]\n",
    "    print(f\"Processing batch {i // batch_size + 1}: Coordinates {i + 1} to {min(i + batch_size, len(coordinates))}\")\n",
    "\n",
    "    # Fetch addresses for each coordinate in the batch\n",
    "    for lat, lon in batch:\n",
    "        print(f\"Fetching address for Latitude: {lat}, Longitude: {lon}...\")\n",
    "        address = get_address_from_coordinates(lat, lon)\n",
    "        addresses.append((lat, lon, address))\n",
    "        print(f\"Address for ({lat}, {lon}): {address}\")\n",
    "        time.sleep(2)  # Small delay between requests within the batch to avoid overwhelming the server\n",
    "    \n",
    "    # Introduce delay between batches\n",
    "    print(f\"Completed batch {i // batch_size + 1}. Waiting for {delay_between_batches} seconds before the next batch...\")\n",
    "    time.sleep(delay_between_batches)\n",
    "    \n",
    "    print(f\"Processed {i + len(batch)} coordinates out of {len(coordinates)}\")\n",
    "\n",
    "# Create a new DataFrame to store the results\n",
    "df_results = pd.DataFrame(addresses, columns=['lat', 'lon', 'address'])\n",
    "print(\"Creating DataFrame with results...\")\n",
    "\n",
    "# Save results to a CSV file\n",
    "df_results.to_csv('coordinates_with_addresses.csv', index=False)\n",
    "print(\"Results saved to 'coordinates_with_addresses.csv'.\")\n",
    "\n",
    "# Optional: You can also update your original DataFrame with the address information\n",
    "df_coords['address'] = df_results['address']\n",
    "print(\"Original DataFrame updated with address information.\")\n"
   ]
  },
  {
   "cell_type": "code",
   "execution_count": 2,
   "metadata": {},
   "outputs": [],
   "source": [
    "def get_address_from_coordinates(lat, lon):\n",
    "    url = f\"https://nominatim.openstreetmap.org/reverse?format=jsonv2&lat={lat}&lon={lon}\"\n",
    "    response = requests.get(url)\n",
    "    data = response.json()\n",
    "    \n",
    "    if 'error' not in data:\n",
    "        return data['display_name']\n",
    "    else:\n",
    "        return \"Address not found\"\n",
    "\n"
   ]
  },
  {
   "cell_type": "code",
   "execution_count": 3,
   "metadata": {},
   "outputs": [
    {
     "name": "stdout",
     "output_type": "stream",
     "text": [
      "Stabelchod, Zernez, Region Engiadina Bassa/Val Müstair, Graubünden/Grischun/Grigioni, 7530, Schweiz/Suisse/Svizzera/Svizra\n"
     ]
    }
   ],
   "source": [
    "# Example usage\n",
    "latitude = 46.6501430\n",
    "longitude = 10.2301992\n",
    "address = get_address_from_coordinates(latitude, longitude)\n",
    "print(address)"
   ]
  },
  {
   "cell_type": "code",
   "execution_count": null,
   "metadata": {},
   "outputs": [],
   "source": [
    "import requests\n",
    "import time\n",
    "\n",
    "# Function to get address from a single latitude and longitude\n",
    "def get_address_from_coordinates(lat, lon):\n",
    "    url = f\"https://nominatim.openstreetmap.org/reverse?format=jsonv2&lat={lat}&lon={lon}\"\n",
    "    response = requests.get(url)\n",
    "    if response.status_code == 200:\n",
    "        data = response.json()\n",
    "        return data.get('display_name', \"Address not found\")\n",
    "    else:\n",
    "        return \"Error in request\"\n",
    "\n",
    "# List of 15,000 coordinates (Example with 15 coordinates for illustration)\n",
    "coordinates = [(47.3769, 8.5417), (40.7128, -74.0060), (48.8566, 2.3522), ...] # Up to 15,000 coordinates\n",
    "\n",
    "# Batch size to control API requests\n",
    "batch_size = 100  # For example, process 100 coordinates per batch\n",
    "delay_between_batches = 10  # Delay in seconds between batches to avoid rate limits\n",
    "\n",
    "addresses = []\n",
    "\n",
    "# Process coordinates in batches\n",
    "for i in range(0, len(coordinates), batch_size):\n",
    "    batch = coordinates[i:i + batch_size]\n",
    "    \n",
    "    # Fetch addresses for each coordinate in the batch\n",
    "    for lat, lon in batch:\n",
    "        address = get_address_from_coordinates(lat, lon)\n",
    "        addresses.append((lat, lon, address))\n",
    "        time.sleep(1)  # Small delay between requests within the batch to avoid overwhelming the server\n",
    "    \n",
    "    # Introduce delay between batches\n",
    "    time.sleep(delay_between_batches)\n",
    "    \n",
    "    print(f\"Processed {i + len(batch)} coordinates out of {len(coordinates)}\")\n",
    "\n",
    "# You can save addresses to a file or database for further use\n"
   ]
  }
 ],
 "metadata": {
  "kernelspec": {
   "display_name": "www",
   "language": "python",
   "name": "python3"
  },
  "language_info": {
   "codemirror_mode": {
    "name": "ipython",
    "version": 3
   },
   "file_extension": ".py",
   "mimetype": "text/x-python",
   "name": "python",
   "nbconvert_exporter": "python",
   "pygments_lexer": "ipython3",
   "version": "3.12.5"
  }
 },
 "nbformat": 4,
 "nbformat_minor": 2
}
