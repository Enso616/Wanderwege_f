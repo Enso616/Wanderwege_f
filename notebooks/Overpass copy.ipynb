{
 "cells": [
  {
   "cell_type": "markdown",
   "metadata": {},
   "source": [
    "### Notebook purpose\n",
    "- Connect to Overpass API\n",
    "- Extract coordinates of all hiking trails within Switzerland\n",
    "- Convert data into a pandas dataframe object\n",
    "- Create a table in SQL database (hosted on Microsoft Azure)\n",
    "- Store coordinates in SQL DB"
   ]
  },
  {
   "cell_type": "markdown",
   "metadata": {},
   "source": [
    "overpy ist eine Python-Bibliothek, die es ermöglicht, Daten von der Overpass API (eine Schnittstelle für OpenStreetMap-Daten) abzufragen und zu verarbeiten. Die Overpass API ermöglicht es, Wanderwege aus dem OpenStreetMap-Projekt (OSM) abzurufen.\n",
    "\n",
    "Die Abrage sucht nach Wanderrouten in einem Giebiet welche mit spezifischen Signalisationen ausgeschildert sind. \n",
    "\n",
    "Falls das der Name nicht vorhanden ist, aber die Bezeichnungen von und bis existieren, wird der Name zusammengesetzt.\n",
    "\n"
   ]
  },
  {
   "cell_type": "markdown",
   "metadata": {},
   "source": [
    "sqlalchemy dient dazu, SQL-Datenbanken mit Python-Code zu verbinden und erleichtert das Arbeiten mit relationalen Datenbanken. sqlalchemy bietet einen direkten Zugriff auf SQL-Datenbanken, was Flexibilität ermöglicht."
   ]
  },
  {
   "cell_type": "code",
   "execution_count": 34,
   "metadata": {},
   "outputs": [],
   "source": [
    "# Import required libraries\n",
    "import pandas as pd \n",
    "import overpy\n",
    "import json\n",
    "import os\n",
    "from sqlalchemy import create_engine\n",
    "import pyodbc\n",
    "import urllib\n",
    "import json\n",
    "import pymssql"
   ]
  },
  {
   "cell_type": "code",
   "execution_count": 35,
   "metadata": {},
   "outputs": [],
   "source": [
    "# Initialize the Overpass API with a custom URL\n",
    "api = overpy.Overpass(url=\"http://overpass.osm.ch/api/interpreter\")\n",
    "\n",
    "# Overpass query for hiking trails within Switzerland. Using 'center', we obtain the coordinates in the middle of a hiking trail\n",
    "query = \"\"\"\n",
    "[out:json];\n",
    "relation\n",
    "[\"route\"=\"hiking\"]\n",
    "/*[\"name\"]*/\n",
    "[\"name\"!~\"fixme\", i]\n",
    "[\"network\"=\"lwn\"]\n",
    "[\"osmc:symbol\"~\"yellow::yellow_diamond|red:white:red_bar|yellow:white:yellow_diamond|blue:white:blue_bar\"]\n",
    "/*(id: 1432463)*/\n",
    "(45.8899, 6.0872, 47.8085, 10.4921);\n",
    "out center tags;\n",
    "\"\"\"\n",
    "\n",
    "# Execute the request\n",
    "result = api.query(query)\n",
    "\n",
    "# List to store the extracted information\n",
    "list = []\n",
    "\n",
    "# Iterate over all relations\n",
    "for relation in result.relations:\n",
    "    \n",
    "    # Extract relevant data\n",
    "    org_name = relation.tags.get('name')\n",
    "    fix_name = \"\"\n",
    "    org_to = relation.tags.get('to')\n",
    "    org_from = relation.tags.get('from')\n",
    "    \n",
    "    # Center is a tuple with latitude and longitude, we want only a single value\n",
    "    lat = getattr(relation, 'center_lat')\n",
    "    lon = getattr(relation, 'center_lon')\n",
    "    \n",
    "    # If the original name is not available, construct it from 'from' and 'to'\n",
    "    if not org_name and org_from and org_to:\n",
    "        fix_name = f\"{org_from} - {org_to}\"\n",
    "    else:\n",
    "        fix_name = org_name\n",
    "\n",
    "    # Create a dictionary to store the attributes as a tuple\n",
    "    if fix_name and lat > 0 and lon > 0:\n",
    "        dict = {\n",
    "        'id': relation.id,\n",
    "        'name': fix_name,\n",
    "        'lat': lat,\n",
    "        'lon': lon\n",
    "        }\n",
    "\n",
    "        # Each tuple is now saved in the list as a new row\n",
    "        list.append(dict)\n",
    "\n",
    "# Once all data is processed, create the DataFrame\n",
    "df_wanderwege = pd.DataFrame(list)\n",
    "\n"
   ]
  },
  {
   "cell_type": "code",
   "execution_count": 36,
   "metadata": {},
   "outputs": [
    {
     "name": "stdout",
     "output_type": "stream",
     "text": [
      "<class 'pandas.core.frame.DataFrame'>\n",
      "RangeIndex: 15196 entries, 0 to 15195\n",
      "Data columns (total 5 columns):\n",
      " #   Column             Non-Null Count  Dtype \n",
      "---  ------             --------------  ----- \n",
      " 0   timestamp_apicall  15196 non-null  object\n",
      " 1   id                 15196 non-null  int64 \n",
      " 2   name               15196 non-null  object\n",
      " 3   lat                15196 non-null  object\n",
      " 4   lon                15196 non-null  object\n",
      "dtypes: int64(1), object(4)\n",
      "memory usage: 593.7+ KB\n",
      "None\n",
      "-----------------------------------------\n",
      "     timestamp_apicall      id                                          name  \\\n",
      "0  2024-09-20 16:05:45   22614  Nationalpark Wanderroute 15 (Munt la Schera)   \n",
      "1  2024-09-20 16:05:45  103607                                 Wanderwege SG   \n",
      "2  2024-09-20 16:05:45  112830                Uetliberg - Uetliberg Uto Kulm   \n",
      "3  2024-09-20 16:05:45  112831                           Folenweid - Baldern   \n",
      "4  2024-09-20 16:05:45  112833                          Felsenegg - Balderen   \n",
      "\n",
      "          lat         lon  \n",
      "0  46.6501430  10.2301992  \n",
      "1  47.4309774   9.6201700  \n",
      "2  47.3511680   8.4897796  \n",
      "3  47.3291235   8.5007261  \n",
      "4  47.3152439   8.5050559  \n"
     ]
    }
   ],
   "source": [
    "# Add time and datestamp of API call to dataframe\n",
    "df_wanderwege[\"timestamp_apicall\"] = pd.Timestamp.now().strftime(\"%Y-%m-%d %H:%M:%S\")\n",
    "\n",
    "# Change column order and print dataframe\n",
    "col_order = ['timestamp_apicall', 'id', 'name', 'lat', 'lon']\n",
    "df_wanderwege = df_wanderwege[col_order]\n",
    "\n",
    "print(df_wanderwege.info())\n",
    "print(\"-----------------------------------------\")\n",
    "print(df_wanderwege.head(5))"
   ]
  },
  {
   "cell_type": "code",
   "execution_count": 37,
   "metadata": {},
   "outputs": [
    {
     "name": "stdout",
     "output_type": "stream",
     "text": [
      "/Users/tom/Git/Wanderwege/Wanderwege/notebooks\n"
     ]
    }
   ],
   "source": [
    "# Get current working directory\n",
    "current_dir = os.getcwd()\n",
    "print(current_dir)\n",
    "\n",
    "# c:\\Users\\etien\\OneDrive\\02_Progression\\CAS_DataEngineering_ZHAW\\03_Leistungsnachweis\\Wanderwege\\notebooks"
   ]
  },
  {
   "cell_type": "code",
   "execution_count": 38,
   "metadata": {},
   "outputs": [],
   "source": [
    "# Load database access configuration from config/db_config.json\n",
    "with open('../config/db_config.json', 'r') as f:\n",
    "    db_config = json.load(f)\n",
    "\n",
    "# Access db credentials\n",
    "server = db_config['server']\n",
    "database = db_config['database']\n",
    "db_user = db_config['db_user']\n",
    "db_password = db_config['db_password']"
   ]
  },
  {
   "cell_type": "code",
   "execution_count": 39,
   "metadata": {},
   "outputs": [],
   "source": [
    "# Erstelle die Verbindungs-Engine für pymssql\n",
    "engine = create_engine(f\"mssql+pymssql://{db_user}:{db_password}@{server}/{database}\")\n"
   ]
  },
  {
   "cell_type": "code",
   "execution_count": 40,
   "metadata": {},
   "outputs": [
    {
     "name": "stdout",
     "output_type": "stream",
     "text": [
      "DataFrame erfolgreich in die MSSQL-Datenbank geladen!\n"
     ]
    }
   ],
   "source": [
    "\n",
    "\n",
    "# Datenbankzugriffskonfiguration laden\n",
    "with open('../config/db_config.json', 'r') as f:\n",
    "    db_config = json.load(f)\n",
    "\n",
    "# Zugriff auf die DB-Anmeldeinformationen\n",
    "server = db_config['server']\n",
    "database = db_config['database']\n",
    "db_user = db_config['db_user']\n",
    "db_password = db_config['db_password']\n",
    "\n",
    "# Verbindungsaufbau mit pymssql (für direkte Verwendung ohne ODBC)\n",
    "conn = pymssql.connect(server, db_user, db_password, database)\n",
    "\n",
    "\n",
    "# Erstelle die Verbindungs-Engine für pymssql mit SQLAlchemy\n",
    "engine = create_engine(f\"mssql+pymssql://{db_user}:{db_password}@{server}/{database}\")\n",
    "\n",
    "# DataFrame in die MSSQL-Datenbank-Tabelle schreiben\n",
    "df_wanderwege.to_sql(name='www_db', con=engine, if_exists='replace', index=False)\n",
    "\n",
    "print(\"DataFrame erfolgreich in die MSSQL-Datenbank geladen!\")\n",
    "\n",
    "# Schließe die Verbindung\n",
    "conn.close()\n"
   ]
  }
 ],
 "metadata": {
  "kernelspec": {
   "display_name": "daengenv",
   "language": "python",
   "name": "python3"
  },
  "language_info": {
   "codemirror_mode": {
    "name": "ipython",
    "version": 3
   },
   "file_extension": ".py",
   "mimetype": "text/x-python",
   "name": "python",
   "nbconvert_exporter": "python",
   "pygments_lexer": "ipython3",
   "version": "3.12.6"
  }
 },
 "nbformat": 4,
 "nbformat_minor": 2
}
