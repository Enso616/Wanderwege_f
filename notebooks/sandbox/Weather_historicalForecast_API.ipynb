{
 "cells": [
  {
   "cell_type": "code",
   "execution_count": 1,
   "metadata": {},
   "outputs": [],
   "source": [
    "# Import required libraries\n",
    "import numpy as np\n",
    "import pandas as pd\n",
    "\n",
    "import openmeteo_requests\n",
    "import requests_cache\n",
    "from retry_requests import retry\n",
    "\n",
    "import matplotlib.pyplot as plt\n",
    "import seaborn as sns\n",
    "\n",
    "## Use command \"pip freeze > requirements.txt\" to save the dependencies in requirements.txt"
   ]
  },
  {
   "cell_type": "markdown",
   "metadata": {},
   "source": [
    "### Open-Meteo Weather API - Doku\n",
    "https://github.com/open-meteo/open-meteo?tab=readme-ov-file\n",
    "\n",
    "Historical Weather: https://open-meteo.com/en/docs/historical-weather-api\n",
    "\n",
    "Weather Forecast:   https://open-meteo.com/en/docs"
   ]
  },
  {
   "cell_type": "markdown",
   "metadata": {},
   "source": [
    "### OpenStreetMap - Doku\n",
    "https://www.openstreetmap.org/#map=8/46.826/8.613"
   ]
  },
  {
   "cell_type": "markdown",
   "metadata": {},
   "source": [
    "### Task Overview\n",
    "\n",
    "Step 1: Get daily and hourly historical Weather data for 5 specified coordinates"
   ]
  },
  {
   "cell_type": "code",
   "execution_count": 33,
   "metadata": {},
   "outputs": [
    {
     "name": "stdout",
     "output_type": "stream",
     "text": [
      "                                            location       lat      lon\n",
      "0  Schönengrund, Hinterland, Appenzell Ausserrhod...  47.31706  9.24482\n",
      "1              Einsiedeln, Schwyz, 8840, Switzerland  47.10710  8.81140\n",
      "2            Wolfenschiessen, Nidwalden, Switzerland  46.90620  8.42820\n",
      "3     Pontresina, Maloja, Grisons, 7504, Switzerland  46.47740  9.90420\n",
      "4  Ruvigliana, Circolo di Lugano est, Lugano, Dis...  46.00865  8.98767\n"
     ]
    }
   ],
   "source": [
    "# Create a pandas dataframe with coordinates of locations to process\n",
    "# Locations and coordinates found in openStreetMap\n",
    "locations_coords = pd.DataFrame({\n",
    "    \"location\" : [\"Schönengrund, Hinterland, Appenzell Ausserrhoden, 9105, Switzerland\", \n",
    "              \"Einsiedeln, Schwyz, 8840, Switzerland\",\n",
    "              \"Wolfenschiessen, Nidwalden, Switzerland\",\n",
    "              \"Pontresina, Maloja, Grisons, 7504, Switzerland\",\n",
    "              \"Ruvigliana, Circolo di Lugano est, Lugano, Distretto di Lugano, Ticino, 6977, Switzerland\"\n",
    "              ], \n",
    "    \"lat\" : [47.31706, 47.1071, 46.9062, 46.4774, 46.00865], \n",
    "    \"lon\" : [9.24482, 8.8114, 8.4282, 9.9042, 8.98767]})\n",
    "print(locations_coords)\n"
   ]
  },
  {
   "cell_type": "code",
   "execution_count": null,
   "metadata": {},
   "outputs": [],
   "source": []
  },
  {
   "cell_type": "code",
   "execution_count": 38,
   "metadata": {},
   "outputs": [
    {
     "name": "stdout",
     "output_type": "stream",
     "text": [
      "<class 'list'>\n",
      "['Schönengrund, Hinterland, Appenzell Ausserrhoden, 9105, Switzerland', 'Einsiedeln, Schwyz, 8840, Switzerland', 'Wolfenschiessen, Nidwalden, Switzerland', 'Pontresina, Maloja, Grisons, 7504, Switzerland', 'Ruvigliana, Circolo di Lugano est, Lugano, Distretto di Lugano, Ticino, 6977, Switzerland']\n"
     ]
    }
   ],
   "source": [
    "print(type(list(locations_coords.loc[:, \"location\"])))\n",
    "print(list(locations_coords.loc[:, \"location\"]))"
   ]
  },
  {
   "cell_type": "code",
   "execution_count": 53,
   "metadata": {},
   "outputs": [],
   "source": [
    "# Define a start and end date of data to fetch from Open-Meteo API\n",
    "start_date = \"2024-01-01\"\n",
    "end_date = \"2024-09-09\""
   ]
  },
  {
   "cell_type": "code",
   "execution_count": 54,
   "metadata": {},
   "outputs": [],
   "source": [
    "# Setup the Open-Meteo API client with cache and retry on error\n",
    "cache_session = requests_cache.CachedSession('.cache', expire_after = 3600)     # stores data for 1 hour in the cache\n",
    "retry_session = retry(cache_session, retries = 5, backoff_factor = 0.2)         # retries 5 times with increasing delay of 20%\n",
    "openmeteo = openmeteo_requests.Client(session = retry_session)                  # Using the retry_session to make a request to Open-Meteo API"
   ]
  },
  {
   "cell_type": "code",
   "execution_count": 55,
   "metadata": {},
   "outputs": [
    {
     "name": "stdout",
     "output_type": "stream",
     "text": [
      "Number of resposes: 5\n"
     ]
    }
   ],
   "source": [
    "# Make sure all required weather variables are listed here\n",
    "# The order of variables in hourly or daily is important to assign them correctly below\n",
    "url = \"https://historical-forecast-api.open-meteo.com/v1/forecast\"\n",
    "params = {\n",
    "\t\"latitude\": list(locations_coords[\"lat\"]),\n",
    "\t\"longitude\": list(locations_coords[\"lon\"]),\n",
    "\t\"start_date\": start_date,\n",
    "\t\"end_date\": end_date,\n",
    "\t\"hourly\": [\"temperature_2m\", \"relative_humidity_2m\", \"precipitation_probability\", \"precipitation\", \"rain\", \"showers\", \"snowfall\", \"snow_depth\", \"weather_code\", \"pressure_msl\", \"surface_pressure\", \"cloud_cover\", \"cloud_cover_low\", \"cloud_cover_mid\", \"cloud_cover_high\", \"visibility\", \"wind_speed_10m\", \"wind_direction_10m\", \"wind_gusts_10m\", \"uv_index\", \"uv_index_clear_sky\", \"is_day\", \"sunshine_duration\"],\n",
    "\t\"daily\": [\"weather_code\", \"temperature_2m_max\", \"temperature_2m_min\", \"apparent_temperature_max\", \"apparent_temperature_min\", \"sunrise\", \"sunset\", \"daylight_duration\", \"sunshine_duration\", \"uv_index_max\", \"uv_index_clear_sky_max\", \"precipitation_sum\", \"rain_sum\", \"showers_sum\", \"snowfall_sum\", \"precipitation_hours\", \"precipitation_probability_max\", \"wind_speed_10m_max\", \"wind_gusts_10m_max\"],\n",
    "\t\"timezone\": \"Europe/Berlin\"\n",
    "}\n",
    "responses = openmeteo.weather_api(url, params=params)\n",
    "print(f\"Number of resposes: {len(responses)}\")"
   ]
  },
  {
   "cell_type": "code",
   "execution_count": 56,
   "metadata": {},
   "outputs": [
    {
     "name": "stdout",
     "output_type": "stream",
     "text": [
      "Coordinates 46.02000045776367°N 9.0°E\n",
      "Elevation 926.0 m asl\n",
      "Timezone b'Europe/Berlin' b'CEST'\n",
      "Timezone difference to GMT+0 7200 s\n"
     ]
    }
   ],
   "source": [
    "# Process first location. Add a for-loop for multiple locations or weather models\n",
    "response = responses[4]\n",
    "print(f\"Coordinates {response.Latitude()}°N {response.Longitude()}°E\")\n",
    "print(f\"Elevation {response.Elevation()} m asl\")\n",
    "print(f\"Timezone {response.Timezone()} {response.TimezoneAbbreviation()}\")\n",
    "print(f\"Timezone difference to GMT+0 {response.UtcOffsetSeconds()} s\")"
   ]
  },
  {
   "cell_type": "code",
   "execution_count": 57,
   "metadata": {},
   "outputs": [
    {
     "name": "stdout",
     "output_type": "stream",
     "text": [
      "(6072, 26)\n",
      "                          date    lat  lon  temperature_2m  \\\n",
      "0    2023-12-31 22:00:00+00:00  46.02  9.0        1.977000   \n",
      "1    2023-12-31 23:00:00+00:00  46.02  9.0        1.577000   \n",
      "2    2024-01-01 00:00:00+00:00  46.02  9.0        1.842500   \n",
      "3    2024-01-01 01:00:00+00:00  46.02  9.0        2.542500   \n",
      "4    2024-01-01 02:00:00+00:00  46.02  9.0        2.542500   \n",
      "...                        ...    ...  ...             ...   \n",
      "6067 2024-09-09 17:00:00+00:00  46.02  9.0       18.592501   \n",
      "6068 2024-09-09 18:00:00+00:00  46.02  9.0       17.942501   \n",
      "6069 2024-09-09 19:00:00+00:00  46.02  9.0       17.492500   \n",
      "6070 2024-09-09 20:00:00+00:00  46.02  9.0       17.642500   \n",
      "6071 2024-09-09 21:00:00+00:00  46.02  9.0       17.142500   \n",
      "\n",
      "      relative_humidity_2m  precipitation_probability  precipitation  rain  \\\n",
      "0                     99.0                        NaN            0.0   0.0   \n",
      "1                     97.0                        NaN            0.0   0.0   \n",
      "2                     94.0                        NaN            0.0   0.0   \n",
      "3                     82.0                        NaN            0.0   0.0   \n",
      "4                     76.0                        NaN            0.0   0.0   \n",
      "...                    ...                        ...            ...   ...   \n",
      "6067                  45.0                        NaN            0.0   0.0   \n",
      "6068                  46.0                        NaN            0.0   0.0   \n",
      "6069                  46.0                        NaN            0.0   0.0   \n",
      "6070                  46.0                        NaN            0.0   0.0   \n",
      "6071                  48.0                        NaN            0.0   0.0   \n",
      "\n",
      "      showers  snowfall  ...  cloud_cover_mid  cloud_cover_high  visibility  \\\n",
      "0         0.0       0.0  ...             54.0               0.0        60.0   \n",
      "1         0.0       0.0  ...             12.0               0.0        60.0   \n",
      "2         0.0       0.0  ...              0.0               0.0       520.0   \n",
      "3         0.0       0.0  ...              0.0               0.0     24140.0   \n",
      "4         0.0       0.0  ...              0.0               0.0     24140.0   \n",
      "...       ...       ...  ...              ...               ...         ...   \n",
      "6067      0.0       0.0  ...              0.0               0.0     75860.0   \n",
      "6068      0.0       0.0  ...              0.0               0.0     75880.0   \n",
      "6069      0.0       0.0  ...              0.0               0.0     75900.0   \n",
      "6070      0.0       0.0  ...              0.0               0.0     75880.0   \n",
      "6071      0.0       0.0  ...             14.0               0.0     75820.0   \n",
      "\n",
      "      wind_speed_10m  wind_direction_10m  wind_gusts_10m  uv_index  \\\n",
      "0           2.741678           23.198618       11.520000      0.00   \n",
      "1           4.610250          321.340179       17.280001      0.00   \n",
      "2           6.618519          292.380188       30.239998      0.00   \n",
      "3           5.860375          317.489594       27.719999      0.00   \n",
      "4           5.904439          322.431335       25.559999      0.00   \n",
      "...              ...                 ...             ...       ...   \n",
      "6067       16.167967           11.560100       65.879997      0.75   \n",
      "6068       16.595179           12.528798        0.000000      0.10   \n",
      "6069       13.661038           18.435053       53.279999      0.00   \n",
      "6070       14.440443            4.289077       54.000000      0.00   \n",
      "6071        9.885262           10.491434       56.880001      0.00   \n",
      "\n",
      "      uv_index_clear_sky  is_day  sunshine_duration  \n",
      "0                   0.00     0.0           0.000000  \n",
      "1                   0.00     0.0           0.000000  \n",
      "2                   0.00     0.0           0.000000  \n",
      "3                   0.00     0.0           0.000000  \n",
      "4                   0.00     0.0           0.000000  \n",
      "...                  ...     ...                ...  \n",
      "6067                0.75     1.0        3600.000000  \n",
      "6068                0.10     0.0          71.418816  \n",
      "6069                0.00     0.0           0.000000  \n",
      "6070                0.00     0.0           0.000000  \n",
      "6071                0.00     0.0           0.000000  \n",
      "\n",
      "[6072 rows x 26 columns]\n"
     ]
    }
   ],
   "source": [
    "# Process hourly data. The order of variables needs to be the same as requested.\n",
    "hourly = response.Hourly()\n",
    "hourly_temperature_2m = hourly.Variables(0).ValuesAsNumpy()\n",
    "hourly_relative_humidity_2m = hourly.Variables(1).ValuesAsNumpy()\n",
    "hourly_precipitation_probability = hourly.Variables(2).ValuesAsNumpy()\n",
    "hourly_precipitation = hourly.Variables(3).ValuesAsNumpy()\n",
    "hourly_rain = hourly.Variables(4).ValuesAsNumpy()\n",
    "hourly_showers = hourly.Variables(5).ValuesAsNumpy()\n",
    "hourly_snowfall = hourly.Variables(6).ValuesAsNumpy()\n",
    "hourly_snow_depth = hourly.Variables(7).ValuesAsNumpy()\n",
    "hourly_weather_code = hourly.Variables(8).ValuesAsNumpy()\n",
    "hourly_pressure_msl = hourly.Variables(9).ValuesAsNumpy()\n",
    "hourly_surface_pressure = hourly.Variables(10).ValuesAsNumpy()\n",
    "hourly_cloud_cover = hourly.Variables(11).ValuesAsNumpy()\n",
    "hourly_cloud_cover_low = hourly.Variables(12).ValuesAsNumpy()\n",
    "hourly_cloud_cover_mid = hourly.Variables(13).ValuesAsNumpy()\n",
    "hourly_cloud_cover_high = hourly.Variables(14).ValuesAsNumpy()\n",
    "hourly_visibility = hourly.Variables(15).ValuesAsNumpy()\n",
    "hourly_wind_speed_10m = hourly.Variables(16).ValuesAsNumpy()\n",
    "hourly_wind_direction_10m = hourly.Variables(17).ValuesAsNumpy()\n",
    "hourly_wind_gusts_10m = hourly.Variables(18).ValuesAsNumpy()\n",
    "hourly_uv_index = hourly.Variables(19).ValuesAsNumpy()\n",
    "hourly_uv_index_clear_sky = hourly.Variables(20).ValuesAsNumpy()\n",
    "hourly_is_day = hourly.Variables(21).ValuesAsNumpy()\n",
    "hourly_sunshine_duration = hourly.Variables(22).ValuesAsNumpy()\n",
    "\n",
    "hourly_data = {\"date\": pd.date_range(\n",
    "\tstart = pd.to_datetime(hourly.Time(), unit = \"s\", utc = True),\n",
    "\tend = pd.to_datetime(hourly.TimeEnd(), unit = \"s\", utc = True),\n",
    "\tfreq = pd.Timedelta(seconds = hourly.Interval()),\n",
    "\tinclusive = \"left\"\n",
    ")}\n",
    "\n",
    "hourly_data[\"lat\"] = response.Latitude()\n",
    "hourly_data[\"lon\"] = response.Longitude()\n",
    "\n",
    "\n",
    "hourly_data[\"temperature_2m\"] = hourly_temperature_2m\n",
    "hourly_data[\"relative_humidity_2m\"] = hourly_relative_humidity_2m\n",
    "hourly_data[\"precipitation_probability\"] = hourly_precipitation_probability\n",
    "hourly_data[\"precipitation\"] = hourly_precipitation\n",
    "hourly_data[\"rain\"] = hourly_rain\n",
    "hourly_data[\"showers\"] = hourly_showers\n",
    "hourly_data[\"snowfall\"] = hourly_snowfall\n",
    "hourly_data[\"snow_depth\"] = hourly_snow_depth\n",
    "hourly_data[\"weather_code\"] = hourly_weather_code\n",
    "hourly_data[\"pressure_msl\"] = hourly_pressure_msl\n",
    "hourly_data[\"surface_pressure\"] = hourly_surface_pressure\n",
    "hourly_data[\"cloud_cover\"] = hourly_cloud_cover\n",
    "hourly_data[\"cloud_cover_low\"] = hourly_cloud_cover_low\n",
    "hourly_data[\"cloud_cover_mid\"] = hourly_cloud_cover_mid\n",
    "hourly_data[\"cloud_cover_high\"] = hourly_cloud_cover_high\n",
    "hourly_data[\"visibility\"] = hourly_visibility\n",
    "hourly_data[\"wind_speed_10m\"] = hourly_wind_speed_10m\n",
    "hourly_data[\"wind_direction_10m\"] = hourly_wind_direction_10m\n",
    "hourly_data[\"wind_gusts_10m\"] = hourly_wind_gusts_10m\n",
    "hourly_data[\"uv_index\"] = hourly_uv_index\n",
    "hourly_data[\"uv_index_clear_sky\"] = hourly_uv_index_clear_sky\n",
    "hourly_data[\"is_day\"] = hourly_is_day\n",
    "hourly_data[\"sunshine_duration\"] = hourly_sunshine_duration\n",
    "\n",
    "hourly_dataframe = pd.DataFrame(data = hourly_data)\n",
    "print(hourly_dataframe.shape)\n",
    "print(hourly_dataframe)"
   ]
  },
  {
   "cell_type": "code",
   "execution_count": 58,
   "metadata": {},
   "outputs": [
    {
     "name": "stdout",
     "output_type": "stream",
     "text": [
      "                         date    lat  lon  weather_code  temperature_2m_max  \\\n",
      "0   2023-12-31 22:00:00+00:00  46.02  9.0          45.0            5.842500   \n",
      "1   2024-01-01 22:00:00+00:00  46.02  9.0           3.0            4.542500   \n",
      "2   2024-01-02 22:00:00+00:00  46.02  9.0           3.0            6.192500   \n",
      "3   2024-01-03 22:00:00+00:00  46.02  9.0           3.0            8.542500   \n",
      "4   2024-01-04 22:00:00+00:00  46.02  9.0          63.0            5.442500   \n",
      "..                        ...    ...  ...           ...                 ...   \n",
      "248 2024-09-04 22:00:00+00:00  46.02  9.0          96.0           17.792500   \n",
      "249 2024-09-05 22:00:00+00:00  46.02  9.0          95.0           18.292500   \n",
      "250 2024-09-06 22:00:00+00:00  46.02  9.0           3.0           20.692501   \n",
      "251 2024-09-07 22:00:00+00:00  46.02  9.0          96.0           18.042500   \n",
      "252 2024-09-08 22:00:00+00:00  46.02  9.0          95.0           21.092501   \n",
      "\n",
      "     temperature_2m_min  apparent_temperature_max  apparent_temperature_min  \\\n",
      "0              1.442500                  3.380883                 -1.866467   \n",
      "1              1.642500                  2.120465                 -1.910465   \n",
      "2              1.842500                  4.412859                 -1.259537   \n",
      "3              3.192500                  6.253081                  0.010739   \n",
      "4              1.392500                  1.672169                 -0.921472   \n",
      "..                  ...                       ...                       ...   \n",
      "248           14.092501                 18.307579                 14.271589   \n",
      "249           14.192500                 19.269531                 14.534744   \n",
      "250           15.142500                 21.116024                 15.035816   \n",
      "251           14.992500                 19.501711                 14.413616   \n",
      "252           14.042500                 20.503239                 13.732197   \n",
      "\n",
      "     sunrise  sunset  ...  uv_index_max  uv_index_clear_sky_max  \\\n",
      "0          0       0  ...          1.60                    1.75   \n",
      "1          0       0  ...          1.55                    1.85   \n",
      "2          0       0  ...          1.80                    1.80   \n",
      "3          0       0  ...          1.80                    1.80   \n",
      "4          0       0  ...          0.60                    1.60   \n",
      "..       ...     ...  ...           ...                     ...   \n",
      "248        0       0  ...          1.75                    5.35   \n",
      "249        0       0  ...          5.65                    5.65   \n",
      "250        0       0  ...          5.65                    5.65   \n",
      "251        0       0  ...          1.85                    5.30   \n",
      "252        0       0  ...          5.60                    5.60   \n",
      "\n",
      "     precipitation_sum   rain_sum  showers_sum  snowfall_sum  \\\n",
      "0             0.000000   0.000000          0.0           0.0   \n",
      "1             0.000000   0.000000          0.0           0.0   \n",
      "2             0.000000   0.000000          0.0           0.0   \n",
      "3             0.000000   0.000000          0.0           0.0   \n",
      "4            25.599998  25.599998          0.0           0.0   \n",
      "..                 ...        ...          ...           ...   \n",
      "248          50.099998  49.300003          0.6           0.0   \n",
      "249          16.600000  16.600000          0.0           0.0   \n",
      "250           0.000000   0.000000          0.0           0.0   \n",
      "251          63.199997  63.199997          0.0           0.0   \n",
      "252           5.600000   5.600000          0.1           0.0   \n",
      "\n",
      "     precipitation_hours  precipitation_probability_max  wind_speed_10m_max  \\\n",
      "0                    0.0                            NaN           10.514218   \n",
      "1                    0.0                            NaN            8.669949   \n",
      "2                    0.0                            NaN            7.421590   \n",
      "3                    0.0                            NaN           10.233123   \n",
      "4                   15.0                            NaN            9.449572   \n",
      "..                   ...                            ...                 ...   \n",
      "248                 18.0                            NaN           18.250259   \n",
      "249                  5.0                            NaN            6.287130   \n",
      "250                  0.0                            NaN            7.895416   \n",
      "251                 14.0                            NaN           17.106628   \n",
      "252                  3.0                            NaN           18.643690   \n",
      "\n",
      "     wind_gusts_10m_max  \n",
      "0             31.319998  \n",
      "1             21.240000  \n",
      "2             27.359999  \n",
      "3             46.799999  \n",
      "4             38.519997  \n",
      "..                  ...  \n",
      "248           77.400002  \n",
      "249           25.199999  \n",
      "250           21.599998  \n",
      "251           52.199997  \n",
      "252           65.879997  \n",
      "\n",
      "[253 rows x 22 columns]\n"
     ]
    }
   ],
   "source": [
    "# Process daily data. The order of variables needs to be the same as requested.\n",
    "daily = response.Daily()\n",
    "daily_weather_code = daily.Variables(0).ValuesAsNumpy()\n",
    "daily_temperature_2m_max = daily.Variables(1).ValuesAsNumpy()\n",
    "daily_temperature_2m_min = daily.Variables(2).ValuesAsNumpy()\n",
    "daily_apparent_temperature_max = daily.Variables(3).ValuesAsNumpy()\n",
    "daily_apparent_temperature_min = daily.Variables(4).ValuesAsNumpy()\n",
    "daily_sunrise = daily.Variables(5).ValuesAsNumpy()\n",
    "daily_sunset = daily.Variables(6).ValuesAsNumpy()\n",
    "daily_daylight_duration = daily.Variables(7).ValuesAsNumpy()\n",
    "daily_sunshine_duration = daily.Variables(8).ValuesAsNumpy()\n",
    "daily_uv_index_max = daily.Variables(9).ValuesAsNumpy()\n",
    "daily_uv_index_clear_sky_max = daily.Variables(10).ValuesAsNumpy()\n",
    "daily_precipitation_sum = daily.Variables(11).ValuesAsNumpy()\n",
    "daily_rain_sum = daily.Variables(12).ValuesAsNumpy()\n",
    "daily_showers_sum = daily.Variables(13).ValuesAsNumpy()\n",
    "daily_snowfall_sum = daily.Variables(14).ValuesAsNumpy()\n",
    "daily_precipitation_hours = daily.Variables(15).ValuesAsNumpy()\n",
    "daily_precipitation_probability_max = daily.Variables(16).ValuesAsNumpy()\n",
    "daily_wind_speed_10m_max = daily.Variables(17).ValuesAsNumpy()\n",
    "daily_wind_gusts_10m_max = daily.Variables(18).ValuesAsNumpy()\n",
    "\n",
    "daily_data = {\"date\": pd.date_range(\n",
    "\tstart = pd.to_datetime(daily.Time(), unit = \"s\", utc = True),\n",
    "\tend = pd.to_datetime(daily.TimeEnd(), unit = \"s\", utc = True),\n",
    "\tfreq = pd.Timedelta(seconds = daily.Interval()),\n",
    "\tinclusive = \"left\"\n",
    ")}\n",
    "\n",
    "daily_data[\"lat\"] = response.Latitude()\n",
    "daily_data[\"lon\"] = response.Longitude()\n",
    "\n",
    "daily_data[\"weather_code\"] = daily_weather_code\n",
    "daily_data[\"temperature_2m_max\"] = daily_temperature_2m_max\n",
    "daily_data[\"temperature_2m_min\"] = daily_temperature_2m_min\n",
    "daily_data[\"apparent_temperature_max\"] = daily_apparent_temperature_max\n",
    "daily_data[\"apparent_temperature_min\"] = daily_apparent_temperature_min\n",
    "daily_data[\"sunrise\"] = daily_sunrise\n",
    "daily_data[\"sunset\"] = daily_sunset\n",
    "daily_data[\"daylight_duration\"] = daily_daylight_duration\n",
    "daily_data[\"sunshine_duration\"] = daily_sunshine_duration\n",
    "daily_data[\"uv_index_max\"] = daily_uv_index_max\n",
    "daily_data[\"uv_index_clear_sky_max\"] = daily_uv_index_clear_sky_max\n",
    "daily_data[\"precipitation_sum\"] = daily_precipitation_sum\n",
    "daily_data[\"rain_sum\"] = daily_rain_sum\n",
    "daily_data[\"showers_sum\"] = daily_showers_sum\n",
    "daily_data[\"snowfall_sum\"] = daily_snowfall_sum\n",
    "daily_data[\"precipitation_hours\"] = daily_precipitation_hours\n",
    "daily_data[\"precipitation_probability_max\"] = daily_precipitation_probability_max\n",
    "daily_data[\"wind_speed_10m_max\"] = daily_wind_speed_10m_max\n",
    "daily_data[\"wind_gusts_10m_max\"] = daily_wind_gusts_10m_max\n",
    "\n",
    "daily_dataframe = pd.DataFrame(data = daily_data)\n",
    "print(daily_dataframe)"
   ]
  },
  {
   "cell_type": "code",
   "execution_count": 60,
   "metadata": {},
   "outputs": [],
   "source": [
    "# Save dataframes as csv files\n",
    "hourly_dataframe.to_csv(\"historic_weather_hourly.csv\")\n",
    "daily_dataframe.to_csv(\"historic_weather_daily.csv\")"
   ]
  },
  {
   "cell_type": "code",
   "execution_count": null,
   "metadata": {},
   "outputs": [],
   "source": []
  }
 ],
 "metadata": {
  "kernelspec": {
   "display_name": "daengenv",
   "language": "python",
   "name": "python3"
  },
  "language_info": {
   "codemirror_mode": {
    "name": "ipython",
    "version": 3
   },
   "file_extension": ".py",
   "mimetype": "text/x-python",
   "name": "python",
   "nbconvert_exporter": "python",
   "pygments_lexer": "ipython3",
   "version": "3.11.9"
  }
 },
 "nbformat": 4,
 "nbformat_minor": 2
}
