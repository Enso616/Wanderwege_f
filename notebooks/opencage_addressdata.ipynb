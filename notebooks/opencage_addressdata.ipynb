{
 "cells": [
  {
   "cell_type": "markdown",
   "metadata": {},
   "source": [
    "# Open Cage Geocoding API\n",
    "\n",
    "Notebook purpose:\n",
    "- Get address data for coordinates of weather forecast\n",
    "- Ingest address data into sql database\n",
    "\n",
    "Important note:\n",
    "- The free api version is limited to 2500 calls per day\n",
    "\n",
    "- https://opencagedata.com/pricing\n",
    "- https://opencagedata.com/tutorials/geocode-in-python\n"
   ]
  },
  {
   "cell_type": "code",
   "execution_count": 1,
   "metadata": {},
   "outputs": [],
   "source": [
    "# Import required libraries\n",
    "import pandas as pd \n",
    "#import overpy\n",
    "import json\n",
    "import os\n",
    "from sqlalchemy import create_engine, text, Column, Float, String, DateTime\n",
    "import pymssql\n",
    "import requests\n",
    "#import time\n",
    "\n",
    "from opencage.geocoder import OpenCageGeocode\n",
    "from pprint import pprint"
   ]
  },
  {
   "cell_type": "code",
   "execution_count": 2,
   "metadata": {},
   "outputs": [],
   "source": [
    "# Load database access configuration from config/db_config.json\n",
    "with open('../config/db_config.json', 'r') as f:\n",
    "    db_config = json.load(f)\n",
    "\n",
    "# Access db credentials\n",
    "server = db_config['server']\n",
    "database = db_config['database']\n",
    "db_user = db_config['db_user']\n",
    "db_password = db_config['db_password']"
   ]
  },
  {
   "cell_type": "code",
   "execution_count": 3,
   "metadata": {},
   "outputs": [],
   "source": [
    "# Connect to SQL Database\n",
    "conn = pymssql.connect(server, db_user, db_password, database)\n",
    "\n",
    "# Create connection string for SQLAlchemy\n",
    "connection_string = f\"mssql+pymssql://{db_user}:{db_password}@{server}/{database}\"\n",
    "engine = create_engine(connection_string)"
   ]
  },
  {
   "cell_type": "code",
   "execution_count": 6,
   "metadata": {},
   "outputs": [
    {
     "name": "stdout",
     "output_type": "stream",
     "text": [
      "      id                date        lat        lon  temperature_2m  \\\n",
      "0  22614 2024-09-23 00:00:00  46.650143  10.230199            3.83   \n",
      "1  22614 2024-09-23 01:00:00  46.650143  10.230199            3.58   \n",
      "2  22614 2024-09-23 02:00:00  46.650143  10.230199            3.53   \n",
      "3  22614 2024-09-23 03:00:00  46.650143  10.230199            3.03   \n",
      "4  22614 2024-09-23 04:00:00  46.650143  10.230199            3.28   \n",
      "5  22614 2024-09-23 05:00:00  46.650143  10.230199            3.43   \n",
      "6  22614 2024-09-23 06:00:00  46.650143  10.230199            4.08   \n",
      "7  22614 2024-09-23 07:00:00  46.650143  10.230199            4.63   \n",
      "\n",
      "   relative_humidity_2m  dew_point_2m  apparent_temperature  precipitation  \\\n",
      "0                  94.0      2.952793              1.619223            0.0   \n",
      "1                  97.0      3.148276              1.358339            0.0   \n",
      "2                  96.0      2.951973              1.307380            0.0   \n",
      "3                 100.0      3.030000              0.968771            0.0   \n",
      "4                  92.0      2.104602              0.745353            0.0   \n",
      "5                  93.0      2.405120              1.065176            0.0   \n",
      "6                  88.0      2.270902              1.815085            0.0   \n",
      "7                  88.0      2.812870              2.381860            0.0   \n",
      "\n",
      "   rain  ...  surface_pressure  cloud_cover  cloud_cover_low  cloud_cover_mid  \\\n",
      "0   0.0  ...        784.580261         88.0             50.0             73.0   \n",
      "1   0.0  ...        783.860535         84.0             57.0             60.0   \n",
      "2   0.0  ...        783.516724         73.0             69.0              7.0   \n",
      "3   0.0  ...        783.001404         76.0             76.0              0.0   \n",
      "4   0.0  ...        782.797180         51.0             50.0              0.0   \n",
      "5   0.0  ...        783.136475         86.0             75.0             50.0   \n",
      "6   0.0  ...        782.833984        100.0             23.0              0.0   \n",
      "7   0.0  ...        783.305481         40.0             40.0              0.0   \n",
      "\n",
      "   cloud_cover_high  wind_speed_10m  wind_gusts_10m  is_day  \\\n",
      "0               0.0        4.024922            0.00     0.0   \n",
      "1               0.0        4.349896            9.00     0.0   \n",
      "2               0.0        4.104631            9.36     0.0   \n",
      "3               1.0        3.096837            0.00     0.0   \n",
      "4               7.0        5.191994            9.72     0.0   \n",
      "5               0.0        4.394360            9.72     0.0   \n",
      "6             100.0        3.545589            0.00     1.0   \n",
      "7               0.0        4.104631            8.64     1.0   \n",
      "\n",
      "   sunshine_duration   timestamp_apicall  \n",
      "0           0.000000 2024-09-23 22:53:14  \n",
      "1           0.000000 2024-09-23 22:53:14  \n",
      "2           0.000000 2024-09-23 22:53:14  \n",
      "3           0.000000 2024-09-23 22:53:14  \n",
      "4           0.000000 2024-09-23 22:53:14  \n",
      "5           0.000000 2024-09-23 22:53:14  \n",
      "6          35.778931 2024-09-23 22:53:14  \n",
      "7        3600.000000 2024-09-23 22:53:14  \n",
      "\n",
      "[8 rows x 24 columns]\n"
     ]
    }
   ],
   "source": [
    "df_weatherForecast = pd.read_sql_table(table_name='OPNM_WeatherForecast_1d_H', con=engine)\n",
    "print(df_weatherForecast.head(8))"
   ]
  },
  {
   "cell_type": "code",
   "execution_count": 7,
   "metadata": {},
   "outputs": [
    {
     "name": "stdout",
     "output_type": "stream",
     "text": [
      "           lat        lon\n",
      "0    46.650143  10.230199\n",
      "48   47.430977   9.620170\n",
      "96   47.351168   8.489780\n",
      "144  47.329124   8.500726\n",
      "192  47.315244   8.505056\n",
      "------------------------\n",
      "<class 'pandas.core.frame.DataFrame'>\n",
      "Index: 299 entries, 0 to 14352\n",
      "Data columns (total 2 columns):\n",
      " #   Column  Non-Null Count  Dtype  \n",
      "---  ------  --------------  -----  \n",
      " 0   lat     299 non-null    float64\n",
      " 1   lon     299 non-null    float64\n",
      "dtypes: float64(2)\n",
      "memory usage: 7.0 KB\n",
      "None\n"
     ]
    }
   ],
   "source": [
    "df_uniqueCoords = df_weatherForecast[['lat', 'lon']].drop_duplicates(subset=['lat', 'lon'], keep='first')\n",
    "print(df_uniqueCoords.head(5))\n",
    "print(\"------------------------\")\n",
    "print(df_uniqueCoords.info())"
   ]
  },
  {
   "cell_type": "code",
   "execution_count": 8,
   "metadata": {},
   "outputs": [
    {
     "name": "stdout",
     "output_type": "stream",
     "text": [
      "c:\\Users\\etien\\OneDrive\\02_Progression\\CAS_DataEngineering_ZHAW\\03_Leistungsnachweis\\Wanderwege\\notebooks\n"
     ]
    }
   ],
   "source": [
    "# Get current working directory\n",
    "current_dir = os.getcwd()\n",
    "print(current_dir)\n",
    "\n",
    "# c:\\Users\\etien\\OneDrive\\02_Progression\\CAS_DataEngineering_ZHAW\\03_Leistungsnachweis\\Wanderwege\\notebooks"
   ]
  },
  {
   "cell_type": "code",
   "execution_count": 9,
   "metadata": {},
   "outputs": [],
   "source": [
    "# Load API key from config/api_config.json file\n",
    "with open(\"../config/api_config.json\", 'r') as f:\n",
    "    api_config = json.load(f)\n",
    "\n",
    "api_key = api_config[\"api_key_opencage\"]\n",
    "#print(api_config)"
   ]
  },
  {
   "cell_type": "code",
   "execution_count": 13,
   "metadata": {},
   "outputs": [],
   "source": [
    "# Initializing geocoder\n",
    "geocoder = OpenCageGeocode(api_key)\n"
   ]
  },
  {
   "cell_type": "markdown",
   "metadata": {},
   "source": [
    "### Access multiple coordinates"
   ]
  },
  {
   "cell_type": "code",
   "execution_count": 14,
   "metadata": {},
   "outputs": [],
   "source": [
    "# Function to get detailed address information from latitude and longitude\n",
    "def get_address_from_coordinates(lat, lon):\n",
    "    url = f'https://api.opencagedata.com/geocode/v1/json?q={lat}+{lon}&key={api_key}'\n",
    "    response = requests.get(url)\n",
    "    if response.status_code == 200:\n",
    "        data = response.json()\n",
    "        if data['results']:\n",
    "            return data['results'][0]  # Return the first result entry\n",
    "        else:\n",
    "            return None  # No results found\n",
    "    else:\n",
    "        return None  # Error in request"
   ]
  },
  {
   "cell_type": "code",
   "execution_count": 15,
   "metadata": {},
   "outputs": [
    {
     "name": "stdout",
     "output_type": "stream",
     "text": [
      "[(46.650143, 10.2301992), (47.4309774, 9.62017), (47.351168, 8.4897796), (47.3291235, 8.5007261), (47.3152439, 8.5050559), (47.3164826, 8.5186003), (46.6864945, 8.5941959), (46.758293, 8.6574212), (47.5352432, 8.0967558), (46.8255681, 6.5042809), (46.83268, 6.5145084), (46.8356755, 6.522718), (46.8435439, 6.5313614), (46.8556668, 6.5501737), (46.8634566, 6.5658229), (46.8609414, 6.6144089), (46.8964957, 6.6098089), (47.3265932, 9.0257357), (47.3204765, 9.032205), (47.3139131, 9.0340285), (47.3096563, 9.0309978), (47.3005555, 9.0197317), (47.2960901, 9.0220985), (47.2915794, 9.0283607), (47.2808333, 9.0325995), (47.2717847, 9.0363372), (47.2671226, 9.040902), (47.3028875, 8.5080851), (47.2857101, 8.5134809), (47.2712226, 8.5262202), (47.2635986, 8.5335671), (47.2647956, 8.555493), (47.5490567, 8.1111345), (47.362355, 8.4906313), (47.3552026, 8.4892329), (47.3489275, 8.4994754), (47.2887772, 8.8581679), (47.295046, 8.850249), (47.285254, 8.8695647), (47.2831134, 8.8494622), (47.2750342, 8.8356737), (47.2776044, 8.8789713), (47.2819308, 8.8686143), (47.278424, 8.8240752), (47.2686736, 8.8243599), (47.2691917, 8.8436149), (47.268496, 8.8307534), (47.2646347, 8.8295722), (47.2616268, 8.843317), (47.2928383, 8.8341464), (47.2889124, 8.8389398), (47.2793684, 8.8162043), (47.273926, 8.8957778), (47.2715449, 8.864675), (47.2672644, 8.8559288), (47.2637302, 8.8556643), (47.2678451, 8.8666451), (47.2698096, 8.8204598), (47.2540752, 8.819909), (47.270668, 8.8120444), (47.2729998, 8.8442826), (47.2642278, 8.8520052), (47.2828357, 8.8697479), (47.2736486, 8.8562662), (47.3001847, 8.8212979), (47.2585925, 7.4437102), (47.2573848, 7.3944437), (47.2841676, 7.385936), (47.289226, 7.3930404), (47.2923335, 7.4015379), (47.2974282, 7.4120652), (47.3018145, 7.4201357), (47.2954952, 7.4551799), (47.2795081, 7.4549841), (47.2692217, 7.4606337), (47.2647082, 7.4663391), (47.3243165, 8.747488), (46.8276562, 9.3566913), (46.8148423, 9.3304239), (46.8071233, 9.3196379), (46.7992609, 9.2926408), (47.2733557, 9.4699772), (47.2847553, 9.4866094), (47.2873653, 9.4882582), (47.3004458, 9.4947814), (47.3076614, 9.4976513), (47.3116644, 9.4949743), (47.3208381, 9.4905903), (47.3291531, 9.4794768), (47.3264746, 9.4474003), (47.6020574, 8.2314126), (47.5843118, 8.2398148), (47.5745137, 8.2547056), (47.4705361, 7.1289368), (47.4643414, 7.0999051), (47.4532464, 7.0910017), (47.469056, 7.0695034), (47.4924464, 7.0359068), (47.1387062, 8.437855), (47.2300876, 9.3380956), (47.2210069, 9.3499408), (47.2281315, 9.3530293), (47.2291379, 9.3519242), (47.2340179, 9.3603323), (47.2403127, 9.3686166), (47.2245686, 9.3336317), (46.9552769, 8.3615696), (46.9519948, 8.3583168), (46.9496846, 8.3540999), (46.9472859, 8.3510576), (46.9435259, 8.3491933), (46.9360011, 8.3482672), (46.9316985, 8.3474707), (47.1050349, 8.675158), (47.094115, 8.6864452), (47.0731657, 8.6907012), (47.0603091, 8.6769881), (47.0653198, 8.6626505), (47.0730247, 8.6420986), (46.7598806, 7.5724681), (47.5711865, 8.1720509), (47.5735287, 8.1566963), (47.5657155, 8.1372072), (47.5768602, 8.1454112), (47.5845854, 8.153593), (47.5815338, 8.1638673), (46.6874174, 9.3699912), (46.6901223, 9.3641409), (46.706969, 9.3413993), (46.631392, 9.2784807), (47.2743819, 8.7933419), (47.2899811, 8.8731512), (47.2919467, 8.8717868), (47.3006265, 8.8538109), (47.2382059, 9.3533639), (47.2202034, 9.3339613), (47.2173451, 9.3378799), (47.2135064, 9.345522), (47.2111651, 9.3491776), (47.2071583, 9.3524133), (46.694031, 9.3579837), (46.6973702, 9.355783), (46.7026232, 9.3573366), (46.6149023, 9.2790415), (46.5916665, 9.2744012), (47.5831771, 8.1767364), (47.5770419, 8.1721576), (47.5700726, 8.1791919), (47.5555259, 8.1810596), (47.5844347, 8.1677826), (46.7582613, 7.5382492), (46.7623297, 7.5376834), (46.7624084, 7.5348264), (47.5358736, 8.180616), (47.5303159, 8.164051), (47.5237182, 8.1401891), (47.5316528, 8.1539101), (47.5516985, 8.1493464), (46.3697229, 10.0369988), (46.3621156, 10.046331), (46.3515016, 10.0477146), (46.3260896, 10.0565728), (47.5209172, 8.1705452), (46.3788051, 10.0309017), (46.3962758, 10.0267021), (46.4121423, 10.0137134), (46.4160309, 10.0048646), (46.4228898, 9.9985475), (46.4379612, 9.9872077), (46.4431775, 9.9747797), (46.4316523, 9.9934176), (47.5637093, 8.0882016), (47.4229054, 8.0566062), (47.426427, 8.0818478), (47.4214686, 8.0743602), (47.4243831, 8.1029744), (47.0384793, 8.6997849), (47.0318757, 8.6973159), (47.0292475, 8.6932785), (47.0313045, 8.6939265), (47.0338127, 8.6863747), (47.0377903, 8.6965291), (47.0439694, 8.7048389), (47.028879, 9.2448662), (47.3501403, 8.736159), (47.5250677, 8.0703421), (47.5279642, 8.0791207), (47.5201194, 8.0696143), (47.5087437, 8.0462899), (46.648122, 9.0926843), (46.6389767, 9.0757543), (46.6341223, 9.0596659), (46.6338109, 9.0340723), (46.6334198, 9.0094369), (46.623075, 8.9994194), (46.6025949, 9.0013488), (46.5831004, 8.9971843), (46.5708805, 8.9899191), (46.5647079, 8.9764791), (46.5305959, 8.9789582), (46.7538002, 7.5735557), (47.3779717, 8.4790121), (47.3743453, 8.4773379), (47.3679735, 8.4478256), (47.3734085, 8.432874), (47.3865239, 8.4628501), (47.382187, 8.4266496), (47.38982, 8.4392441), (47.3723332, 8.4616488), (47.058726, 8.4725542), (47.5969907, 8.2570831), (46.9794269, 9.4297457), (46.9793142, 9.4223706), (46.9788731, 9.4190178), (46.975409, 9.407224), (46.9650542, 9.3756508), (46.9661916, 9.3522379), (46.9814402, 9.3469641), (46.7729983, 8.7465782), (46.7815588, 8.7754817), (46.794795, 8.8083262), (46.7874793, 8.8033043), (46.7600689, 8.8063435), (46.7529915, 8.8466774), (46.741467, 8.8895135), (46.7236843, 8.9267996), (46.7219217, 8.9106556), (47.3391448, 8.769131), (47.0142772, 8.5555356), (47.0157944, 8.5638243), (47.380916, 7.7497248), (47.3811486, 7.7586338), (47.3786133, 7.771399), (47.3770474, 7.7850876), (47.3741066, 7.7953276), (47.3684208, 7.8000786), (47.3545211, 7.7655252), (47.3567646, 7.7589523), (47.369817, 7.7516528), (47.000845, 6.7975322), (47.017624, 6.8109911), (47.0265658, 6.8212958), (47.0374001, 6.8331348), (47.0487439, 6.8467639), (47.0548538, 6.8549186), (47.0640287, 6.8632931), (47.0592572, 6.870724), (47.0674127, 8.2184641), (47.0710115, 8.2077621), (47.0728553, 8.2115095), (47.0706224, 8.1985631), (47.0694164, 8.2220825), (47.0662254, 8.2255817), (47.0600906, 8.2084058), (47.0573093, 8.2275911), (47.0725778, 8.2264717), (47.0768969, 8.2242565), (47.3044062, 8.8478419), (47.0112425, 8.5674115), (46.8084915, 8.4287571), (46.8078592, 8.4333772), (46.802739, 8.4495195), (46.8090195, 8.449072), (46.7975812, 8.4661666), (46.7976513, 8.4884875), (46.8073903, 8.4987666), (46.8200857, 8.5091798), (46.8311462, 8.530723), (46.8387007, 8.5817857), (46.840937, 8.557679), (46.8441639, 8.5760813), (46.845412, 8.5944996), (46.8434325, 8.5991908), (46.8420383, 8.6069284), (47.2634571, 8.8113496), (47.2473322, 8.819107), (47.2454945, 8.8131129), (47.2558402, 8.8368723), (47.2481259, 8.8120372), (47.2428529, 8.8182308), (47.2420391, 8.8124552), (47.2397486, 8.8174886), (47.2381302, 8.815763), (47.2318108, 8.818105), (47.2327052, 8.8213298), (47.2318265, 8.8207999), (47.230459, 8.8215011), (47.2295259, 8.8204753), (47.2288785, 8.82153), (47.2268787, 8.8174746), (47.2268787, 8.8158322), (47.2249908, 8.8162452), (47.2540639, 8.7717979), (47.2599709, 8.7868148), (47.2692331, 8.8008541), (47.2614382, 8.7977432), (46.6717412, 6.4135073), (47.0350818, 9.0060363), (47.0250262, 9.0305856)]\n",
      "299\n"
     ]
    }
   ],
   "source": [
    "# List of coordinates to extract from API\n",
    "coordinates = list(zip(df_uniqueCoords['lat'], df_uniqueCoords['lon']))\n",
    "print(coordinates)\n",
    "print(len(coordinates))"
   ]
  },
  {
   "cell_type": "code",
   "execution_count": 16,
   "metadata": {},
   "outputs": [],
   "source": [
    "# Extract address data from API for each coordinate\n",
    "# Expected runtime: 90 seconds\n",
    "extracted_data = []\n",
    "for lat, lon in coordinates:\n",
    "    result = get_address_from_coordinates(lat, lon)\n",
    "    if result:\n",
    "        components = result['components']\n",
    "        extracted_data.append({\n",
    "            'lat': lat,\n",
    "            'lon': lon,\n",
    "            'country': components.get('country', 'N/A'),\n",
    "            'county': components.get('county', 'N/A'),\n",
    "            'local_administrative_area': components.get('local_administrative_area', 'N/A'),\n",
    "            'locality': components.get('locality', 'N/A'),\n",
    "            'postcode': components.get('postcode', 'N/A'),\n",
    "            'state': components.get('state', 'N/A'),\n",
    "            'state_code': components.get('state_code', 'N/A'),\n",
    "            'village': components.get('village', 'N/A')\n",
    "        })\n",
    "\n",
    "# Creating a DataFrame from the extracted data\n",
    "df_addresses = pd.DataFrame(extracted_data)\n"
   ]
  },
  {
   "cell_type": "code",
   "execution_count": 17,
   "metadata": {},
   "outputs": [],
   "source": [
    "# Add time and datestamp of API call to dataframe\n",
    "timestamp_apicall = pd.Timestamp.now().strftime(\"%Y-%m-%d %H:%M:%S\")\n",
    "df_addresses['timestamp_apicall'] = timestamp_apicall"
   ]
  },
  {
   "cell_type": "code",
   "execution_count": 24,
   "metadata": {},
   "outputs": [
    {
     "name": "stdout",
     "output_type": "stream",
     "text": [
      "<class 'pandas.core.frame.DataFrame'>\n",
      "RangeIndex: 299 entries, 0 to 298\n",
      "Data columns (total 11 columns):\n",
      " #   Column                     Non-Null Count  Dtype  \n",
      "---  ------                     --------------  -----  \n",
      " 0   lat                        299 non-null    float64\n",
      " 1   lon                        299 non-null    float64\n",
      " 2   country                    299 non-null    object \n",
      " 3   county                     299 non-null    object \n",
      " 4   local_administrative_area  299 non-null    object \n",
      " 5   locality                   299 non-null    object \n",
      " 6   postcode                   299 non-null    object \n",
      " 7   state                      299 non-null    object \n",
      " 8   state_code                 299 non-null    object \n",
      " 9   village                    299 non-null    object \n",
      " 10  timestamp_apicall          299 non-null    object \n",
      "dtypes: float64(2), object(9)\n",
      "memory usage: 25.8+ KB\n",
      "None\n",
      "------------------------\n",
      "         lat        lon      country                              county  \\\n",
      "0  46.650143  10.230199  Switzerland  Region Engiadina Bassa/Val Müstair   \n",
      "1  47.430977   9.620170  Switzerland                  Wahlkreis Rheintal   \n",
      "2  47.351168   8.489780  Switzerland                     District Zurich   \n",
      "3  47.329124   8.500726  Switzerland                    Bezirk Affoltern   \n",
      "4  47.315244   8.505056  Switzerland                    Bezirk Affoltern   \n",
      "5  47.316483   8.518600  Switzerland                       Bezirk Horgen   \n",
      "6  46.686495   8.594196  Switzerland                                 N/A   \n",
      "7  46.758293   8.657421  Switzerland                                 N/A   \n",
      "8  47.535243   8.096756  Switzerland                   Bezirk Laufenburg   \n",
      "9  46.825568   6.504281  Switzerland       District du Jura-Nord vaudois   \n",
      "\n",
      "  local_administrative_area    locality postcode       state state_code  \\\n",
      "0                    Zernez  Stabelchod     7530     Grisons         GR   \n",
      "1                   Berneck    Eichholz     9442  St. Gallen        N/A   \n",
      "2                    Zurich         N/A     8063      Zurich         ZH   \n",
      "3                 Stallikon         N/A     8143      Zurich         ZH   \n",
      "4                 Stallikon         N/A     8143      Zurich         ZH   \n",
      "5                  Adliswil         N/A     8134      Zurich         ZH   \n",
      "6                    Wassen         N/A     6484         Uri         UR   \n",
      "7                   Silenen         N/A     6476         Uri         UR   \n",
      "8                Laufenburg         N/A     5085      Aargau         AG   \n",
      "9              Sainte-Croix         N/A     1450        Vaud         VD   \n",
      "\n",
      "        village    timestamp_apicall  \n",
      "0        Zernez  2024-09-26 19:51:54  \n",
      "1       Berneck  2024-09-26 19:51:54  \n",
      "2           N/A  2024-09-26 19:51:54  \n",
      "3     Stallikon  2024-09-26 19:51:54  \n",
      "4     Stallikon  2024-09-26 19:51:54  \n",
      "5           N/A  2024-09-26 19:51:54  \n",
      "6        Wassen  2024-09-26 19:51:54  \n",
      "7        Amsteg  2024-09-26 19:51:54  \n",
      "8          Sulz  2024-09-26 19:51:54  \n",
      "9  Sainte-Croix  2024-09-26 19:51:54  \n"
     ]
    }
   ],
   "source": [
    "# Display the DataFrame\n",
    "print(df_addresses.info())\n",
    "print(\"------------------------\")\n",
    "print(df_addresses.head(10))    \n",
    "\n"
   ]
  },
  {
   "cell_type": "code",
   "execution_count": 19,
   "metadata": {},
   "outputs": [],
   "source": [
    "## Test - Save df_addresses to CSV in folder data/raw\n",
    "# df_addresses.to_csv('../data/processed/addresses_subset.csv', index=False)"
   ]
  },
  {
   "cell_type": "code",
   "execution_count": 20,
   "metadata": {},
   "outputs": [
    {
     "data": {
      "text/plain": [
       "Index(['lat', 'lon', 'country', 'county', 'local_administrative_area',\n",
       "       'locality', 'postcode', 'state', 'state_code', 'village',\n",
       "       'timestamp_apicall'],\n",
       "      dtype='object')"
      ]
     },
     "execution_count": 20,
     "metadata": {},
     "output_type": "execute_result"
    }
   ],
   "source": [
    "df_addresses.columns"
   ]
  },
  {
   "cell_type": "code",
   "execution_count": null,
   "metadata": {},
   "outputs": [],
   "source": [
    "# Write address dataframe to SQL table\n",
    "\n",
    "\"\"\" \n",
    "df_addresses.to_sql(\n",
    "    name='OPNC_Addresses',\n",
    "    con=engine,\n",
    "    if_exists='replace',\n",
    "    index=False,\n",
    "    dtype={\n",
    "        'lat': Column(Float, nullable=False),  # lat must be NOT NULL\n",
    "        'lon': Column(Float, nullable=False),  # lon must be NOT NULL\n",
    "        'country': Column(String(255), nullable=True),  \n",
    "        'county': Column(String(255), nullable=True),  \n",
    "        'local_administrative_area': Column(String(255), nullable=True),  \n",
    "        'locality': Column(String(255), nullable=True),  \n",
    "        'postcode': Column(String(255), nullable=True),  \n",
    "        'state': Column(String(255), nullable=True),  \n",
    "        'state_code': Column(String(255), nullable=True),  \n",
    "        'village': Column(String(255), nullable=True),  \n",
    "        'timestamp_apicall': Column(DateTime, nullable=False) \n",
    "    }\n",
    ")\n",
    "\"\"\""
   ]
  },
  {
   "cell_type": "code",
   "execution_count": 21,
   "metadata": {},
   "outputs": [],
   "source": [
    "# Create table if it doesn't exist and ingest data\n",
    "table_name = \"OPNC_Addresses\"\n",
    "query = f\"\"\"\n",
    "    IF OBJECT_ID(N'dbo.{table_name}', N'U') IS NULL\n",
    "    BEGIN\n",
    "        CREATE TABLE {table_name} (\n",
    "            lat                         FLOAT               NOT NULL,\n",
    "            lon                         FLOAT               NOT NULL,\n",
    "            country                     VARCHAR(255)        NULL,\n",
    "            county                      VARCHAR(255)        NULL,\n",
    "            local_administrative_area   VARCHAR(255)        NULL,\n",
    "            locality                    VARCHAR(255)        NULL,\n",
    "            postcode                    VARCHAR(255)        NULL,\n",
    "            state                       VARCHAR(255)        NULL,\n",
    "            state_code                  VARCHAR(255)        NULL,\n",
    "            village                     VARCHAR(255)        NULL,\n",
    "            timestamp_apicall           DATETIME            NULL,\n",
    "            \n",
    "            PRIMARY KEY (lat, lon)\n",
    "        );\n",
    "    END\n",
    "    \"\"\"\n",
    "\n",
    "conn = pymssql.connect(server, db_user, db_password, database)\n",
    "cursor = conn.cursor()\n",
    "cursor.execute(query)\n",
    "\n",
    "conn.commit()\n",
    "conn.close()"
   ]
  },
  {
   "cell_type": "code",
   "execution_count": 22,
   "metadata": {},
   "outputs": [],
   "source": [
    "# Create connection string for SQLAlchemy\n",
    "connection_string = f\"mssql+pymssql://{db_user}:{db_password}@{server}/{database}\"\n",
    "engine = create_engine(connection_string)"
   ]
  },
  {
   "cell_type": "code",
   "execution_count": 26,
   "metadata": {},
   "outputs": [
    {
     "data": {
      "text/plain": [
       "109"
      ]
     },
     "execution_count": 26,
     "metadata": {},
     "output_type": "execute_result"
    }
   ],
   "source": [
    "# Write data to database and append table\n",
    "df_addresses.to_sql(table_name, con=engine, if_exists='replace', index=False)"
   ]
  },
  {
   "cell_type": "markdown",
   "metadata": {},
   "source": [
    "### API Example - How to access only one address through the geocode API"
   ]
  },
  {
   "cell_type": "code",
   "execution_count": 11,
   "metadata": {},
   "outputs": [
    {
     "name": "stdout",
     "output_type": "stream",
     "text": [
      "[{'annotations': {'DMS': {'lat': \"46° 39' 46.96092'' N\",\n",
      "                          'lng': \"10° 14' 28.85964'' E\"},\n",
      "                  'MGRS': '32TNS9496568468',\n",
      "                  'Maidenhead': 'JN56cp89xd',\n",
      "                  'Mercator': {'x': 1140061.856, 'y': 5856154.734},\n",
      "                  'NUTS': {'NUTS0': {'code': 'CH'},\n",
      "                           'NUTS1': {'code': 'CH0'},\n",
      "                           'NUTS2': {'code': 'CH05'},\n",
      "                           'NUTS3': {'code': 'CH056'}},\n",
      "                  'OSM': {'edit_url': 'https://www.openstreetmap.org/edit?node=336132069#map=17/46.66304/10.24135',\n",
      "                          'note_url': 'https://www.openstreetmap.org/note/new#map=17/46.66304/10.24135&layers=N',\n",
      "                          'url': 'https://www.openstreetmap.org/?mlat=46.66304&mlon=10.24135#map=17/46.66304/10.24135'},\n",
      "                  'UN_M49': {'regions': {'CH': '756',\n",
      "                                         'EUROPE': '150',\n",
      "                                         'WESTERN_EUROPE': '155',\n",
      "                                         'WORLD': '001'},\n",
      "                             'statistical_groupings': ['MEDC']},\n",
      "                  'callingcode': 41,\n",
      "                  'currency': {'alternate_symbols': ['SFr', 'Fr'],\n",
      "                               'decimal_mark': '.',\n",
      "                               'format': '%u %n',\n",
      "                               'html_entity': '',\n",
      "                               'iso_code': 'CHF',\n",
      "                               'iso_numeric': '756',\n",
      "                               'name': 'Swiss Franc',\n",
      "                               'smallest_denomination': 5,\n",
      "                               'subunit': 'Rappen',\n",
      "                               'subunit_to_unit': 100,\n",
      "                               'symbol': 'CHF',\n",
      "                               'symbol_first': 1,\n",
      "                               'thousands_separator': ','},\n",
      "                  'flag': '🇨🇭',\n",
      "                  'geohash': 'u0r33n9xbwpbp1sy7y6w',\n",
      "                  'qibla': 126.34,\n",
      "                  'roadinfo': {'drive_on': 'right', 'speed_in': 'km/h'},\n",
      "                  'sun': {'rise': {'apparent': 1727327520,\n",
      "                                   'astronomical': 1727321460,\n",
      "                                   'civil': 1727325720,\n",
      "                                   'nautical': 1727323620},\n",
      "                          'set': {'apparent': 1727370420,\n",
      "                                  'astronomical': 1727376480,\n",
      "                                  'civil': 1727372220,\n",
      "                                  'nautical': 1727374320}},\n",
      "                  'timezone': {'name': 'Europe/Zurich',\n",
      "                               'now_in_dst': 1,\n",
      "                               'offset_sec': 7200,\n",
      "                               'offset_string': '+0200',\n",
      "                               'short_name': 'CEST'},\n",
      "                  'what3words': {'words': 'shudders.overcomes.markets'}},\n",
      "  'bounds': {'northeast': {'lat': 46.6730447, 'lng': 10.2513499},\n",
      "             'southwest': {'lat': 46.6530447, 'lng': 10.2313499}},\n",
      "  'components': {'ISO_3166-1_alpha-2': 'CH',\n",
      "                 'ISO_3166-1_alpha-3': 'CHE',\n",
      "                 'ISO_3166-2': ['CH-GR'],\n",
      "                 '_category': 'place',\n",
      "                 '_normalized_city': 'Zernez',\n",
      "                 '_type': 'hamlet',\n",
      "                 'continent': 'Europe',\n",
      "                 'country': 'Switzerland',\n",
      "                 'country_code': 'ch',\n",
      "                 'county': 'Region Engiadina Bassa/Val Müstair',\n",
      "                 'local_administrative_area': 'Zernez',\n",
      "                 'locality': 'Stabelchod',\n",
      "                 'postcode': '7530',\n",
      "                 'state': 'Grisons',\n",
      "                 'state_code': 'GR',\n",
      "                 'village': 'Zernez'},\n",
      "  'confidence': 8,\n",
      "  'distance_from_q': {'meters': 1668},\n",
      "  'formatted': '7530 Zernez, Switzerland',\n",
      "  'geometry': {'lat': 46.6630447, 'lng': 10.2413499}}]\n"
     ]
    }
   ],
   "source": [
    "# Printing results\n",
    "# Requesting address for one coordinate\n",
    "results = geocoder.reverse_geocode(46.6501430, 10.2301992)\n",
    "pprint(results)"
   ]
  },
  {
   "cell_type": "code",
   "execution_count": 12,
   "metadata": {},
   "outputs": [
    {
     "name": "stdout",
     "output_type": "stream",
     "text": [
      "         lat       lon      country                              county  \\\n",
      "0  46.663045  10.24135  Switzerland  Region Engiadina Bassa/Val Müstair   \n",
      "\n",
      "  local_administrative_area    locality postcode    state state_code village  \n",
      "0                    Zernez  Stabelchod     7530  Grisons         GR  Zernez  \n"
     ]
    }
   ],
   "source": [
    "# Extracting relevant attributes for one coordinate\n",
    "extracted_data = []\n",
    "for entry in results:\n",
    "    components = entry['components']\n",
    "    lat = entry['geometry']['lat']\n",
    "    lon = entry['geometry']['lng']\n",
    "    extracted_data.append({\n",
    "        'lat': lat,\n",
    "        'lon': lon,\n",
    "        'country': components['country'],\n",
    "        'county': components['county'],\n",
    "        'local_administrative_area': components['local_administrative_area'],\n",
    "        'locality': components['locality'],\n",
    "        'postcode': components['postcode'],\n",
    "        'state': components['state'],\n",
    "        'state_code': components['state_code'],\n",
    "        'village': components['village']\n",
    "    })\n",
    "\n",
    "# Creating a DataFrame\n",
    "df_example = pd.DataFrame(extracted_data)\n",
    "\n",
    "# Display the DataFrame\n",
    "print(df_example)"
   ]
  }
 ],
 "metadata": {
  "kernelspec": {
   "display_name": "www",
   "language": "python",
   "name": "python3"
  },
  "language_info": {
   "codemirror_mode": {
    "name": "ipython",
    "version": 3
   },
   "file_extension": ".py",
   "mimetype": "text/x-python",
   "name": "python",
   "nbconvert_exporter": "python",
   "pygments_lexer": "ipython3",
   "version": "3.12.5"
  }
 },
 "nbformat": 4,
 "nbformat_minor": 2
}
